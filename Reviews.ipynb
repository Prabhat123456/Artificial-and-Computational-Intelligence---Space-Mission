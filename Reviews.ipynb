{
  "nbformat": 4,
  "nbformat_minor": 0,
  "metadata": {
    "colab": {
      "provenance": [],
      "authorship_tag": "ABX9TyMOohlO97Gzf6olnbQGLvKm",
      "include_colab_link": true
    },
    "kernelspec": {
      "name": "python3",
      "display_name": "Python 3"
    },
    "language_info": {
      "name": "python"
    }
  },
  "cells": [
    {
      "cell_type": "markdown",
      "metadata": {
        "id": "view-in-github",
        "colab_type": "text"
      },
      "source": [
        "<a href=\"https://colab.research.google.com/github/Prabhat123456/Artificial-and-Computational-Intelligence---Space-Mission/blob/main/Reviews.ipynb\" target=\"_parent\"><img src=\"https://colab.research.google.com/assets/colab-badge.svg\" alt=\"Open In Colab\"/></a>"
      ]
    },
    {
      "cell_type": "code",
      "source": [
        "from sklearn.decomposition import TruncatedSVD\n",
        "from sklearn.decomposition import LatentDirichletAllocation, NMF\n",
        "from sklearn.manifold import TSNE\n",
        "from collections import Counter\n"
      ],
      "metadata": {
        "id": "tt-IAmAxUr8M"
      },
      "execution_count": null,
      "outputs": []
    },
    {
      "cell_type": "code",
      "execution_count": null,
      "metadata": {
        "colab": {
          "base_uri": "https://localhost:8080/"
        },
        "id": "jwnMqJeJrtAT",
        "outputId": "b146958b-53b8-4d02-9218-f256c60b8212"
      },
      "outputs": [
        {
          "output_type": "stream",
          "name": "stdout",
          "text": [
            "Mounted at /content/gdrive\n"
          ]
        }
      ],
      "source": [
        "from google.colab import drive \n",
        "drive.mount('/content/gdrive')\n"
      ]
    },
    {
      "cell_type": "markdown",
      "source": [
        "# New section"
      ],
      "metadata": {
        "id": "OV1ysqnbOB2q"
      }
    },
    {
      "cell_type": "code",
      "source": [
        "import pandas as pd \n",
        "df=pd.read_csv('/content/gdrive/MyDrive/ReviewsWithScore (1).csv')\n",
        "negativeDF = pd.read_csv('/content/gdrive/MyDrive/NegativeReviews.csv')\n"
      ],
      "metadata": {
        "id": "24wFEMLWsP4t"
      },
      "execution_count": null,
      "outputs": []
    },
    {
      "cell_type": "code",
      "source": [
        "df['Reviews']"
      ],
      "metadata": {
        "colab": {
          "base_uri": "https://localhost:8080/"
        },
        "id": "Cb1tABr1sVzD",
        "outputId": "da3521fa-0133-4060-81e5-d010bbaa8ebe"
      },
      "execution_count": null,
      "outputs": [
        {
          "output_type": "execute_result",
          "data": {
            "text/plain": [
              "0      I am in a hospital bed and was relying on my k...\n",
              "1      I’ve been using Walmart’s curbside pickup ever...\n",
              "2      So far, I’ve gotten all my orders in time.  I ...\n",
              "3      When sending to jail, it did not recognize the...\n",
              "4               So convenient.  First time using.  A++++\n",
              "                             ...                        \n",
              "495    Products I need are always available and deliv...\n",
              "496    The app and website are just not very easy to ...\n",
              "497           5 minutes late and they cancelled my order\n",
              "498    I am serious why I am able to complete the sur...\n",
              "499    Purchased 1 year membership of Walmart +. \\nNo...\n",
              "Name: Reviews, Length: 500, dtype: object"
            ]
          },
          "metadata": {},
          "execution_count": 5
        }
      ]
    },
    {
      "cell_type": "code",
      "source": [
        "negativeDF['Reviews']"
      ],
      "metadata": {
        "colab": {
          "base_uri": "https://localhost:8080/"
        },
        "id": "Q-j-pl_f_Eqb",
        "outputId": "a8d21e5d-a66a-4c7b-d363-cde5c4d399af"
      },
      "execution_count": null,
      "outputs": [
        {
          "output_type": "execute_result",
          "data": {
            "text/plain": [
              "0      Prices are getting too high. Stock is low and ...\n",
              "1      Shipping info on items were wrong and not just...\n",
              "2      shipping orders get stuck at facility 99% of t...\n",
              "3      What’s the point of scan & go if I have to wai...\n",
              "4      After I scan all my items and pay, they have a...\n",
              "                             ...                        \n",
              "154    never received my package \\nspent 1hour on the...\n",
              "155    People who are in nursing homes and only get s...\n",
              "156    The app and website are just not very easy to ...\n",
              "157           5 minutes late and they cancelled my order\n",
              "158    Purchased 1 year membership of Walmart +. \\nNo...\n",
              "Name: Reviews, Length: 159, dtype: object"
            ]
          },
          "metadata": {},
          "execution_count": 6
        }
      ]
    },
    {
      "cell_type": "code",
      "source": [
        "import nltk\n",
        "\n",
        "nltk.download('all')"
      ],
      "metadata": {
        "colab": {
          "base_uri": "https://localhost:8080/"
        },
        "id": "7n_74CqKwPeg",
        "outputId": "3bae7ff5-3f5e-4cf2-b76c-63bc3da6c0ac"
      },
      "execution_count": null,
      "outputs": [
        {
          "output_type": "stream",
          "name": "stderr",
          "text": [
            "[nltk_data] Downloading collection 'all'\n",
            "[nltk_data]    | \n",
            "[nltk_data]    | Downloading package abc to /root/nltk_data...\n",
            "[nltk_data]    |   Unzipping corpora/abc.zip.\n",
            "[nltk_data]    | Downloading package alpino to /root/nltk_data...\n",
            "[nltk_data]    |   Unzipping corpora/alpino.zip.\n",
            "[nltk_data]    | Downloading package averaged_perceptron_tagger to\n",
            "[nltk_data]    |     /root/nltk_data...\n",
            "[nltk_data]    |   Unzipping taggers/averaged_perceptron_tagger.zip.\n",
            "[nltk_data]    | Downloading package averaged_perceptron_tagger_ru to\n",
            "[nltk_data]    |     /root/nltk_data...\n",
            "[nltk_data]    |   Unzipping\n",
            "[nltk_data]    |       taggers/averaged_perceptron_tagger_ru.zip.\n",
            "[nltk_data]    | Downloading package basque_grammars to\n",
            "[nltk_data]    |     /root/nltk_data...\n",
            "[nltk_data]    |   Unzipping grammars/basque_grammars.zip.\n",
            "[nltk_data]    | Downloading package bcp47 to /root/nltk_data...\n",
            "[nltk_data]    | Downloading package biocreative_ppi to\n",
            "[nltk_data]    |     /root/nltk_data...\n",
            "[nltk_data]    |   Unzipping corpora/biocreative_ppi.zip.\n",
            "[nltk_data]    | Downloading package bllip_wsj_no_aux to\n",
            "[nltk_data]    |     /root/nltk_data...\n",
            "[nltk_data]    |   Unzipping models/bllip_wsj_no_aux.zip.\n",
            "[nltk_data]    | Downloading package book_grammars to\n",
            "[nltk_data]    |     /root/nltk_data...\n",
            "[nltk_data]    |   Unzipping grammars/book_grammars.zip.\n",
            "[nltk_data]    | Downloading package brown to /root/nltk_data...\n",
            "[nltk_data]    |   Unzipping corpora/brown.zip.\n",
            "[nltk_data]    | Downloading package brown_tei to /root/nltk_data...\n",
            "[nltk_data]    |   Unzipping corpora/brown_tei.zip.\n",
            "[nltk_data]    | Downloading package cess_cat to /root/nltk_data...\n",
            "[nltk_data]    |   Unzipping corpora/cess_cat.zip.\n",
            "[nltk_data]    | Downloading package cess_esp to /root/nltk_data...\n",
            "[nltk_data]    |   Unzipping corpora/cess_esp.zip.\n",
            "[nltk_data]    | Downloading package chat80 to /root/nltk_data...\n",
            "[nltk_data]    |   Unzipping corpora/chat80.zip.\n",
            "[nltk_data]    | Downloading package city_database to\n",
            "[nltk_data]    |     /root/nltk_data...\n",
            "[nltk_data]    |   Unzipping corpora/city_database.zip.\n",
            "[nltk_data]    | Downloading package cmudict to /root/nltk_data...\n",
            "[nltk_data]    |   Unzipping corpora/cmudict.zip.\n",
            "[nltk_data]    | Downloading package comparative_sentences to\n",
            "[nltk_data]    |     /root/nltk_data...\n",
            "[nltk_data]    |   Unzipping corpora/comparative_sentences.zip.\n",
            "[nltk_data]    | Downloading package comtrans to /root/nltk_data...\n",
            "[nltk_data]    | Downloading package conll2000 to /root/nltk_data...\n",
            "[nltk_data]    |   Unzipping corpora/conll2000.zip.\n",
            "[nltk_data]    | Downloading package conll2002 to /root/nltk_data...\n",
            "[nltk_data]    |   Unzipping corpora/conll2002.zip.\n",
            "[nltk_data]    | Downloading package conll2007 to /root/nltk_data...\n",
            "[nltk_data]    | Downloading package crubadan to /root/nltk_data...\n",
            "[nltk_data]    |   Unzipping corpora/crubadan.zip.\n",
            "[nltk_data]    | Downloading package dependency_treebank to\n",
            "[nltk_data]    |     /root/nltk_data...\n",
            "[nltk_data]    |   Unzipping corpora/dependency_treebank.zip.\n",
            "[nltk_data]    | Downloading package dolch to /root/nltk_data...\n",
            "[nltk_data]    |   Unzipping corpora/dolch.zip.\n",
            "[nltk_data]    | Downloading package europarl_raw to\n",
            "[nltk_data]    |     /root/nltk_data...\n",
            "[nltk_data]    |   Unzipping corpora/europarl_raw.zip.\n",
            "[nltk_data]    | Downloading package extended_omw to\n",
            "[nltk_data]    |     /root/nltk_data...\n",
            "[nltk_data]    | Downloading package floresta to /root/nltk_data...\n",
            "[nltk_data]    |   Unzipping corpora/floresta.zip.\n",
            "[nltk_data]    | Downloading package framenet_v15 to\n",
            "[nltk_data]    |     /root/nltk_data...\n",
            "[nltk_data]    |   Unzipping corpora/framenet_v15.zip.\n",
            "[nltk_data]    | Downloading package framenet_v17 to\n",
            "[nltk_data]    |     /root/nltk_data...\n",
            "[nltk_data]    |   Unzipping corpora/framenet_v17.zip.\n",
            "[nltk_data]    | Downloading package gazetteers to /root/nltk_data...\n",
            "[nltk_data]    |   Unzipping corpora/gazetteers.zip.\n",
            "[nltk_data]    | Downloading package genesis to /root/nltk_data...\n",
            "[nltk_data]    |   Unzipping corpora/genesis.zip.\n",
            "[nltk_data]    | Downloading package gutenberg to /root/nltk_data...\n",
            "[nltk_data]    |   Unzipping corpora/gutenberg.zip.\n",
            "[nltk_data]    | Downloading package ieer to /root/nltk_data...\n",
            "[nltk_data]    |   Unzipping corpora/ieer.zip.\n",
            "[nltk_data]    | Downloading package inaugural to /root/nltk_data...\n",
            "[nltk_data]    |   Unzipping corpora/inaugural.zip.\n",
            "[nltk_data]    | Downloading package indian to /root/nltk_data...\n",
            "[nltk_data]    |   Unzipping corpora/indian.zip.\n",
            "[nltk_data]    | Downloading package jeita to /root/nltk_data...\n",
            "[nltk_data]    | Downloading package kimmo to /root/nltk_data...\n",
            "[nltk_data]    |   Unzipping corpora/kimmo.zip.\n",
            "[nltk_data]    | Downloading package knbc to /root/nltk_data...\n",
            "[nltk_data]    | Downloading package large_grammars to\n",
            "[nltk_data]    |     /root/nltk_data...\n",
            "[nltk_data]    |   Unzipping grammars/large_grammars.zip.\n",
            "[nltk_data]    | Downloading package lin_thesaurus to\n",
            "[nltk_data]    |     /root/nltk_data...\n",
            "[nltk_data]    |   Unzipping corpora/lin_thesaurus.zip.\n",
            "[nltk_data]    | Downloading package mac_morpho to /root/nltk_data...\n",
            "[nltk_data]    |   Unzipping corpora/mac_morpho.zip.\n",
            "[nltk_data]    | Downloading package machado to /root/nltk_data...\n",
            "[nltk_data]    | Downloading package masc_tagged to /root/nltk_data...\n",
            "[nltk_data]    | Downloading package maxent_ne_chunker to\n",
            "[nltk_data]    |     /root/nltk_data...\n",
            "[nltk_data]    |   Unzipping chunkers/maxent_ne_chunker.zip.\n",
            "[nltk_data]    | Downloading package maxent_treebank_pos_tagger to\n",
            "[nltk_data]    |     /root/nltk_data...\n",
            "[nltk_data]    |   Unzipping taggers/maxent_treebank_pos_tagger.zip.\n",
            "[nltk_data]    | Downloading package moses_sample to\n",
            "[nltk_data]    |     /root/nltk_data...\n",
            "[nltk_data]    |   Unzipping models/moses_sample.zip.\n",
            "[nltk_data]    | Downloading package movie_reviews to\n",
            "[nltk_data]    |     /root/nltk_data...\n",
            "[nltk_data]    |   Unzipping corpora/movie_reviews.zip.\n",
            "[nltk_data]    | Downloading package mte_teip5 to /root/nltk_data...\n",
            "[nltk_data]    |   Unzipping corpora/mte_teip5.zip.\n",
            "[nltk_data]    | Downloading package mwa_ppdb to /root/nltk_data...\n",
            "[nltk_data]    |   Unzipping misc/mwa_ppdb.zip.\n",
            "[nltk_data]    | Downloading package names to /root/nltk_data...\n",
            "[nltk_data]    |   Unzipping corpora/names.zip.\n",
            "[nltk_data]    | Downloading package nombank.1.0 to /root/nltk_data...\n",
            "[nltk_data]    | Downloading package nonbreaking_prefixes to\n",
            "[nltk_data]    |     /root/nltk_data...\n",
            "[nltk_data]    |   Unzipping corpora/nonbreaking_prefixes.zip.\n",
            "[nltk_data]    | Downloading package nps_chat to /root/nltk_data...\n",
            "[nltk_data]    |   Unzipping corpora/nps_chat.zip.\n",
            "[nltk_data]    | Downloading package omw to /root/nltk_data...\n",
            "[nltk_data]    | Downloading package omw-1.4 to /root/nltk_data...\n",
            "[nltk_data]    | Downloading package opinion_lexicon to\n",
            "[nltk_data]    |     /root/nltk_data...\n",
            "[nltk_data]    |   Unzipping corpora/opinion_lexicon.zip.\n",
            "[nltk_data]    | Downloading package panlex_swadesh to\n",
            "[nltk_data]    |     /root/nltk_data...\n",
            "[nltk_data]    | Downloading package paradigms to /root/nltk_data...\n",
            "[nltk_data]    |   Unzipping corpora/paradigms.zip.\n",
            "[nltk_data]    | Downloading package pe08 to /root/nltk_data...\n",
            "[nltk_data]    |   Unzipping corpora/pe08.zip.\n",
            "[nltk_data]    | Downloading package perluniprops to\n",
            "[nltk_data]    |     /root/nltk_data...\n",
            "[nltk_data]    |   Unzipping misc/perluniprops.zip.\n",
            "[nltk_data]    | Downloading package pil to /root/nltk_data...\n",
            "[nltk_data]    |   Unzipping corpora/pil.zip.\n",
            "[nltk_data]    | Downloading package pl196x to /root/nltk_data...\n",
            "[nltk_data]    |   Unzipping corpora/pl196x.zip.\n",
            "[nltk_data]    | Downloading package porter_test to /root/nltk_data...\n",
            "[nltk_data]    |   Unzipping stemmers/porter_test.zip.\n",
            "[nltk_data]    | Downloading package ppattach to /root/nltk_data...\n",
            "[nltk_data]    |   Unzipping corpora/ppattach.zip.\n",
            "[nltk_data]    | Downloading package problem_reports to\n",
            "[nltk_data]    |     /root/nltk_data...\n",
            "[nltk_data]    |   Unzipping corpora/problem_reports.zip.\n",
            "[nltk_data]    | Downloading package product_reviews_1 to\n",
            "[nltk_data]    |     /root/nltk_data...\n",
            "[nltk_data]    |   Unzipping corpora/product_reviews_1.zip.\n",
            "[nltk_data]    | Downloading package product_reviews_2 to\n",
            "[nltk_data]    |     /root/nltk_data...\n",
            "[nltk_data]    |   Unzipping corpora/product_reviews_2.zip.\n",
            "[nltk_data]    | Downloading package propbank to /root/nltk_data...\n",
            "[nltk_data]    | Downloading package pros_cons to /root/nltk_data...\n",
            "[nltk_data]    |   Unzipping corpora/pros_cons.zip.\n",
            "[nltk_data]    | Downloading package ptb to /root/nltk_data...\n",
            "[nltk_data]    |   Unzipping corpora/ptb.zip.\n",
            "[nltk_data]    | Downloading package punkt to /root/nltk_data...\n",
            "[nltk_data]    |   Unzipping tokenizers/punkt.zip.\n",
            "[nltk_data]    | Downloading package qc to /root/nltk_data...\n",
            "[nltk_data]    |   Unzipping corpora/qc.zip.\n",
            "[nltk_data]    | Downloading package reuters to /root/nltk_data...\n",
            "[nltk_data]    | Downloading package rslp to /root/nltk_data...\n",
            "[nltk_data]    |   Unzipping stemmers/rslp.zip.\n",
            "[nltk_data]    | Downloading package rte to /root/nltk_data...\n",
            "[nltk_data]    |   Unzipping corpora/rte.zip.\n",
            "[nltk_data]    | Downloading package sample_grammars to\n",
            "[nltk_data]    |     /root/nltk_data...\n",
            "[nltk_data]    |   Unzipping grammars/sample_grammars.zip.\n",
            "[nltk_data]    | Downloading package semcor to /root/nltk_data...\n",
            "[nltk_data]    | Downloading package senseval to /root/nltk_data...\n",
            "[nltk_data]    |   Unzipping corpora/senseval.zip.\n",
            "[nltk_data]    | Downloading package sentence_polarity to\n",
            "[nltk_data]    |     /root/nltk_data...\n",
            "[nltk_data]    |   Unzipping corpora/sentence_polarity.zip.\n",
            "[nltk_data]    | Downloading package sentiwordnet to\n",
            "[nltk_data]    |     /root/nltk_data...\n",
            "[nltk_data]    |   Unzipping corpora/sentiwordnet.zip.\n",
            "[nltk_data]    | Downloading package shakespeare to /root/nltk_data...\n",
            "[nltk_data]    |   Unzipping corpora/shakespeare.zip.\n",
            "[nltk_data]    | Downloading package sinica_treebank to\n",
            "[nltk_data]    |     /root/nltk_data...\n",
            "[nltk_data]    |   Unzipping corpora/sinica_treebank.zip.\n",
            "[nltk_data]    | Downloading package smultron to /root/nltk_data...\n",
            "[nltk_data]    |   Unzipping corpora/smultron.zip.\n",
            "[nltk_data]    | Downloading package snowball_data to\n",
            "[nltk_data]    |     /root/nltk_data...\n",
            "[nltk_data]    | Downloading package spanish_grammars to\n",
            "[nltk_data]    |     /root/nltk_data...\n",
            "[nltk_data]    |   Unzipping grammars/spanish_grammars.zip.\n",
            "[nltk_data]    | Downloading package state_union to /root/nltk_data...\n",
            "[nltk_data]    |   Unzipping corpora/state_union.zip.\n",
            "[nltk_data]    | Downloading package stopwords to /root/nltk_data...\n",
            "[nltk_data]    |   Unzipping corpora/stopwords.zip.\n",
            "[nltk_data]    | Downloading package subjectivity to\n",
            "[nltk_data]    |     /root/nltk_data...\n",
            "[nltk_data]    |   Unzipping corpora/subjectivity.zip.\n",
            "[nltk_data]    | Downloading package swadesh to /root/nltk_data...\n",
            "[nltk_data]    |   Unzipping corpora/swadesh.zip.\n",
            "[nltk_data]    | Downloading package switchboard to /root/nltk_data...\n",
            "[nltk_data]    |   Unzipping corpora/switchboard.zip.\n",
            "[nltk_data]    | Downloading package tagsets to /root/nltk_data...\n",
            "[nltk_data]    |   Unzipping help/tagsets.zip.\n",
            "[nltk_data]    | Downloading package timit to /root/nltk_data...\n",
            "[nltk_data]    |   Unzipping corpora/timit.zip.\n",
            "[nltk_data]    | Downloading package toolbox to /root/nltk_data...\n",
            "[nltk_data]    |   Unzipping corpora/toolbox.zip.\n",
            "[nltk_data]    | Downloading package treebank to /root/nltk_data...\n",
            "[nltk_data]    |   Unzipping corpora/treebank.zip.\n",
            "[nltk_data]    | Downloading package twitter_samples to\n",
            "[nltk_data]    |     /root/nltk_data...\n",
            "[nltk_data]    |   Unzipping corpora/twitter_samples.zip.\n",
            "[nltk_data]    | Downloading package udhr to /root/nltk_data...\n",
            "[nltk_data]    |   Unzipping corpora/udhr.zip.\n",
            "[nltk_data]    | Downloading package udhr2 to /root/nltk_data...\n",
            "[nltk_data]    |   Unzipping corpora/udhr2.zip.\n",
            "[nltk_data]    | Downloading package unicode_samples to\n",
            "[nltk_data]    |     /root/nltk_data...\n",
            "[nltk_data]    |   Unzipping corpora/unicode_samples.zip.\n",
            "[nltk_data]    | Downloading package universal_tagset to\n",
            "[nltk_data]    |     /root/nltk_data...\n",
            "[nltk_data]    |   Unzipping taggers/universal_tagset.zip.\n",
            "[nltk_data]    | Downloading package universal_treebanks_v20 to\n",
            "[nltk_data]    |     /root/nltk_data...\n",
            "[nltk_data]    | Downloading package vader_lexicon to\n",
            "[nltk_data]    |     /root/nltk_data...\n",
            "[nltk_data]    | Downloading package verbnet to /root/nltk_data...\n",
            "[nltk_data]    |   Unzipping corpora/verbnet.zip.\n",
            "[nltk_data]    | Downloading package verbnet3 to /root/nltk_data...\n",
            "[nltk_data]    |   Unzipping corpora/verbnet3.zip.\n",
            "[nltk_data]    | Downloading package webtext to /root/nltk_data...\n",
            "[nltk_data]    |   Unzipping corpora/webtext.zip.\n",
            "[nltk_data]    | Downloading package wmt15_eval to /root/nltk_data...\n",
            "[nltk_data]    |   Unzipping models/wmt15_eval.zip.\n",
            "[nltk_data]    | Downloading package word2vec_sample to\n",
            "[nltk_data]    |     /root/nltk_data...\n",
            "[nltk_data]    |   Unzipping models/word2vec_sample.zip.\n",
            "[nltk_data]    | Downloading package wordnet to /root/nltk_data...\n",
            "[nltk_data]    | Downloading package wordnet2021 to /root/nltk_data...\n",
            "[nltk_data]    | Downloading package wordnet2022 to /root/nltk_data...\n",
            "[nltk_data]    |   Unzipping corpora/wordnet2022.zip.\n",
            "[nltk_data]    | Downloading package wordnet31 to /root/nltk_data...\n",
            "[nltk_data]    | Downloading package wordnet_ic to /root/nltk_data...\n",
            "[nltk_data]    |   Unzipping corpora/wordnet_ic.zip.\n",
            "[nltk_data]    | Downloading package words to /root/nltk_data...\n",
            "[nltk_data]    |   Unzipping corpora/words.zip.\n",
            "[nltk_data]    | Downloading package ycoe to /root/nltk_data...\n",
            "[nltk_data]    |   Unzipping corpora/ycoe.zip.\n",
            "[nltk_data]    | \n",
            "[nltk_data]  Done downloading collection all\n"
          ]
        },
        {
          "output_type": "execute_result",
          "data": {
            "text/plain": [
              "True"
            ]
          },
          "metadata": {},
          "execution_count": 7
        }
      ]
    },
    {
      "cell_type": "code",
      "source": [
        "import re\n",
        "from bs4 import BeautifulSoup\n",
        "#from nltk.corpus import stopwords\n",
        "stopwords = nltk.corpus.stopwords.words('english')\n"
      ],
      "metadata": {
        "id": "ezDd90XM-3SV"
      },
      "execution_count": null,
      "outputs": []
    },
    {
      "cell_type": "code",
      "source": [
        "def decontracted(phrase):\n",
        "    \"\"\"Convert contractions like \"can't\" into \"can not\"\n",
        "    \"\"\"\n",
        "    # specific\n",
        "    phrase = re.sub(r\"won\\'t\", \"will not\", phrase)\n",
        "    phrase = re.sub(r\"can\\'t\", \"can not\", phrase)\n",
        "\n",
        "    # general\n",
        "    phrase = re.sub(r\"\\'re\", \" are\", phrase)\n",
        "    phrase = re.sub(r\"\\'s\", \" is\", phrase)\n",
        "    phrase = re.sub(r\"\\'d\", \" would\", phrase)\n",
        "    phrase = re.sub(r\"\\'ll\", \" will\", phrase)\n",
        "    phrase = re.sub(r\"\\'t\", \" not\", phrase)\n",
        "    phrase = re.sub(r\"\\'ve\", \" have\", phrase)\n",
        "    phrase = re.sub(r\"\\'m\", \" am\", phrase)\n",
        "    return phrase"
      ],
      "metadata": {
        "id": "JUiAzDCM_dlm"
      },
      "execution_count": null,
      "outputs": []
    },
    {
      "cell_type": "code",
      "source": [
        "stopwords= set(['br', 'the', 'i', 'me', 'my', 'myself', 'we', 'our', 'ours', 'ourselves', 'you', \"you're\", \"you've\",\\\n",
        "            \"you'll\", \"you'd\", 'your', 'yours', 'yourself', 'yourselves', 'he', 'him', 'his', 'himself', \\\n",
        "            'she', \"she's\", 'her', 'hers', 'herself', 'it', \"it's\", 'its', 'itself', 'they', 'them', 'their',\\\n",
        "            'theirs', 'themselves', 'what', 'which', 'who', 'whom', 'this', 'that', \"that'll\", 'these', 'those', \\\n",
        "            'am', 'is', 'are', 'was', 'were', 'be', 'been', 'being', 'have', 'has', 'had', 'having', 'do', 'does', \\\n",
        "            'did', 'doing', 'a', 'an', 'the', 'and', 'but', 'if', 'or', 'because', 'as', 'until', 'while', 'of', \\\n",
        "            'at', 'by', 'for', 'with', 'about', 'against', 'between', 'into', 'through', 'during', 'before', 'after',\\\n",
        "            'above', 'below', 'to', 'from', 'up', 'down', 'in', 'out', 'on', 'off', 'over', 'under', 'again', 'further',\\\n",
        "            'then', 'once', 'here', 'there', 'when', 'where', 'why', 'how', 'all', 'any', 'both', 'each', 'few', 'more',\\\n",
        "            'most', 'other', 'some', 'such', 'only', 'own', 'same', 'so', 'than', 'too', 'very', \\\n",
        "            's', 't', 'can', 'will', 'just', 'don', \"don't\", 'should', \"should've\", 'now', 'd', 'll', 'm', 'o', 're', \\\n",
        "            've', 'y', 'ain', 'aren', \"aren't\", 'couldn', \"couldn't\", 'didn', \"didn't\", 'doesn', \"doesn't\", 'hadn',\\\n",
        "            \"hadn't\", 'hasn', \"hasn't\", 'haven', \"haven't\", 'isn', \"isn't\", 'ma', 'mightn', \"mightn't\", 'mustn',\\\n",
        "            \"mustn't\", 'needn', \"needn't\", 'shan', \"shan't\", 'shouldn', \"shouldn't\", 'wasn', \"wasn't\", 'weren', \"weren't\", \\\n",
        "            'won', \"won't\", 'wouldn', \"wouldn't\"])"
      ],
      "metadata": {
        "id": "azGcZ95AB7iK"
      },
      "execution_count": null,
      "outputs": []
    },
    {
      "cell_type": "code",
      "source": [
        "from tqdm import tqdm\n",
        "preprocessed_reviews = []\n",
        "sno = nltk.stem.SnowballStemmer('english') #initialising the snowball stemmer\n",
        "\n",
        "# tqdm is for printing the status bar\n",
        "for sentence in tqdm(df['Reviews'].values):\n",
        "    sentence = re.sub(r\"http\\S+\", \"\", sentence)\n",
        "    sentence = BeautifulSoup(sentence, 'lxml').get_text()\n",
        "    sentence = decontracted(sentence)\n",
        "    sentence = re.sub(\"\\S*\\d\\S*\", \"\", sentence).strip()\n",
        "    sentence = re.sub('[^A-Za-z]+', ' ', sentence)\n",
        "    # https://gist.github.com/sebleier/554280\n",
        "    sentence = ' '.join(sno.stem(e.lower()) for e in sentence.split() if e.lower() not in stopwords)\n",
        "    preprocessed_reviews.append(sentence.strip())"
      ],
      "metadata": {
        "colab": {
          "base_uri": "https://localhost:8080/"
        },
        "id": "p3sA0CtWvFmR",
        "outputId": "513faa09-22c5-442b-f14f-8d80d3c86c0d"
      },
      "execution_count": null,
      "outputs": [
        {
          "output_type": "stream",
          "name": "stderr",
          "text": [
            "  0%|          | 0/500 [00:00<?, ?it/s]<ipython-input-11-6862b689338b>:8: MarkupResemblesLocatorWarning: The input looks more like a filename than markup. You may want to open this file and pass the filehandle into Beautiful Soup.\n",
            "  sentence = BeautifulSoup(sentence, 'lxml').get_text()\n",
            "100%|██████████| 500/500 [00:00<00:00, 1856.48it/s]\n"
          ]
        }
      ]
    },
    {
      "cell_type": "code",
      "source": [
        "from tqdm import tqdm\n",
        "preprocessed_negativereviews = []\n",
        "sno = nltk.stem.SnowballStemmer('english') #initialising the snowball stemmer\n",
        "\n",
        "# tqdm is for printing the status bar\n",
        "for sentence in tqdm(negativeDF['Reviews'].values):\n",
        "    sentence = re.sub(r\"http\\S+\", \"\", sentence)\n",
        "    sentence = BeautifulSoup(sentence, 'lxml').get_text()\n",
        "    sentence = decontracted(sentence)\n",
        "    sentence = re.sub(\"\\S*\\d\\S*\", \"\", sentence).strip()\n",
        "    sentence = re.sub('[^A-Za-z]+', ' ', sentence)\n",
        "    # https://gist.github.com/sebleier/554280\n",
        "    sentence = ' '.join(sno.stem(e.lower()) for e in sentence.split() if e.lower() not in stopwords)\n",
        "    preprocessed_negativereviews.append(sentence.strip())"
      ],
      "metadata": {
        "colab": {
          "base_uri": "https://localhost:8080/"
        },
        "id": "-8jvXBVA_Nzr",
        "outputId": "f39aa588-745e-497e-a4ab-3aaadd46600a"
      },
      "execution_count": null,
      "outputs": [
        {
          "output_type": "stream",
          "name": "stderr",
          "text": [
            "  0%|          | 0/159 [00:00<?, ?it/s]<ipython-input-12-63fc3cd5afe2>:8: MarkupResemblesLocatorWarning: The input looks more like a filename than markup. You may want to open this file and pass the filehandle into Beautiful Soup.\n",
            "  sentence = BeautifulSoup(sentence, 'lxml').get_text()\n",
            "100%|██████████| 159/159 [00:00<00:00, 1323.51it/s]\n"
          ]
        }
      ]
    },
    {
      "cell_type": "code",
      "source": [],
      "metadata": {
        "id": "TUYbSjAqB3pG"
      },
      "execution_count": null,
      "outputs": []
    },
    {
      "cell_type": "code",
      "source": [
        "preprocessed_reviews"
      ],
      "metadata": {
        "colab": {
          "base_uri": "https://localhost:8080/"
        },
        "id": "y_PYKopgAtYh",
        "outputId": "8562fefc-d07b-4f73-93bd-ef596d0080cb"
      },
      "execution_count": null,
      "outputs": [
        {
          "output_type": "execute_result",
          "data": {
            "text/plain": [
              "['hospit bed reli kid bring groceri take toll realli appreci deliveri walmart hous great',\n",
              " 'use walmart curbsid pickup ever sinc start covid love love love save much time absolut wonder hope walmart continu servic forev thank walmart loyal custom forev',\n",
              " 'far gotten order time order mani time easi',\n",
              " 'send jail not recogn address order amazon',\n",
              " 'conveni first time use',\n",
              " 'graciasssssss',\n",
              " 'price get high stock low sub par shopper',\n",
              " 'convien better amazon',\n",
              " 'ship info item wrong not littl bit shop watercolor paint brush start grandchildren paint made note ever item put cart need deliv two day ad item two day ship hit complet sale would say deliveri may spent better part last two hour place thing cart would remov replac know least time mislead time consum walmart no longer go',\n",
              " 'ship order get stuck facil time never get order cancel either worker lazi purpos point',\n",
              " 'bill patient kind chase friend eager help find need pleasant peopl talk',\n",
              " 'complet satisfi find item need item suggest may forgotten',\n",
              " 'tire flood task use mobil place order pick easi conveni',\n",
              " 'point scan go wait line scan qr code',\n",
              " 'understand certain item price way normal price rang item would ordinarili cost cost make no sens would wonder could fix',\n",
              " 'scan item pay associ come scan item associ first time',\n",
              " 'alway feel easi process shop line walmart simpl process great product awesom price',\n",
              " 'grate option food deliv without transport also feed teenag quit time get order miss one time meat meat produc iffi found gave specif instruct like not send milk go expir day two pleas fresh produc manag satisfi area grate walmart listen issu usual fix fast yes inconveni plan birthday dinner child order get screw real bad overal servic four five appreci walmart offer servic',\n",
              " 'get item deliv',\n",
              " 'come walmart year wanda custom servic almost alway behind counter sweet kind alway know solv problem answer question patienc astound long line custom unhappi someth wanda alway respond nice word sweet smile hope walmart manag reward well',\n",
              " 'walmart need add filter user choos block product countri like china russia fact walmart continu support communist peopl republ china disturb n china state goal destroy us everi dollar spend help goal',\n",
              " 'pleas updat machin accept appl pay',\n",
              " 'let put sever item cart not say stock one time told stock check like five time went take stupid thing stock put cart',\n",
              " 'ebt card not',\n",
              " 'great job us senior appreci',\n",
              " 'scan receipt easili search purchas histori function no longer work app month pathet compani big wal mart let app degrad line',\n",
              " 'love use walmart deliveri item alway right driver alway time ship item not list',\n",
              " 'happi walmart howev hart tool especi batteri not last expens replac',\n",
              " 'great servic',\n",
              " 'like wall mart shop also like order thang cloth next week thank much',\n",
              " 'still problem pay gas walmart plus app',\n",
              " 'order onlin home deliveri',\n",
              " 'hav',\n",
              " 'beauti walmart afford custom friend trust keep custom simpli earth',\n",
              " 'love shop comfort home know onlin walmart order alway quick process deliv accord big thank walmart staff prompt',\n",
              " 'thank mariann shield n n no one',\n",
              " 'app smooth oper intuit inform great stride walmart onlin',\n",
              " 'temporari hold payment wayyyyy much take sever day get fund back time extra order stop use walmart deliveri long time switch shipt not necessari hold much extra',\n",
              " 'terribl walmart servic time past month driver either not deliv groceri go mia n nthe custom servic noth store noth not refund custom servic',\n",
              " 'deliveri person outstand let know one case water leak good know leak floor insid said report forgot report definit peopl person thank great deliveri person',\n",
              " 'need cancel free membership understand reward work no one call ask',\n",
              " 'cancel subscript still charg plus ask costum servic associ no custom servic line walmart subscript not subscrib se get charg next month',\n",
              " 'like order not wish would list would know pull someth order show everyth item tip like not tip set incom',\n",
              " 'great servic nice young man',\n",
              " 'young ladi young men bring groceri alway nice eager help anyth place groceri say ask need anyth els say thank great day love',\n",
              " 'love shop walmart line',\n",
              " 'see work return amazon xtreme electr jack hammer demolit would not sell ground pole driver rod see walmart sell cheaper thank',\n",
              " 'super center right employe awesom friend lot pick order amaz job love walmart store',\n",
              " 'love order line order most alway target pretti fast',\n",
              " 'realli enjoy pickup servic problem broken egg sever time',\n",
              " 'great store gave everyon time order rotisseri not put plastic bag spill car brought attent sever time still happen',\n",
              " 'app work fine last updat incompat voiceov read item descript',\n",
              " 'walmart site easi shop contain mani mani product brand choos like site set accept paypal',\n",
              " 'walmart great deliveri option',\n",
              " 'easi shop easi also',\n",
              " 'featur not good never use pickup groceri tie time time not good say least',\n",
              " 'walmart refus join rejoin walmart',\n",
              " 'time upgrad filter system place suggest spell word etc search come back time unrel item annoy paradigm shift onlin avail item would hazard guess item pickup nearest walmart minut no longer purchas basic stapl onlin forc shop elsewher use purchas week no everi month usual no respons work messag convey almost three year encourag review not react',\n",
              " 'great experi ogden utah store alway clean peopl alway friend deserv star rate',\n",
              " 'low rate tri use uhc benefit card item cover know elig everi month thing end add payment method',\n",
              " 'realli like order line realli wish could get groceri deliv instead pick live mile away friend get groceri deliv live away would will pay membership fee get groceri deliv hous n nthank npatsi ryan',\n",
              " 'wow walmart gone deep end walmart use place shop need caus unnecessari problem walmart plus suppos suppos make life easier man made difficult suppos get free day deliveri order time miss vital item order goe pickup custom servic employe call outsourc employe store ignor need help not pay month year walmart plus ever',\n",
              " 'love great alway greet smile enjoy short convo pickup',\n",
              " 'alway reliabl app websit servic custom servic alway help thank walmart',\n",
              " 'love eas find thing app free ship spend enough',\n",
              " 'egg bit',\n",
              " 'easi way get groceri thank',\n",
              " 'great select garden item includ pot plant stand',\n",
              " 'wife check home spot long line wait notic get lap car arriv get stuff leav still wait someon notic check manual final got stuff',\n",
              " 'thought faster scan app wrong wait line scan qr code check wait anoth min due connect checkout stand app disappoint',\n",
              " 'prepar horribl custom servic charg multipl time one month month membership prepar scammer deliv order sometim steal inform use scam later prepar overcharg product sometim say go get money back within day never time would not recommend unless last resort person opinion base upon experi firsthand encount take grain salt may peopl experi vari good luck',\n",
              " 'thank u',\n",
              " 'thank alway need time',\n",
              " 'first upset forc download app collect item alreadi paid requir accept full locat servic complet said pickup known invas basic order would internet privaci never would purchas walmart first place app clear data mine trap',\n",
              " 'not support appl pay',\n",
              " 'love use store home deliveri time alway fresh thing pick better love',\n",
              " 'walmart best',\n",
              " 'websit easi use clear identifi item avail store onlin',\n",
              " 'love walmart wide select thing choos especi cloth price great go shop want walmart make thing easier relax know order deliv safe thank walmart nbe happi no worri walmart',\n",
              " 'shelley awesom thank',\n",
              " 'enjoy shop groceri onlin press time coincident young man name joe assist groceri one occas yule walmart courteous gentl groceri alway smile certain brighten mani peopl day',\n",
              " 'purpos scan go wait forev associ final checkout',\n",
              " 'good price thank',\n",
              " 'time produc usual good save time usual pick',\n",
              " 'love not go insid lol',\n",
              " 'long sturdi great price high recommend',\n",
              " 'tri today like eas far',\n",
              " 'love fast servic',\n",
              " 'last night second time use app disappoint last saturday perfect place order girl deliv everyth wait check order make sure everyth right noth smash go back app place tip groceri suppos deliv last night pm next day still deliv friend work doordash said sinc select new tip driver not take order would appreci would let driver know still take order sometim want make sure everyth done correct know domino tip ahead time wait sometim hour half take tip back charg card alway tip would suggest tip day order sandwich doordash suggest four dollar tip select new tip guy left tip instead suggest dollar tip wait tabl throughout colleg knew import tip custom servic lack last coupl year debat want continu use groceri deliveri app go store pleas includ paperwork driver sign not alway judg person base new tip plus side abl alcohol deliv think depend town doordash obvious deliv anyth requir older even show shop call walmart store said oh no let anybodi pick prescript alcohol sign walmart need groceri get walgreen saw alcohol thought well let see new brain think everi town select box onlin state year old show id deliv no differ go store get also found groceri deliv add prescript order well no extra charg sinc free deliveri let face spend plus not walmart shopper never like custom servic shop local store fact happi deliveri screw deal poor custom servic say three time amount money shop not gave joe groceri custom prescript transfer locat fyi go pharmaci person show driver licens put file sign paperwork',\n",
              " 'tip',\n",
              " 'thank',\n",
              " 'general would say app could easili star chang checkout process ridicul chang tip prefer amount everi petti chang n nhelp understand especi day analyt rocket scientist bentonvill not know cumul histor prefer divert prefer everi chanc get',\n",
              " 'walmart app go best price alway want',\n",
              " 'love walmart easi follow shop cours forget unbeat price thanx walmart',\n",
              " 'app extraordinarili frustrat whenev updat lose abil check onlin pickup',\n",
              " 'user friend help app',\n",
              " 'thank',\n",
              " 'alway shop onlin groceri time item find easi navig thru app also extrem help consid car shop coupl month alway sever anxieti store shop especi get regist find help abl onlin alway friend peopl deliv item issu alway receiv item order thank abl shop onlin janic kidwel',\n",
              " 'app keep crash edit substitut past month pleas fix make imposs get done',\n",
              " 'love get groceri deliv walmart peopl great help love time save buy groceri way',\n",
              " 'love day ship ship avail bring car',\n",
              " 'first time order line nit challeng first nveri conveni thank',\n",
              " 'found tire super cheap happi',\n",
              " 'took awhil app process order weigh item took minut also',\n",
              " 'clean well stack wonder employe nthank ntami hamilton',\n",
              " 'sorri sound',\n",
              " 'walmart site user friend price competit',\n",
              " 'love qualiti consist conveni onlin shop walmart',\n",
              " 'go back',\n",
              " 'curbsid pickup time effici',\n",
              " 'game keyboard excel experi walmart onlin app servic excel',\n",
              " 'fed ex drop ball twice deliveri except app great shipper drop ball order left limbo time',\n",
              " 'love easi use store navig item easi order onlin show best price',\n",
              " 'put info tedious best',\n",
              " 'love walmart remind order last time miss anyth n ni love keep tell sort filter prefer exampl can food item search select reselect price give pack highest price item first make place order take longer',\n",
              " 'mani item come diet sprite great valu pack bottl water smaller amount plastic adult hanger great valu non pickl beet mayb rememb',\n",
              " 'price scanner main thing use app no longer work accident delet walmart app redownload start give wrong price everyth scan',\n",
              " 'walmart pick great experi term custom servic peopl bring groceri car alway pleasant polit often offer treat dog come along ride effici kind thing unavail need substitut often would like never good experi item avail deliveri mail alway take much longer told',\n",
              " 'morn went pick food order eddi help tri figur app seem pull check cellphon caught eddi park lot ask help nwhat great kid polit help young man said bring order right away actual bring immedi car wow best servic ever pickup order store last year pandem issu nthis guy go place hang valuabl employe work ethic kind determin often see age could like give star scale thank eddi',\n",
              " 'love fact free ship anyth want no minimum member',\n",
              " 'worst onlin shop web program hard find inform item doubl click item show small photo',\n",
              " 'never app not work slowli app nnot worth minut order item app lose order',\n",
              " 'alway seem find best price deliveri quick qualiti item purchas good anywher els n nlook forward get greenhous safe place seed germin not get eaten bird etc nlike shelv lot seed indoor plant go also room put shelf unit back want probabl',\n",
              " 'walmart better amazon favorit shop',\n",
              " 'littl confus first eventu got',\n",
              " 'tk kim',\n",
              " 'not use app use groceri pickup alway hold extra dollar say weight item understand not understand hold money week even month time give back dollar hold order updat proper recharg togeth sum dollar remov account yesterday updat charg alreadi paid made month ago disput bank day away pay rent call walmart custom servic not care even problem say man spoke never ask name number zip code pull account state account pull ask name simpli said could hang call someon like say worst experi ever use app link kind card take money no warn no worri regard would honest give zero star could',\n",
              " 'give star clean delici l cook love love love',\n",
              " 'ahm neighborhood walmart holli hill florida awesom pick fast polit definit great experi',\n",
              " 'disabl drive ni wish would ship opportun ni love walmart one fav',\n",
              " 'servic excel far order groceri onlin yet next',\n",
              " 'pleas associ gather order ncheck date make sure not expir close expir would help custom thank',\n",
              " 'usual good servic respons question thank',\n",
              " 'doubl charg googl constant issu swipe month later alreadi paid temporari hold fee item never avail switch item come differ state',\n",
              " 'thing dislik walmart item alway unavail no matter earli order frustrat pay deliveri home order enough everyon pleas help',\n",
              " 'want leav comment young man deliv pickup order jan friend effici courteous serv us last time hope see soon nthe potter',\n",
              " 'not best improv',\n",
              " 'call custom servic today walmart pay not work say car walmart get transfer five six differ peopl last one said transfer nobodi els payment depart noth irrit told call back start not happi custom servic get walmart pay fix work right updat app chang password noth help delet app reinstal still noth crazi gave one star use app year no issu today custom servic help good',\n",
              " 'great app conveni easi navig home store save time money',\n",
              " 'enjoy use walmart app person groceri gift need homeless live hotel abl get food eat cloth due easi check fast deliveri walmart abl use walmart pay debit card onlin egift card make purchas like app show much save well thank walmart make app great',\n",
              " 'love walmart caus walmart plus member get stuff deliv ship shop onlin pick store love walmart app',\n",
              " 'walmart substitut item order approv substitut ship not like substitut throw substitut cancel subscript',\n",
              " 'app good featur check actual app wait messag sent phone follow link check kind frustrat',\n",
              " 'super reason price qualiti fresh food impecc custom servic along extraordinari deliveri servic',\n",
              " 'join walmart plus first deliveri order seven item came six bag not larg item immedi cancel hate wast plastic decid give second tri two item substitut nowher near origin order nupdat walmart respond review way made appreci interest enough chang review littl',\n",
              " 'th',\n",
              " 'easi use user friend thank',\n",
              " 'not give star lazi someon els shop no addit charg mean item occasion happen surviv even rememb item still step foot store kept pjs take kid car tell no buy sweet multipl time could unload car get home no addit cost',\n",
              " 'hospit household need item get hope work',\n",
              " 'app goe super slow ipad take option no option put product cart even slower take long order groceri',\n",
              " 'alway feel easi light weight load well',\n",
              " 'walmart alway need',\n",
              " 'great product',\n",
              " 'show stock number look back took forev mayb minut get back say not even show onlin store order onlin wait next day come back get item stock correct pleas',\n",
              " 'let delet old mail address least figur',\n",
              " 'price ridicul guess look littl man low incom',\n",
              " 'amaz custom experi user friend ebt featur godsend love walmart take care',\n",
              " 'alway look walmart comparison shop onlin sometim better deal great app instal devic',\n",
              " 'want entir order ship could see option pick half order',\n",
              " 'far much less money good qualiti',\n",
              " 'word explain app mean',\n",
              " 'love walmart',\n",
              " 'thing ship deliv pickup discret store not individu driver never find resid deliv not option ship item also need let peopl know go contact resid nobodi told gonna text outsid know run phone everi time heard ding even ring doorbel insan must think peopl sit bate breath wait stuff walmart need refin system make sens never success gotten order walmart live far away system work realli prefer mail everyth never driver look resid nbecaus easi find none driver ever find deliv stuff order kind random peopl walmart said loss',\n",
              " 'tire receiv counterfeit good mail order proper merchant',\n",
              " 'sell stuff not avail sale',\n",
              " 'walmart hire anybodi includ peopl low geograph skill order deliv wrong address starv tornado outsid',\n",
              " 'spent hour enter order enter sever time seem not work went way store knew noth saw name no product held area receiv messag',\n",
              " 'take away option search specif store item vs onlin mistak use app check local store actual sell avail order onlin imposs tell exact store carri item need',\n",
              " 'pleas walmart recogn unusu purchas cancel order great appreci let peopl great custom servic',\n",
              " 'awesom',\n",
              " 'excel servic good attitud',\n",
              " 'ii',\n",
              " 'niec work week live north west citi im not physic abl live downtown apart work hour day cannot pickup deliv order home week receiv deliveri day avail saturday deliveri schedul saturday instead set deliveri friday guarante not abl receiv order no one avail',\n",
              " 'best price best deal',\n",
              " 'label order get cancel day prior arriv week wait no comunicaci n not post someth dont inventori seller irrespons ship date deliveri never arriv review dont get display nicknam use not avail conveni attribut notyp notext',\n",
              " 'not happi min charg',\n",
              " 'fabul job deliv care',\n",
              " 'order deliv differ day caus inconveni moment onlin deliveri seem disorgan disappoint walmart',\n",
              " 'look walmart app find histori item purchas none search histori turn thing want sell not thing interest see search engin app poor design disappoint',\n",
              " 'app fine often use tri locat someth store like abil put thing cart pickup option killer refus support appl pay omg get program',\n",
              " 'love',\n",
              " 'love app walmart pick howev app bug need fix',\n",
              " 'todo muy sencillo f cil para comprar',\n",
              " 'broke payday abl get groceri last',\n",
              " 'twin fall idaho best lifesav friend famili reli walmart pickup servic keep famili safe virus thank npleas make sure pay everyon live wage',\n",
              " 'alreadi gotten money worth',\n",
              " 'easi use rememb favorit item make order breez',\n",
              " 'no dark mode option make hard visual impair',\n",
              " 'lo mejor que tienen es el servicio de pickup f cil r pido muy convenient lo recomiendo las empleada que han atendido en canovana puerto rico son muy amabl servicial',\n",
              " 'autist son month old app made life much easier love instead pack risk meltdown store shop need deliv home focus energi better mama',\n",
              " 'go amazon wait day',\n",
              " 'impress',\n",
              " 'w appli item order not smartphon app graphic small no real indic w appli order',\n",
              " 'en el iphon mini no salen completo los art culo de la columna del lado izquierdo ojal puedan solucionar ese inconvenient ya que mucha vece la mayor de vece no sale el precio completo',\n",
              " 'great custom store great howev purchas four dine chair within day broke wood leg tri get return told go owner wait day no refund exchang noth',\n",
              " 'tri three time use scan',\n",
              " 'coupl thing wish buyer could shop line nit would nice space could leav comment order groceri like order banana would place could ask green one select groceri could ask not put onion anyth sack nover pleas groceri',\n",
              " 'app lot deal',\n",
              " 'order walmart app usual offer discount get checkout time huh ni realli look forward cookbook though',\n",
              " 'wallet stolen charg item around begin april today charg thing buy',\n",
              " 'alway feel easi light weight load well',\n",
              " 'walmart alway need',\n",
              " 'great product',\n",
              " 'show stock number look back took forev mayb minut get back say not even show onlin store order onlin wait next day come back get item stock correct pleas',\n",
              " 'let delet old mail address least figur',\n",
              " 'price ridicul guess look littl man low incom',\n",
              " 'amaz custom experi user friend ebt featur godsend love walmart take care',\n",
              " 'alway look walmart comparison shop onlin sometim better deal great app instal devic',\n",
              " 'want entir order ship could see option pick half order',\n",
              " 'far much less money good qualiti',\n",
              " 'word explain app mean',\n",
              " 'love walmart',\n",
              " 'thing ship deliv pickup discret store not individu driver never find resid deliv not option ship item also need let peopl know go contact resid nobodi told gonna text outsid know run phone everi time heard ding even ring doorbel insan must think peopl sit bate breath wait stuff walmart need refin system make sens never success gotten order walmart live far away system work realli prefer mail everyth never driver look resid nbecaus easi find none driver ever find deliv stuff order kind random peopl walmart said loss',\n",
              " 'tire receiv counterfeit good mail order proper merchant',\n",
              " 'sell stuff not avail sale',\n",
              " 'walmart hire anybodi includ peopl low geograph skill order deliv wrong address starv tornado outsid',\n",
              " 'spent hour enter order enter sever time seem not work went way store knew noth saw name no product held area receiv messag',\n",
              " 'take away option search specif store item vs onlin mistak use app check local store actual sell avail order onlin imposs tell exact store carri item need',\n",
              " 'pleas walmart recogn unusu purchas cancel order great appreci let peopl great custom servic',\n",
              " 'awesom',\n",
              " 'excel servic good attitud',\n",
              " 'ii',\n",
              " 'niec work week live north west citi im not physic abl live downtown apart work hour day cannot pickup deliv order home week receiv deliveri day avail saturday deliveri schedul saturday instead set deliveri friday guarante not abl receiv order no one avail',\n",
              " 'best price best deal',\n",
              " 'label order get cancel day prior arriv week wait no comunicaci n dont post someth dont inventori seller irrespons ship date deliveri never arriv review dont get display nicknam use not avail conveni',\n",
              " 'not happi min charg',\n",
              " 'fabul job deliv care',\n",
              " 'order deliv differ day caus inconveni moment onlin deliveri seem disorgan disappoint walmart',\n",
              " 'look walmart app find histori item purchas none search histori turn thing want sell not thing interest see search engin app poor design disappoint',\n",
              " 'app fine often use tri locat someth store like abil put thing cart pickup option killer refus support appl pay omg get program',\n",
              " 'love',\n",
              " 'love app walmart pick howev app bug need fix',\n",
              " 'todo muy sencillo f cil para comprar',\n",
              " 'broke payday abl get groceri last',\n",
              " 'twin fall idaho best lifesav friend famili reli walmart pickup servic keep famili safe virus thank npleas make sure pay everyon live wage',\n",
              " 'alreadi gotten money worth',\n",
              " 'easi use rememb favorit item make order breez',\n",
              " 'no dark mode option make hard visual impair',\n",
              " 'lo mejor que tienen es el servicio de pickup f cil r pido muy convenient lo recomiendo las empleada que han atendido en canovana puerto rico son muy amabl servicial',\n",
              " 'autist son month old app made life much easier love instead pack risk meltdown store shop need deliv home focus energi better mama',\n",
              " 'go amazon wait day',\n",
              " 'impress',\n",
              " 'w appli item order not smartphon app graphic small no real indic w appli order',\n",
              " 'en el iphon mini no salen completo los art culo de la columna del lado izquierdo ojal puedan solucionar ese inconvenient ya que mucha vece la mayor de vece no sale el precio completo',\n",
              " 'great custom store great howev purchas four dine chair within day broke wood leg tri get return told go owner wait day no refund exchang noth',\n",
              " 'tri three time use scan',\n",
              " 'coupl thing wish buyer could shop line nit would nice space could leav comment order groceri like order banana would place could ask green one select groceri could ask not put onion anyth sack nover pleas groceri',\n",
              " 'app lot deal',\n",
              " 'order walmart app usual offer discount get checkout time huh ni realli look forward cookbook though',\n",
              " 'wallet stolen charg item around begin april today charg thing buy',\n",
              " 'anthem insur recommend anoth otc compani suck came back walmart super fast great deliveri option never leav walmart otc suppli',\n",
              " 'use even not place order app use navig store find everyth',\n",
              " 'recent order merchandis walmart com origin three king toy collect nmi order near immedi process w order status ship status nthe merch arriv day earlier origin estim nthe collect packag pristin condit nif market certain toy collect check three king toy collect first ni bet ya glad',\n",
              " 'shop loung chair great ship unparallel n nsave time gas no park space pickup perfect older folk especi weather ideal',\n",
              " 'good price',\n",
              " 'love walmart app figur price buy product feel walmart brand need fix walmart pay option caus jus went store use allow buy thing wast time money',\n",
              " 'great servic',\n",
              " 'account alway get hack walmart',\n",
              " 'app easi order price benevol retire',\n",
              " 'shop walmart lapeer mi sinc expand sometim littl frustrat find item move nfortun ran associ name linda lt help take look look forward shop end result happi shopper',\n",
              " 'f cil r pido econ mico',\n",
              " 'mel friend deliv order vehicl nice guy great see real custom servic good job mel',\n",
              " 'love order walmart get chanc make town buy need suppli quick accur',\n",
              " 'think item sent store not charg custom deliveri charg',\n",
              " 'appl ipad finicki app better experi web base howev not fan design choic use popup modal drill product would much prefer page view right hand slide space also initi found buy button littl confus next count button know count button reflect automat regular cart',\n",
              " 'ok',\n",
              " 'alway pleasa',\n",
              " 'work great mani inconveni iron still not quit easi find thing amazon app unlik amazon app walmart app much take onlin order not general problem',\n",
              " 'love shop line walmart excel servic thank much josephin',\n",
              " 'problem order call number wait minut talk repres',\n",
              " 'best store riversid',\n",
              " 'make life easi norder get car servic found great item walmart lot less recommend dealership ngo walmart go nlove price item sooooo much nlook forward becom walmart influenc n nfw nflorida',\n",
              " 'disabl person walmart deliveri help wish way add someth last moment',\n",
              " 'love deliveri pick upboth',\n",
              " 'make hard spend money get beyond frustrat come store shop payment process pleas chang justsayno shop walmart',\n",
              " 'total happi order walmart',\n",
              " 'love conveni',\n",
              " 'love use app get home deliveri driver kind capabl master use app item care pick deliv front door decent hardwork peopl wish could tip great servic',\n",
              " 'thank much guy make life much easier kudo',\n",
              " 'stop buy can food produc pickup can dent produc bag bad go bad',\n",
              " 'thank walmart home deliveri bless year old mom live minut much easier call get groceri list phone deliv right door love receiv order next day tri add someth special order make day thank much servic',\n",
              " 'use',\n",
              " 'love love love groceri deliveri well worth year time save shopper usual pretti good job sometim wish would take littl time pick best produc alway tip well feel like work hard shop well advic shopper pick produc like pick check expir date dairi alway pull back n usual increas tip groceri deliv everyth super fresh',\n",
              " 'excel servic anyon not time abil purchas groceri item old tradit way addit paramount includ wal mart month servic no one could go wrong use wal mart servic',\n",
              " 'ariella excel job friend focus get groceri place safe car',\n",
              " 'updat review april big app offer far less usabl former offer pharmaci no longer avail app manag famili prescript done browser websit not conveni search continu abysm use filter amount foreign seller make pay close attent order not get scam not direct sold walmart expect either not get shipment sent someth differ order pay close attent click ni miss ship store store local store often want stock say stock store go no longer ship pickup local store gone downhil nmi list difficult find app requir sever click final get sometim see someth run wait room add list come back see want order tri ti get back list difficult although appreci list app need make easier find like use n nthe app continu go downhil along physic store sad use lot busi groceri shop order walmart',\n",
              " 'love free ship avail',\n",
              " 'cant buy tire walmart com bought success came told tire warranti pick tire caught flat nail tire week later order anoth tire day later email say tire order cancel tri check cancel happen no success local walmart ghetto know anyth new tire old tire damag car time final abl order tire car week later pick ever buy tire walmart com',\n",
              " 'love',\n",
              " 'aubre profession great job',\n",
              " 'like best easi navig page get best result difficult question first one simpl search first two common one second one problem peopl first problem first one problem comput work one bit complic first one littl complic second one littl detail first two line complic know problem first two page first page complic first page second page simpl second one',\n",
              " 'star enough allow walmart pleasur shop pick product need either furri kid rest human famili arriv quick price compar shop opportun avail thank walmart keep great work',\n",
              " 'love abl locat item store use app',\n",
              " 'said one',\n",
              " 'use actual go store',\n",
              " 'love walmart chang lot mani item miss onlin order price get high run item much disappoint walmart',\n",
              " 'sever problem app even unabl chang individu pick groceri would not allow select number star review peopl good technolog par',\n",
              " 'imag walmart open woah',\n",
              " 'onlin shop groceri item year far great',\n",
              " 'walmart short packag great valu mint fudg cooki june cooki walmart paid nbim estapa',\n",
              " 'disappoint drive walmart purchas inch tv tv swivel store either stock ok went inch order tv swivel onlin guess wait week longer watch tv btw hard order onlin site nhad keep press noth happen nd phelan',\n",
              " 'find difficult navig walmart app henc order lot',\n",
              " 'place order get cancel within minut due suspici activ',\n",
              " 'walmart peopl',\n",
              " 'issu drive cold food item would way conveni',\n",
              " 'add appl pay store onlin order',\n",
              " 'bread stuf not bread isl hunt store find stuf common sens need appli guess time go anoth groceri common sens time import',\n",
              " 'iov app hate freez upon checkout take time click submit order differ transact hold transact bc take day get back account',\n",
              " 'get better time walmart famili steal patron money stop weight debit nyou su misappropri fund peopl shop elsewher',\n",
              " 'far realli enjoy surpris forgot add ship usual n nand pay one time year deliveri discount price realli appeal',\n",
              " 'alway best price',\n",
              " 'time unabl get drive store pickup app allow choic ad certain item ship item could easili put order deliv home',\n",
              " 'believ question answer nthank item got see wait nthank',\n",
              " 'easi use deliveri fast realli help',\n",
              " 'like automat add donat money sneaki',\n",
              " 'love shop without go store thank',\n",
              " 'add anoth person address send order simpl go ship address add one satisfi',\n",
              " 'receiv multipl warn say site experienc technic issu call custom servic rep interrupt final start complet took hour order item ridicul',\n",
              " 'es una aplicaci n muy completa buen sistema precio demasiado acces para cualquier cosa que necesit env gratuito por cualquier compra',\n",
              " 'first time everyth went smooth',\n",
              " 'use websit easi use found exact want enjoy free ship use',\n",
              " 'order product cancel due possibl fraud inform verifi site annoy inform system work',\n",
              " 'add cart button everi item come either like button save later buy right item cart',\n",
              " 'easi comfort complet applic',\n",
              " 'love',\n",
              " 'crack egg slimi cucumb',\n",
              " 'app work well except one major issu voiceov not read descript detail item name product no idea check fix version ago problem came back hope one resolv soon would realli like buy product',\n",
              " 'thank save work day plus app super easi navig find item place order',\n",
              " 'muy calidad',\n",
              " 'believ pay servic part year fee not pay tip understand say tip option even ad option order make feel though tip not includ driver rip custom understand tip food deliveri driver domino etc not paid fee deliveri sent us let billionair non tax pay walton pay employe certain deserv consid crap employe put walmart sure hurt money',\n",
              " 'app track purchas track credit card els take shopper awar know everyth purchas keep inform store store',\n",
              " 'trust year',\n",
              " 'nice',\n",
              " 'walmart deliv product servic',\n",
              " 'custom servic joke spend day wait day deliveri spoke peopl differ answer nobodi help make excus get sane page answer delay promis discount see cancel order genius nthis place hot mess store onlin',\n",
              " 'john amaz deliveri man alway polit courtesi alway arriv time even earli thank john',\n",
              " 'would like use reward purchas',\n",
              " 'alway depend walmart',\n",
              " 'sometim milk close expir date',\n",
              " 'cordial came right groceri arriv enter spot thank dev',\n",
              " 'far good great price select auto batteri wait deliveri',\n",
              " 'abl item ship choos',\n",
              " 'great app widget not work',\n",
              " 'app kept kick refus credit card feel like soon health improv no longer use app nor recommend target get busi',\n",
              " 'love walli mart',\n",
              " 'sent review state not option pay walmart card walmart compani not show option put card number except energi chang thank much updat page recommend',\n",
              " 'best app ever',\n",
              " 'alway great price servic experi thank',\n",
              " 'deliv wrong item ni order simpli appl juic got peach juic put no substitut order colon cancer drank appl juic time day drive anymor see well handicap mobil issu depend deliveri servic surviv',\n",
              " 'abl locat item look thank walmart',\n",
              " 'cash tender slow',\n",
              " 'friend',\n",
              " 'ship take way long wait week product',\n",
              " 'hour suppos get groceri still noth no call no text no email get groceri app realli anyth anyway',\n",
              " 'would like control quantiti select substitut option',\n",
              " 'app good easi navig problem walmart sometim charg card money suppos refund money everi time still want pay',\n",
              " 'groceri stunk like carton cigarett nthe driver must chain smoke minut took get hous nveri bad',\n",
              " 'wonder n easi n store return conveni',\n",
              " 'good servic cheap product',\n",
              " 'love walmart app place order use item order past pick conveni easi free',\n",
              " 'app well design complaint inconsist item locat store use abl see find certain thing list recent locat aisl number item list',\n",
              " 'app made unauthor charg via credit card file use paypal not sure app issu never use app due fact charg card without permiss',\n",
              " 'give walmart app five star alway reli app time day night shop look latest item favorit shop',\n",
              " 'addict order leav work whoever thought freakin genius',\n",
              " 'problem deal walmart constant miss deliveri no explan tarri wait human discount meanwhil whole idea deliveri actual deliv product reach nada get anyon actual take corpor respons',\n",
              " 'sugar item see diabet much real sugar need add section substitut page request certain item substitut specif type like sugar free pancak syrup replac anoth brand sugar free syrup item chang real sugar item time go wast eat',\n",
              " 'work walmart alway pleasur shop also simpl get tire want set appoint get put car thank',\n",
              " 'purchas line kept take money not',\n",
              " 'good qualiti',\n",
              " 'last order deliv time bread bit squish not bad enough complain order complet',\n",
              " 'good stuff happi',\n",
              " 'alway impress staff camdenton walmart servic friendli keep come back order alway well pack correct worker nice',\n",
              " 'got order contain salsa leak bag nhow return get refund',\n",
              " 'surpris much valu w probabl sign day free trial also deliveri excel whoever design program rock great valu sure also use free ship enjoy free paramount need advertis program oop forget gas discount everyon need check',\n",
              " 'whole cart readi order app suggest add someth ad item rest order disappear wast time',\n",
              " 'man got home ca back spokan wa rais eat',\n",
              " 'simpl use',\n",
              " 'pay month fee order deliv well worth thing like limit wish could order cloth lol seem petti sometim pinch someth simpl shirt get app bad overal',\n",
              " 'love app gripe never alllw search previous purchas search state noth found would great could fix',\n",
              " 'wonder servic nbe older ladi bless someon get groceri checkout groceri bring car n thank god servic nthank much',\n",
              " 'easi navig use app differ payment method app offer amaz conveni use',\n",
              " 'alway enjoy get good deal walmart',\n",
              " 'pioneer woman instapot give burn notic everi time use would like return refund box',\n",
              " 'deliveri charg much go back instacart cheaper',\n",
              " 'order incorrect glenn fix everyth quick polit thank',\n",
              " 'wish would allow order product ship sinc live far away store allow vendor product expens ship',\n",
              " 'buyer bewar purchas tv stand walmart product qualiti last less year chose use allstat protect plan sinc purchas claim not gift card send bad check amount product contact better busi bureau get money still refus pay amount due bounc check bank charg ongo case sinc novemb pleas purchas protect plan refund',\n",
              " 'app easi use big sur desk mainfram websit easi use poodl order new hairbrush',\n",
              " 'want say start use servic first happi would like thank wade depart nice good job thank wade walmart south knoxvill store',\n",
              " 'newest iphon internet high speed screen jump let scroll look option',\n",
              " 'love shop onlin',\n",
              " 'thank numer home deliveri mani time could not go food shop nmobil health covid issu kept us home bound mani month time last year thank walmart nfor high appreci servic w',\n",
              " 'great small recharg tv love got earlier expect ship work great high recommend walmart',\n",
              " 'continu amaz unusu item walmart get free ship boot nthank walmart',\n",
              " 'daniel alway courteous effici bring order load car want know much appreci',\n",
              " 'alway pleasur use easi use app enjoy free deliveri use walmart plus featur sure member long time',\n",
              " 'live inlaw apart lowest level hard us carri stuff downstair work great us howev someth goe wrong order pretti hard get correct not often take lot effort get correct wish could track driver idea arriv',\n",
              " 'watch granddaught get shop alway easi task conveni pick item import thank',\n",
              " 'walmart found way wast time much away store app constant screw take sometim hour get order custom servic messag thing take anoth coupl hour work custom servic connect walmart store pretti much bridg gap communic lot work walmart know lot better keep custom happi',\n",
              " 'easi use conveni great search abil varieti product option',\n",
              " 'quick easi deliv prompt',\n",
              " 'save time energi money love',\n",
              " 'nice vitamin deliv need happi servic no need shop anywher els',\n",
              " 'not surpris see app often incorrect item stock app decept ship forget report develop store app store feder trade commiss fraud u feder law consum fair review act wall mart enjoy app websit well report decept practic well easi pretend good review deceiv consum store promot sea scammer love deceiv consum amazon crack lot flood report bbb well hate use app hate spend money store way send anoth report ftc hope day soon fine hundr million not billion',\n",
              " 'billion dollar compani app absolut terribl',\n",
              " 'great select nwalmart conveni shop line nnever issu order line shipment alway arriv prompt nthank servic nlove catch free ship',\n",
              " 'app first time order item walmart easi thank make life easi',\n",
              " 'thank walmart shopper complet groceri order deliv item car peopl polit remind item not get put everyth trunk big help well done thank',\n",
              " 'amazon prime compar walmart plus renew prime membership thank walmart not compet prime beat',\n",
              " 'walmart app smooth easi use love like look item help rememb thing track confid',\n",
              " 'alway happi purchas store line site easi navig check process even easier also appreci email text regardless ship great compani fit anyon budget',\n",
              " 'receiv receipt pick today would like email',\n",
              " 'son xbox stop work week not permit exchang not makjng larg purchas walmart go forward',\n",
              " 'easi shop basic home wardrob',\n",
              " 'anyth good came result walmart decis allow custom place order app employe gather order deliv vehicl app not allow custom not decid shop find certain product want bother employe app tell find store',\n",
              " 'app user friend alway find look fast deliveri',\n",
              " 'love shop walmart',\n",
              " 'place onlin order wish ship home app not give option two item pick store not prefer no way chang',\n",
              " 'yesterday sam club scan qr code app said select fuel grade great right nope get secur error entir line behind upset hold line crappi app tri no luck today mobil select pump select pump time said select anoth pump tri pump no luck junk app happen pay walmart plus',\n",
              " 'easi point senior pandem groceri deliv no problem door thank god worker',\n",
              " 'love use app order deliv save much time',\n",
              " 'homelin look amaz great job store',\n",
              " 'went use reward said would avail checkout nand know charg card no option reward ntri cancel order',\n",
              " 'one interact app ever use help ton especi shop around',\n",
              " 'depend groceri deliveri sinc drive walmart servic excel order correct deliv prompt everyth intact definit plus star',\n",
              " 'disabl work great sign deliveri way open not left porch cannot get porch receiv',\n",
              " 'shop app super easi food price store mani store charg not walmart appreci',\n",
              " 'would four star not walmart allow predat post thing like one cereal box ship post exampl go past first ten item shop sudden price might go ridicul ship charg might see can soup price behavior everywher not even slow amazon realiz year ago need polic seller peopl turn squint hidden charg attempt trick buy overcharg item ni absolut sick predatori behavior allow flourish within walmart marketplac enough alreadi',\n",
              " 'previous order amazon mani time system complic take look amazon easi thank',\n",
              " 'want pay walmart card never receiv one code back simpli use phone expect automat option thought',\n",
              " 'thank make life easi free deliveri hous',\n",
              " 'thank hr block tax season',\n",
              " 'dddd',\n",
              " 'good',\n",
              " 'wonder servic associ bring order alway friend help thank',\n",
              " 'dirti gas pump dirti store old date technolog equip grow respect peopl peopl spend money dirti disrespect store support shopper keep make crap share holder god bless work hard non respect place share holder pray stone cold heart not alway look million may loos one day due no respect amen',\n",
              " 'made download app check pickup done without app want privaci data pickup done delet app need app track tri get buy thing',\n",
              " 'polit peopl work walmart love store',\n",
              " 'ver',\n",
              " 'use year alway great mess someth work well',\n",
              " 'alway provid excel custom servic nway go guy',\n",
              " 'simpl navig brows great select order nshop never stress free',\n",
              " 'app kick good credit card time',\n",
              " 'star',\n",
              " 'pleas send stuff order paid order delay sinc april not happi custom',\n",
              " 'order faith time someth stock challeng came locat order purchas product day walk curious caus peopl across world use deliveri app get due work home etc',\n",
              " 'great',\n",
              " 'good store onlin buy everyth need',\n",
              " 'site need easier navig',\n",
              " 'awesom altern shop store local store not pleasant visit nthis amaz altern great price',\n",
              " 'difficult make second order time differ credit card',\n",
              " 'want groceri without bag alway set skip bag default',\n",
              " 'account hack ad differ address differ state purchas time caught not walmart paypal cancel hour even tell hack still charg wait busi day refund noth help fix anyth',\n",
              " 'love buy onlin make difficult life littl better thank',\n",
              " 'made purchas onlin last week full week later money still not retun make purchas within min cancel order order slight better product charg charg know walmart shopper hundr extra dollar walmart keep would want money back billion dollar compani hold long forget issu togeth',\n",
              " 'order book set deliv day wait wait chat time no idea said stuck process told cancel reorder wait annoy',\n",
              " 'let updat credit card info',\n",
              " 'paid subscript walmart everytim tri purchas someth say sold not abl take advantag subscript except two thing bought',\n",
              " 'shopper need train today receiv bag carrot use date april today also box rot strawberri luckili alex caught save trip happen except someon like alex catch nalex get star shopper get alex walnut grove walmart rosemead ca',\n",
              " 'label sever time order item return wrong item sent go way return vendor not event apolog us wrong item number item not even credit exampl order mattress receiv expens season ever attribut notyp notext',\n",
              " 'god bless',\n",
              " 'easi order want',\n",
              " 'nicol great job athen tx pickup today friend quick servic profession',\n",
              " 'want ship membership',\n",
              " 'awesom pick associ phenomen thank',\n",
              " 'might help start one year old review congratul nthat said probabl okay like walmart grow pain caught suggest take slight breather catch late receiv deliveri front door fourth floor n nyou need keep train deliveri peopl bag prepar order deliveri nas well driver load groceri vehicl also deliv groceri multi floor apart n neven basic like egg bread realli bottom everyth along milk oj gallon contain load bottom not top deliveri n nyou get keep thing go piec come back bite nmost import keep price afford us old fart full hot air want say wisdom guess debat',\n",
              " 'let use app buy stuff',\n",
              " 'great user experi',\n",
              " 'trash polici want refund',\n",
              " 'amass no hassl great mechan',\n",
              " 'goood',\n",
              " 'nice websit order stuff drive side place pick order realli cool not lot place',\n",
              " 'love free groceri deliveri critic invok minimum limit without notic cost money deliveri wound pay fee tip item worth known would wait combin order time seen tv ad say worri forget item',\n",
              " 'love walmart beat store one stop shop betti b fort scott ks',\n",
              " 'order walmart deliveri sever year extrem pleas deliveri system time item left poor qualiti took quick messag walmart app problem solv definit recommend servic anyon want save time item purchas lower price differ groceri store realli want run sever store save dollar time gas save shop walmart deliveri make worthwhil',\n",
              " 'save costum money wic benefit also avail use onlin also time slot avail amount costum not cut time better conveni',\n",
              " 'chose month deliveri option work great busi schedul go right walmart app place order deliv prompt time everytim love deliveri option go store exercis',\n",
              " 'issu not abl add item order fix',\n",
              " 'thank walmart pickup alway greet smile employe alway super friend help thank newport oregon walmart',\n",
              " 'thank',\n",
              " 'order receiv expect time complet somehow miss opportun tip driver get receipt chang tip',\n",
              " 'place order week ago receiv email refund not request no idea happen item not gonna may',\n",
              " 'never want substitut make set account instead rememb everi order n nthank',\n",
              " 'order deliveri parent complaint bit frustrat tri go app chang order go move shop seem want revert back deliveri address',\n",
              " 'easi purchas',\n",
              " 'game good',\n",
              " 'liter everyth',\n",
              " 'make easier list separ',\n",
              " 'mani thing find buy line order item could not find place els',\n",
              " 'great suitcas great price',\n",
              " 'go seldom sinc pandem due fact live parkinson diseas compromis immun system realli appreci time effort care employe expend place order type',\n",
              " '',\n",
              " 'difficult confus websit blend non walmart supplier actual walmart store',\n",
              " 'never receiv packag nspent phone get refund npass one guy anoth tell go send email see request accept n nwoauhhhh n nmi kid never present birthday nightmar not n nwouah never order walmart ever',\n",
              " 'peopl nurs home get ssdi ssi pay kind fee pay bill get everi month need need save whole month love walli world much not fair',\n",
              " 'product need alway avail deliv time manner never issu onlin order',\n",
              " 'app websit not easi use',\n",
              " 'minut late cancel order',\n",
              " 'serious abl complet survey call rais store would say best associ walmart ever cleanest walmart ever friendliest walmart nthank kind',\n",
              " 'purchas year membership walmart nno groceri deliveri area use fuel discount want back love scan go well io iphon gen se app not scan go updat phone delet reinstal app still not work nobodi store help either']"
            ]
          },
          "metadata": {},
          "execution_count": 13
        }
      ]
    },
    {
      "cell_type": "code",
      "source": [
        "from sklearn.feature_extraction.text import CountVectorizer\n",
        "\n",
        "vectorizer = CountVectorizer() \n",
        "xTotalReviews = vectorizer.fit_transform(preprocessed_reviews)\n",
        "finaltotalReviews = pd.DataFrame(xTotalReviews.toarray(), columns =vectorizer.get_feature_names_out())\n",
        "finaltotalReviews"
      ],
      "metadata": {
        "colab": {
          "base_uri": "https://localhost:8080/",
          "height": 424
        },
        "id": "7KpRaCntAjr_",
        "outputId": "e3eb9dc8-c2ae-4693-e3e6-5930dd358cfa"
      },
      "execution_count": null,
      "outputs": [
        {
          "output_type": "execute_result",
          "data": {
            "text/plain": [
              "     abil  abl  absolut  abysm  accept  acces  accident  accord  account  \\\n",
              "0       0    0        0      0       0      0         0       0        0   \n",
              "1       0    0        1      0       0      0         0       0        0   \n",
              "2       0    0        0      0       0      0         0       0        0   \n",
              "3       0    0        0      0       0      0         0       0        0   \n",
              "4       0    0        0      0       0      0         0       0        0   \n",
              "..    ...  ...      ...    ...     ...    ...       ...     ...      ...   \n",
              "495     0    0        0      0       0      0         0       0        0   \n",
              "496     0    0        0      0       0      0         0       0        0   \n",
              "497     0    0        0      0       0      0         0       0        0   \n",
              "498     0    1        0      0       0      0         0       0        0   \n",
              "499     0    0        0      0       0      0         0       0        0   \n",
              "\n",
              "     accur  ...  xtreme  ya  year  yes  yesterday  yet  young  yule  zero  zip  \n",
              "0        0  ...       0   0     0    0          0    0      0     0     0    0  \n",
              "1        0  ...       0   0     0    0          0    0      0     0     0    0  \n",
              "2        0  ...       0   0     0    0          0    0      0     0     0    0  \n",
              "3        0  ...       0   0     0    0          0    0      0     0     0    0  \n",
              "4        0  ...       0   0     0    0          0    0      0     0     0    0  \n",
              "..     ...  ...     ...  ..   ...  ...        ...  ...    ...   ...   ...  ...  \n",
              "495      0  ...       0   0     0    0          0    0      0     0     0    0  \n",
              "496      0  ...       0   0     0    0          0    0      0     0     0    0  \n",
              "497      0  ...       0   0     0    0          0    0      0     0     0    0  \n",
              "498      0  ...       0   0     0    0          0    0      0     0     0    0  \n",
              "499      0  ...       0   0     1    0          0    0      0     0     0    0  \n",
              "\n",
              "[500 rows x 1584 columns]"
            ],
            "text/html": [
              "\n",
              "  <div id=\"df-57e5c2bb-9e20-4643-b0bb-cf46817b2a2c\">\n",
              "    <div class=\"colab-df-container\">\n",
              "      <div>\n",
              "<style scoped>\n",
              "    .dataframe tbody tr th:only-of-type {\n",
              "        vertical-align: middle;\n",
              "    }\n",
              "\n",
              "    .dataframe tbody tr th {\n",
              "        vertical-align: top;\n",
              "    }\n",
              "\n",
              "    .dataframe thead th {\n",
              "        text-align: right;\n",
              "    }\n",
              "</style>\n",
              "<table border=\"1\" class=\"dataframe\">\n",
              "  <thead>\n",
              "    <tr style=\"text-align: right;\">\n",
              "      <th></th>\n",
              "      <th>abil</th>\n",
              "      <th>abl</th>\n",
              "      <th>absolut</th>\n",
              "      <th>abysm</th>\n",
              "      <th>accept</th>\n",
              "      <th>acces</th>\n",
              "      <th>accident</th>\n",
              "      <th>accord</th>\n",
              "      <th>account</th>\n",
              "      <th>accur</th>\n",
              "      <th>...</th>\n",
              "      <th>xtreme</th>\n",
              "      <th>ya</th>\n",
              "      <th>year</th>\n",
              "      <th>yes</th>\n",
              "      <th>yesterday</th>\n",
              "      <th>yet</th>\n",
              "      <th>young</th>\n",
              "      <th>yule</th>\n",
              "      <th>zero</th>\n",
              "      <th>zip</th>\n",
              "    </tr>\n",
              "  </thead>\n",
              "  <tbody>\n",
              "    <tr>\n",
              "      <th>0</th>\n",
              "      <td>0</td>\n",
              "      <td>0</td>\n",
              "      <td>0</td>\n",
              "      <td>0</td>\n",
              "      <td>0</td>\n",
              "      <td>0</td>\n",
              "      <td>0</td>\n",
              "      <td>0</td>\n",
              "      <td>0</td>\n",
              "      <td>0</td>\n",
              "      <td>...</td>\n",
              "      <td>0</td>\n",
              "      <td>0</td>\n",
              "      <td>0</td>\n",
              "      <td>0</td>\n",
              "      <td>0</td>\n",
              "      <td>0</td>\n",
              "      <td>0</td>\n",
              "      <td>0</td>\n",
              "      <td>0</td>\n",
              "      <td>0</td>\n",
              "    </tr>\n",
              "    <tr>\n",
              "      <th>1</th>\n",
              "      <td>0</td>\n",
              "      <td>0</td>\n",
              "      <td>1</td>\n",
              "      <td>0</td>\n",
              "      <td>0</td>\n",
              "      <td>0</td>\n",
              "      <td>0</td>\n",
              "      <td>0</td>\n",
              "      <td>0</td>\n",
              "      <td>0</td>\n",
              "      <td>...</td>\n",
              "      <td>0</td>\n",
              "      <td>0</td>\n",
              "      <td>0</td>\n",
              "      <td>0</td>\n",
              "      <td>0</td>\n",
              "      <td>0</td>\n",
              "      <td>0</td>\n",
              "      <td>0</td>\n",
              "      <td>0</td>\n",
              "      <td>0</td>\n",
              "    </tr>\n",
              "    <tr>\n",
              "      <th>2</th>\n",
              "      <td>0</td>\n",
              "      <td>0</td>\n",
              "      <td>0</td>\n",
              "      <td>0</td>\n",
              "      <td>0</td>\n",
              "      <td>0</td>\n",
              "      <td>0</td>\n",
              "      <td>0</td>\n",
              "      <td>0</td>\n",
              "      <td>0</td>\n",
              "      <td>...</td>\n",
              "      <td>0</td>\n",
              "      <td>0</td>\n",
              "      <td>0</td>\n",
              "      <td>0</td>\n",
              "      <td>0</td>\n",
              "      <td>0</td>\n",
              "      <td>0</td>\n",
              "      <td>0</td>\n",
              "      <td>0</td>\n",
              "      <td>0</td>\n",
              "    </tr>\n",
              "    <tr>\n",
              "      <th>3</th>\n",
              "      <td>0</td>\n",
              "      <td>0</td>\n",
              "      <td>0</td>\n",
              "      <td>0</td>\n",
              "      <td>0</td>\n",
              "      <td>0</td>\n",
              "      <td>0</td>\n",
              "      <td>0</td>\n",
              "      <td>0</td>\n",
              "      <td>0</td>\n",
              "      <td>...</td>\n",
              "      <td>0</td>\n",
              "      <td>0</td>\n",
              "      <td>0</td>\n",
              "      <td>0</td>\n",
              "      <td>0</td>\n",
              "      <td>0</td>\n",
              "      <td>0</td>\n",
              "      <td>0</td>\n",
              "      <td>0</td>\n",
              "      <td>0</td>\n",
              "    </tr>\n",
              "    <tr>\n",
              "      <th>4</th>\n",
              "      <td>0</td>\n",
              "      <td>0</td>\n",
              "      <td>0</td>\n",
              "      <td>0</td>\n",
              "      <td>0</td>\n",
              "      <td>0</td>\n",
              "      <td>0</td>\n",
              "      <td>0</td>\n",
              "      <td>0</td>\n",
              "      <td>0</td>\n",
              "      <td>...</td>\n",
              "      <td>0</td>\n",
              "      <td>0</td>\n",
              "      <td>0</td>\n",
              "      <td>0</td>\n",
              "      <td>0</td>\n",
              "      <td>0</td>\n",
              "      <td>0</td>\n",
              "      <td>0</td>\n",
              "      <td>0</td>\n",
              "      <td>0</td>\n",
              "    </tr>\n",
              "    <tr>\n",
              "      <th>...</th>\n",
              "      <td>...</td>\n",
              "      <td>...</td>\n",
              "      <td>...</td>\n",
              "      <td>...</td>\n",
              "      <td>...</td>\n",
              "      <td>...</td>\n",
              "      <td>...</td>\n",
              "      <td>...</td>\n",
              "      <td>...</td>\n",
              "      <td>...</td>\n",
              "      <td>...</td>\n",
              "      <td>...</td>\n",
              "      <td>...</td>\n",
              "      <td>...</td>\n",
              "      <td>...</td>\n",
              "      <td>...</td>\n",
              "      <td>...</td>\n",
              "      <td>...</td>\n",
              "      <td>...</td>\n",
              "      <td>...</td>\n",
              "      <td>...</td>\n",
              "    </tr>\n",
              "    <tr>\n",
              "      <th>495</th>\n",
              "      <td>0</td>\n",
              "      <td>0</td>\n",
              "      <td>0</td>\n",
              "      <td>0</td>\n",
              "      <td>0</td>\n",
              "      <td>0</td>\n",
              "      <td>0</td>\n",
              "      <td>0</td>\n",
              "      <td>0</td>\n",
              "      <td>0</td>\n",
              "      <td>...</td>\n",
              "      <td>0</td>\n",
              "      <td>0</td>\n",
              "      <td>0</td>\n",
              "      <td>0</td>\n",
              "      <td>0</td>\n",
              "      <td>0</td>\n",
              "      <td>0</td>\n",
              "      <td>0</td>\n",
              "      <td>0</td>\n",
              "      <td>0</td>\n",
              "    </tr>\n",
              "    <tr>\n",
              "      <th>496</th>\n",
              "      <td>0</td>\n",
              "      <td>0</td>\n",
              "      <td>0</td>\n",
              "      <td>0</td>\n",
              "      <td>0</td>\n",
              "      <td>0</td>\n",
              "      <td>0</td>\n",
              "      <td>0</td>\n",
              "      <td>0</td>\n",
              "      <td>0</td>\n",
              "      <td>...</td>\n",
              "      <td>0</td>\n",
              "      <td>0</td>\n",
              "      <td>0</td>\n",
              "      <td>0</td>\n",
              "      <td>0</td>\n",
              "      <td>0</td>\n",
              "      <td>0</td>\n",
              "      <td>0</td>\n",
              "      <td>0</td>\n",
              "      <td>0</td>\n",
              "    </tr>\n",
              "    <tr>\n",
              "      <th>497</th>\n",
              "      <td>0</td>\n",
              "      <td>0</td>\n",
              "      <td>0</td>\n",
              "      <td>0</td>\n",
              "      <td>0</td>\n",
              "      <td>0</td>\n",
              "      <td>0</td>\n",
              "      <td>0</td>\n",
              "      <td>0</td>\n",
              "      <td>0</td>\n",
              "      <td>...</td>\n",
              "      <td>0</td>\n",
              "      <td>0</td>\n",
              "      <td>0</td>\n",
              "      <td>0</td>\n",
              "      <td>0</td>\n",
              "      <td>0</td>\n",
              "      <td>0</td>\n",
              "      <td>0</td>\n",
              "      <td>0</td>\n",
              "      <td>0</td>\n",
              "    </tr>\n",
              "    <tr>\n",
              "      <th>498</th>\n",
              "      <td>0</td>\n",
              "      <td>1</td>\n",
              "      <td>0</td>\n",
              "      <td>0</td>\n",
              "      <td>0</td>\n",
              "      <td>0</td>\n",
              "      <td>0</td>\n",
              "      <td>0</td>\n",
              "      <td>0</td>\n",
              "      <td>0</td>\n",
              "      <td>...</td>\n",
              "      <td>0</td>\n",
              "      <td>0</td>\n",
              "      <td>0</td>\n",
              "      <td>0</td>\n",
              "      <td>0</td>\n",
              "      <td>0</td>\n",
              "      <td>0</td>\n",
              "      <td>0</td>\n",
              "      <td>0</td>\n",
              "      <td>0</td>\n",
              "    </tr>\n",
              "    <tr>\n",
              "      <th>499</th>\n",
              "      <td>0</td>\n",
              "      <td>0</td>\n",
              "      <td>0</td>\n",
              "      <td>0</td>\n",
              "      <td>0</td>\n",
              "      <td>0</td>\n",
              "      <td>0</td>\n",
              "      <td>0</td>\n",
              "      <td>0</td>\n",
              "      <td>0</td>\n",
              "      <td>...</td>\n",
              "      <td>0</td>\n",
              "      <td>0</td>\n",
              "      <td>1</td>\n",
              "      <td>0</td>\n",
              "      <td>0</td>\n",
              "      <td>0</td>\n",
              "      <td>0</td>\n",
              "      <td>0</td>\n",
              "      <td>0</td>\n",
              "      <td>0</td>\n",
              "    </tr>\n",
              "  </tbody>\n",
              "</table>\n",
              "<p>500 rows × 1584 columns</p>\n",
              "</div>\n",
              "      <button class=\"colab-df-convert\" onclick=\"convertToInteractive('df-57e5c2bb-9e20-4643-b0bb-cf46817b2a2c')\"\n",
              "              title=\"Convert this dataframe to an interactive table.\"\n",
              "              style=\"display:none;\">\n",
              "        \n",
              "  <svg xmlns=\"http://www.w3.org/2000/svg\" height=\"24px\"viewBox=\"0 0 24 24\"\n",
              "       width=\"24px\">\n",
              "    <path d=\"M0 0h24v24H0V0z\" fill=\"none\"/>\n",
              "    <path d=\"M18.56 5.44l.94 2.06.94-2.06 2.06-.94-2.06-.94-.94-2.06-.94 2.06-2.06.94zm-11 1L8.5 8.5l.94-2.06 2.06-.94-2.06-.94L8.5 2.5l-.94 2.06-2.06.94zm10 10l.94 2.06.94-2.06 2.06-.94-2.06-.94-.94-2.06-.94 2.06-2.06.94z\"/><path d=\"M17.41 7.96l-1.37-1.37c-.4-.4-.92-.59-1.43-.59-.52 0-1.04.2-1.43.59L10.3 9.45l-7.72 7.72c-.78.78-.78 2.05 0 2.83L4 21.41c.39.39.9.59 1.41.59.51 0 1.02-.2 1.41-.59l7.78-7.78 2.81-2.81c.8-.78.8-2.07 0-2.86zM5.41 20L4 18.59l7.72-7.72 1.47 1.35L5.41 20z\"/>\n",
              "  </svg>\n",
              "      </button>\n",
              "      \n",
              "  <style>\n",
              "    .colab-df-container {\n",
              "      display:flex;\n",
              "      flex-wrap:wrap;\n",
              "      gap: 12px;\n",
              "    }\n",
              "\n",
              "    .colab-df-convert {\n",
              "      background-color: #E8F0FE;\n",
              "      border: none;\n",
              "      border-radius: 50%;\n",
              "      cursor: pointer;\n",
              "      display: none;\n",
              "      fill: #1967D2;\n",
              "      height: 32px;\n",
              "      padding: 0 0 0 0;\n",
              "      width: 32px;\n",
              "    }\n",
              "\n",
              "    .colab-df-convert:hover {\n",
              "      background-color: #E2EBFA;\n",
              "      box-shadow: 0px 1px 2px rgba(60, 64, 67, 0.3), 0px 1px 3px 1px rgba(60, 64, 67, 0.15);\n",
              "      fill: #174EA6;\n",
              "    }\n",
              "\n",
              "    [theme=dark] .colab-df-convert {\n",
              "      background-color: #3B4455;\n",
              "      fill: #D2E3FC;\n",
              "    }\n",
              "\n",
              "    [theme=dark] .colab-df-convert:hover {\n",
              "      background-color: #434B5C;\n",
              "      box-shadow: 0px 1px 3px 1px rgba(0, 0, 0, 0.15);\n",
              "      filter: drop-shadow(0px 1px 2px rgba(0, 0, 0, 0.3));\n",
              "      fill: #FFFFFF;\n",
              "    }\n",
              "  </style>\n",
              "\n",
              "      <script>\n",
              "        const buttonEl =\n",
              "          document.querySelector('#df-57e5c2bb-9e20-4643-b0bb-cf46817b2a2c button.colab-df-convert');\n",
              "        buttonEl.style.display =\n",
              "          google.colab.kernel.accessAllowed ? 'block' : 'none';\n",
              "\n",
              "        async function convertToInteractive(key) {\n",
              "          const element = document.querySelector('#df-57e5c2bb-9e20-4643-b0bb-cf46817b2a2c');\n",
              "          const dataTable =\n",
              "            await google.colab.kernel.invokeFunction('convertToInteractive',\n",
              "                                                     [key], {});\n",
              "          if (!dataTable) return;\n",
              "\n",
              "          const docLinkHtml = 'Like what you see? Visit the ' +\n",
              "            '<a target=\"_blank\" href=https://colab.research.google.com/notebooks/data_table.ipynb>data table notebook</a>'\n",
              "            + ' to learn more about interactive tables.';\n",
              "          element.innerHTML = '';\n",
              "          dataTable['output_type'] = 'display_data';\n",
              "          await google.colab.output.renderOutput(dataTable, element);\n",
              "          const docLink = document.createElement('div');\n",
              "          docLink.innerHTML = docLinkHtml;\n",
              "          element.appendChild(docLink);\n",
              "        }\n",
              "      </script>\n",
              "    </div>\n",
              "  </div>\n",
              "  "
            ]
          },
          "metadata": {},
          "execution_count": 14
        }
      ]
    },
    {
      "cell_type": "code",
      "source": [
        "from sklearn.feature_extraction.text import CountVectorizer\n",
        "\n",
        "vectorizer = CountVectorizer() \n",
        "xnegativereviews = vectorizer.fit_transform(preprocessed_negativereviews)\n",
        "finalnegativereviews = pd.DataFrame(xnegativereviews.toarray(), columns =vectorizer.get_feature_names_out())\n",
        "finalnegativereviews\n"
      ],
      "metadata": {
        "colab": {
          "base_uri": "https://localhost:8080/",
          "height": 424
        },
        "id": "-ZtzX2mJ_YrU",
        "outputId": "801f212b-f286-45a6-c480-55e59a752b30"
      },
      "execution_count": null,
      "outputs": [
        {
          "output_type": "execute_result",
          "data": {
            "text/plain": [
              "     abil  abl  absolut  abysm  accept  accident  account  across  act  activ  \\\n",
              "0       0    0        0      0       0         0        0       0    0      0   \n",
              "1       0    0        0      0       0         0        0       0    0      0   \n",
              "2       0    0        0      0       0         0        0       0    0      0   \n",
              "3       0    0        0      0       0         0        0       0    0      0   \n",
              "4       0    0        0      0       0         0        0       0    0      0   \n",
              "..    ...  ...      ...    ...     ...       ...      ...     ...  ...    ...   \n",
              "154     0    0        0      0       1         0        0       0    0      0   \n",
              "155     0    0        0      0       0         0        0       0    0      0   \n",
              "156     0    0        0      0       0         0        0       0    0      0   \n",
              "157     0    0        0      0       0         0        0       0    0      0   \n",
              "158     0    0        0      0       0         0        0       0    0      0   \n",
              "\n",
              "     ...  worth  would  wow  wrong  xbox  ya  year  yesterday  zero  zip  \n",
              "0    ...      0      0    0      0     0   0     0          0     0    0  \n",
              "1    ...      0      2    0      1     0   0     0          0     0    0  \n",
              "2    ...      0      0    0      0     0   0     0          0     0    0  \n",
              "3    ...      0      0    0      0     0   0     0          0     0    0  \n",
              "4    ...      0      0    0      0     0   0     0          0     0    0  \n",
              "..   ...    ...    ...  ...    ...   ...  ..   ...        ...   ...  ...  \n",
              "154  ...      0      0    0      0     0   0     0          0     0    0  \n",
              "155  ...      0      0    0      0     0   0     0          0     0    0  \n",
              "156  ...      0      0    0      0     0   0     0          0     0    0  \n",
              "157  ...      0      0    0      0     0   0     0          0     0    0  \n",
              "158  ...      0      0    0      0     0   0     1          0     0    0  \n",
              "\n",
              "[159 rows x 1019 columns]"
            ],
            "text/html": [
              "\n",
              "  <div id=\"df-f912a4e4-a4de-4ef1-a317-f8d73d301a2e\">\n",
              "    <div class=\"colab-df-container\">\n",
              "      <div>\n",
              "<style scoped>\n",
              "    .dataframe tbody tr th:only-of-type {\n",
              "        vertical-align: middle;\n",
              "    }\n",
              "\n",
              "    .dataframe tbody tr th {\n",
              "        vertical-align: top;\n",
              "    }\n",
              "\n",
              "    .dataframe thead th {\n",
              "        text-align: right;\n",
              "    }\n",
              "</style>\n",
              "<table border=\"1\" class=\"dataframe\">\n",
              "  <thead>\n",
              "    <tr style=\"text-align: right;\">\n",
              "      <th></th>\n",
              "      <th>abil</th>\n",
              "      <th>abl</th>\n",
              "      <th>absolut</th>\n",
              "      <th>abysm</th>\n",
              "      <th>accept</th>\n",
              "      <th>accident</th>\n",
              "      <th>account</th>\n",
              "      <th>across</th>\n",
              "      <th>act</th>\n",
              "      <th>activ</th>\n",
              "      <th>...</th>\n",
              "      <th>worth</th>\n",
              "      <th>would</th>\n",
              "      <th>wow</th>\n",
              "      <th>wrong</th>\n",
              "      <th>xbox</th>\n",
              "      <th>ya</th>\n",
              "      <th>year</th>\n",
              "      <th>yesterday</th>\n",
              "      <th>zero</th>\n",
              "      <th>zip</th>\n",
              "    </tr>\n",
              "  </thead>\n",
              "  <tbody>\n",
              "    <tr>\n",
              "      <th>0</th>\n",
              "      <td>0</td>\n",
              "      <td>0</td>\n",
              "      <td>0</td>\n",
              "      <td>0</td>\n",
              "      <td>0</td>\n",
              "      <td>0</td>\n",
              "      <td>0</td>\n",
              "      <td>0</td>\n",
              "      <td>0</td>\n",
              "      <td>0</td>\n",
              "      <td>...</td>\n",
              "      <td>0</td>\n",
              "      <td>0</td>\n",
              "      <td>0</td>\n",
              "      <td>0</td>\n",
              "      <td>0</td>\n",
              "      <td>0</td>\n",
              "      <td>0</td>\n",
              "      <td>0</td>\n",
              "      <td>0</td>\n",
              "      <td>0</td>\n",
              "    </tr>\n",
              "    <tr>\n",
              "      <th>1</th>\n",
              "      <td>0</td>\n",
              "      <td>0</td>\n",
              "      <td>0</td>\n",
              "      <td>0</td>\n",
              "      <td>0</td>\n",
              "      <td>0</td>\n",
              "      <td>0</td>\n",
              "      <td>0</td>\n",
              "      <td>0</td>\n",
              "      <td>0</td>\n",
              "      <td>...</td>\n",
              "      <td>0</td>\n",
              "      <td>2</td>\n",
              "      <td>0</td>\n",
              "      <td>1</td>\n",
              "      <td>0</td>\n",
              "      <td>0</td>\n",
              "      <td>0</td>\n",
              "      <td>0</td>\n",
              "      <td>0</td>\n",
              "      <td>0</td>\n",
              "    </tr>\n",
              "    <tr>\n",
              "      <th>2</th>\n",
              "      <td>0</td>\n",
              "      <td>0</td>\n",
              "      <td>0</td>\n",
              "      <td>0</td>\n",
              "      <td>0</td>\n",
              "      <td>0</td>\n",
              "      <td>0</td>\n",
              "      <td>0</td>\n",
              "      <td>0</td>\n",
              "      <td>0</td>\n",
              "      <td>...</td>\n",
              "      <td>0</td>\n",
              "      <td>0</td>\n",
              "      <td>0</td>\n",
              "      <td>0</td>\n",
              "      <td>0</td>\n",
              "      <td>0</td>\n",
              "      <td>0</td>\n",
              "      <td>0</td>\n",
              "      <td>0</td>\n",
              "      <td>0</td>\n",
              "    </tr>\n",
              "    <tr>\n",
              "      <th>3</th>\n",
              "      <td>0</td>\n",
              "      <td>0</td>\n",
              "      <td>0</td>\n",
              "      <td>0</td>\n",
              "      <td>0</td>\n",
              "      <td>0</td>\n",
              "      <td>0</td>\n",
              "      <td>0</td>\n",
              "      <td>0</td>\n",
              "      <td>0</td>\n",
              "      <td>...</td>\n",
              "      <td>0</td>\n",
              "      <td>0</td>\n",
              "      <td>0</td>\n",
              "      <td>0</td>\n",
              "      <td>0</td>\n",
              "      <td>0</td>\n",
              "      <td>0</td>\n",
              "      <td>0</td>\n",
              "      <td>0</td>\n",
              "      <td>0</td>\n",
              "    </tr>\n",
              "    <tr>\n",
              "      <th>4</th>\n",
              "      <td>0</td>\n",
              "      <td>0</td>\n",
              "      <td>0</td>\n",
              "      <td>0</td>\n",
              "      <td>0</td>\n",
              "      <td>0</td>\n",
              "      <td>0</td>\n",
              "      <td>0</td>\n",
              "      <td>0</td>\n",
              "      <td>0</td>\n",
              "      <td>...</td>\n",
              "      <td>0</td>\n",
              "      <td>0</td>\n",
              "      <td>0</td>\n",
              "      <td>0</td>\n",
              "      <td>0</td>\n",
              "      <td>0</td>\n",
              "      <td>0</td>\n",
              "      <td>0</td>\n",
              "      <td>0</td>\n",
              "      <td>0</td>\n",
              "    </tr>\n",
              "    <tr>\n",
              "      <th>...</th>\n",
              "      <td>...</td>\n",
              "      <td>...</td>\n",
              "      <td>...</td>\n",
              "      <td>...</td>\n",
              "      <td>...</td>\n",
              "      <td>...</td>\n",
              "      <td>...</td>\n",
              "      <td>...</td>\n",
              "      <td>...</td>\n",
              "      <td>...</td>\n",
              "      <td>...</td>\n",
              "      <td>...</td>\n",
              "      <td>...</td>\n",
              "      <td>...</td>\n",
              "      <td>...</td>\n",
              "      <td>...</td>\n",
              "      <td>...</td>\n",
              "      <td>...</td>\n",
              "      <td>...</td>\n",
              "      <td>...</td>\n",
              "      <td>...</td>\n",
              "    </tr>\n",
              "    <tr>\n",
              "      <th>154</th>\n",
              "      <td>0</td>\n",
              "      <td>0</td>\n",
              "      <td>0</td>\n",
              "      <td>0</td>\n",
              "      <td>1</td>\n",
              "      <td>0</td>\n",
              "      <td>0</td>\n",
              "      <td>0</td>\n",
              "      <td>0</td>\n",
              "      <td>0</td>\n",
              "      <td>...</td>\n",
              "      <td>0</td>\n",
              "      <td>0</td>\n",
              "      <td>0</td>\n",
              "      <td>0</td>\n",
              "      <td>0</td>\n",
              "      <td>0</td>\n",
              "      <td>0</td>\n",
              "      <td>0</td>\n",
              "      <td>0</td>\n",
              "      <td>0</td>\n",
              "    </tr>\n",
              "    <tr>\n",
              "      <th>155</th>\n",
              "      <td>0</td>\n",
              "      <td>0</td>\n",
              "      <td>0</td>\n",
              "      <td>0</td>\n",
              "      <td>0</td>\n",
              "      <td>0</td>\n",
              "      <td>0</td>\n",
              "      <td>0</td>\n",
              "      <td>0</td>\n",
              "      <td>0</td>\n",
              "      <td>...</td>\n",
              "      <td>0</td>\n",
              "      <td>0</td>\n",
              "      <td>0</td>\n",
              "      <td>0</td>\n",
              "      <td>0</td>\n",
              "      <td>0</td>\n",
              "      <td>0</td>\n",
              "      <td>0</td>\n",
              "      <td>0</td>\n",
              "      <td>0</td>\n",
              "    </tr>\n",
              "    <tr>\n",
              "      <th>156</th>\n",
              "      <td>0</td>\n",
              "      <td>0</td>\n",
              "      <td>0</td>\n",
              "      <td>0</td>\n",
              "      <td>0</td>\n",
              "      <td>0</td>\n",
              "      <td>0</td>\n",
              "      <td>0</td>\n",
              "      <td>0</td>\n",
              "      <td>0</td>\n",
              "      <td>...</td>\n",
              "      <td>0</td>\n",
              "      <td>0</td>\n",
              "      <td>0</td>\n",
              "      <td>0</td>\n",
              "      <td>0</td>\n",
              "      <td>0</td>\n",
              "      <td>0</td>\n",
              "      <td>0</td>\n",
              "      <td>0</td>\n",
              "      <td>0</td>\n",
              "    </tr>\n",
              "    <tr>\n",
              "      <th>157</th>\n",
              "      <td>0</td>\n",
              "      <td>0</td>\n",
              "      <td>0</td>\n",
              "      <td>0</td>\n",
              "      <td>0</td>\n",
              "      <td>0</td>\n",
              "      <td>0</td>\n",
              "      <td>0</td>\n",
              "      <td>0</td>\n",
              "      <td>0</td>\n",
              "      <td>...</td>\n",
              "      <td>0</td>\n",
              "      <td>0</td>\n",
              "      <td>0</td>\n",
              "      <td>0</td>\n",
              "      <td>0</td>\n",
              "      <td>0</td>\n",
              "      <td>0</td>\n",
              "      <td>0</td>\n",
              "      <td>0</td>\n",
              "      <td>0</td>\n",
              "    </tr>\n",
              "    <tr>\n",
              "      <th>158</th>\n",
              "      <td>0</td>\n",
              "      <td>0</td>\n",
              "      <td>0</td>\n",
              "      <td>0</td>\n",
              "      <td>0</td>\n",
              "      <td>0</td>\n",
              "      <td>0</td>\n",
              "      <td>0</td>\n",
              "      <td>0</td>\n",
              "      <td>0</td>\n",
              "      <td>...</td>\n",
              "      <td>0</td>\n",
              "      <td>0</td>\n",
              "      <td>0</td>\n",
              "      <td>0</td>\n",
              "      <td>0</td>\n",
              "      <td>0</td>\n",
              "      <td>1</td>\n",
              "      <td>0</td>\n",
              "      <td>0</td>\n",
              "      <td>0</td>\n",
              "    </tr>\n",
              "  </tbody>\n",
              "</table>\n",
              "<p>159 rows × 1019 columns</p>\n",
              "</div>\n",
              "      <button class=\"colab-df-convert\" onclick=\"convertToInteractive('df-f912a4e4-a4de-4ef1-a317-f8d73d301a2e')\"\n",
              "              title=\"Convert this dataframe to an interactive table.\"\n",
              "              style=\"display:none;\">\n",
              "        \n",
              "  <svg xmlns=\"http://www.w3.org/2000/svg\" height=\"24px\"viewBox=\"0 0 24 24\"\n",
              "       width=\"24px\">\n",
              "    <path d=\"M0 0h24v24H0V0z\" fill=\"none\"/>\n",
              "    <path d=\"M18.56 5.44l.94 2.06.94-2.06 2.06-.94-2.06-.94-.94-2.06-.94 2.06-2.06.94zm-11 1L8.5 8.5l.94-2.06 2.06-.94-2.06-.94L8.5 2.5l-.94 2.06-2.06.94zm10 10l.94 2.06.94-2.06 2.06-.94-2.06-.94-.94-2.06-.94 2.06-2.06.94z\"/><path d=\"M17.41 7.96l-1.37-1.37c-.4-.4-.92-.59-1.43-.59-.52 0-1.04.2-1.43.59L10.3 9.45l-7.72 7.72c-.78.78-.78 2.05 0 2.83L4 21.41c.39.39.9.59 1.41.59.51 0 1.02-.2 1.41-.59l7.78-7.78 2.81-2.81c.8-.78.8-2.07 0-2.86zM5.41 20L4 18.59l7.72-7.72 1.47 1.35L5.41 20z\"/>\n",
              "  </svg>\n",
              "      </button>\n",
              "      \n",
              "  <style>\n",
              "    .colab-df-container {\n",
              "      display:flex;\n",
              "      flex-wrap:wrap;\n",
              "      gap: 12px;\n",
              "    }\n",
              "\n",
              "    .colab-df-convert {\n",
              "      background-color: #E8F0FE;\n",
              "      border: none;\n",
              "      border-radius: 50%;\n",
              "      cursor: pointer;\n",
              "      display: none;\n",
              "      fill: #1967D2;\n",
              "      height: 32px;\n",
              "      padding: 0 0 0 0;\n",
              "      width: 32px;\n",
              "    }\n",
              "\n",
              "    .colab-df-convert:hover {\n",
              "      background-color: #E2EBFA;\n",
              "      box-shadow: 0px 1px 2px rgba(60, 64, 67, 0.3), 0px 1px 3px 1px rgba(60, 64, 67, 0.15);\n",
              "      fill: #174EA6;\n",
              "    }\n",
              "\n",
              "    [theme=dark] .colab-df-convert {\n",
              "      background-color: #3B4455;\n",
              "      fill: #D2E3FC;\n",
              "    }\n",
              "\n",
              "    [theme=dark] .colab-df-convert:hover {\n",
              "      background-color: #434B5C;\n",
              "      box-shadow: 0px 1px 3px 1px rgba(0, 0, 0, 0.15);\n",
              "      filter: drop-shadow(0px 1px 2px rgba(0, 0, 0, 0.3));\n",
              "      fill: #FFFFFF;\n",
              "    }\n",
              "  </style>\n",
              "\n",
              "      <script>\n",
              "        const buttonEl =\n",
              "          document.querySelector('#df-f912a4e4-a4de-4ef1-a317-f8d73d301a2e button.colab-df-convert');\n",
              "        buttonEl.style.display =\n",
              "          google.colab.kernel.accessAllowed ? 'block' : 'none';\n",
              "\n",
              "        async function convertToInteractive(key) {\n",
              "          const element = document.querySelector('#df-f912a4e4-a4de-4ef1-a317-f8d73d301a2e');\n",
              "          const dataTable =\n",
              "            await google.colab.kernel.invokeFunction('convertToInteractive',\n",
              "                                                     [key], {});\n",
              "          if (!dataTable) return;\n",
              "\n",
              "          const docLinkHtml = 'Like what you see? Visit the ' +\n",
              "            '<a target=\"_blank\" href=https://colab.research.google.com/notebooks/data_table.ipynb>data table notebook</a>'\n",
              "            + ' to learn more about interactive tables.';\n",
              "          element.innerHTML = '';\n",
              "          dataTable['output_type'] = 'display_data';\n",
              "          await google.colab.output.renderOutput(dataTable, element);\n",
              "          const docLink = document.createElement('div');\n",
              "          docLink.innerHTML = docLinkHtml;\n",
              "          element.appendChild(docLink);\n",
              "        }\n",
              "      </script>\n",
              "    </div>\n",
              "  </div>\n",
              "  "
            ]
          },
          "metadata": {},
          "execution_count": 15
        }
      ]
    },
    {
      "cell_type": "code",
      "source": [
        "import numpy as np\n",
        "import matplotlib.pyplot as plt\n",
        "def get_top_n_words(n_top_words, count_vectorizer, text_data):\n",
        "    '''\n",
        "    returns a tuple of the top n words in a sample and their \n",
        "    accompanying counts, given a CountVectorizer object and text sample\n",
        "    '''\n",
        "    vectorized_headlines = count_vectorizer.fit_transform(text_data.values)\n",
        "    vectorized_total = np.sum(vectorized_headlines, axis=0)\n",
        "    word_indices = np.flip(np.argsort(vectorized_total)[0,:], 1)\n",
        "    word_values = np.flip(np.sort(vectorized_total)[0,:],1)\n",
        "    \n",
        "    word_vectors = np.zeros((n_top_words, vectorized_headlines.shape[1]))\n",
        "    for i in range(n_top_words):\n",
        "        word_vectors[i,word_indices[0,i]] = 1\n",
        "\n",
        "    words = [word[0].encode('ascii').decode('utf-8') for \n",
        "             word in count_vectorizer.inverse_transform(word_vectors)]\n",
        "\n",
        "    return (words, word_values[0,:n_top_words].tolist()[0])"
      ],
      "metadata": {
        "id": "5Taily6tRoF6"
      },
      "execution_count": null,
      "outputs": []
    },
    {
      "cell_type": "code",
      "source": [
        "count_vectorizer = CountVectorizer(stop_words='english')\n",
        "words, word_values = get_top_n_words(n_top_words=15,\n",
        "                                     count_vectorizer=count_vectorizer, \n",
        "                                     text_data=df['Reviews'])\n",
        "\n",
        "fig, ax = plt.subplots(figsize=(16,8))\n",
        "ax.bar(range(len(words)), word_values);\n",
        "ax.set_xticks(range(len(words)));\n",
        "ax.set_xticklabels(words, rotation='vertical');\n",
        "ax.set_title('Top words in reviews dataset (excluding stop words)');\n",
        "ax.set_xlabel('Word');\n",
        "ax.set_ylabel('Number of occurences');\n",
        "plt.show()"
      ],
      "metadata": {
        "colab": {
          "base_uri": "https://localhost:8080/",
          "height": 763
        },
        "id": "xhZauhaIRpxe",
        "outputId": "2e0c68fc-3b30-400e-986e-be8a1adcf6dc"
      },
      "execution_count": null,
      "outputs": [
        {
          "output_type": "display_data",
          "data": {
            "text/plain": [
              "<Figure size 1600x800 with 1 Axes>"
            ],
            "image/png": "[encoded data removed]"
          },
          "metadata": {}
        }
      ]
    },
    {
      "cell_type": "code",
      "source": [
        "count_vectorizer = CountVectorizer(stop_words='english')\n",
        "words, word_values = get_top_n_words(n_top_words=15,\n",
        "                                     count_vectorizer=count_vectorizer, \n",
        "                                     text_data=negativeDF['Reviews'])\n",
        "\n",
        "fig, ax = plt.subplots(figsize=(16,8))\n",
        "ax.bar(range(len(words)), word_values);\n",
        "ax.set_xticks(range(len(words)));\n",
        "ax.set_xticklabels(words, rotation='vertical');\n",
        "ax.set_title('Top negative words in reviews dataset (excluding stop words)');\n",
        "ax.set_xlabel('Word');\n",
        "ax.set_ylabel('Number of occurences');\n",
        "plt.show()"
      ],
      "metadata": {
        "colab": {
          "base_uri": "https://localhost:8080/",
          "height": 760
        },
        "id": "u1WoKXEHBYnV",
        "outputId": "6318634c-2f63-4fc1-95f6-d41afa83ae25"
      },
      "execution_count": null,
      "outputs": [
        {
          "output_type": "display_data",
          "data": {
            "text/plain": [
              "<Figure size 1600x800 with 1 Axes>"
            ],
            "image/png": "[encoded data removed]"
          },
          "metadata": {}
        }
      ]
    },
    {
      "cell_type": "code",
      "source": [
        "STOP_WORDS = nltk.corpus.stopwords.words()\n",
        "\n",
        "def clean_sentence(val):\n",
        "    \"remove chars that are not letters or numbers, downcase, then remove stop words\"\n",
        "    regex = re.compile('([^\\s\\w]|_)+')\n",
        "    sentence = regex.sub('', val).lower()\n",
        "    sentence = sentence.split(\" \")\n",
        "    \n",
        "    for word in list(sentence):\n",
        "        if word in STOP_WORDS:\n",
        "            sentence.remove(word)  \n",
        "            \n",
        "    sentence = \" \".join(sentence)\n",
        "    return sentence\n",
        "\n",
        "def clean_dataframe(data):\n",
        "    \"drop nans, then apply 'clean_sentence' function to question1 and 2\"\n",
        "    data = data.dropna(how=\"any\")\n",
        "    \n",
        "    for col in ['Reviews']:\n",
        "        data[col] = data[col].apply(clean_sentence)\n",
        "    \n",
        "    return data\n",
        "\n",
        "data = clean_dataframe(df)\n",
        "data.head(5)"
      ],
      "metadata": {
        "colab": {
          "base_uri": "https://localhost:8080/",
          "height": 206
        },
        "id": "OFPRzMuyL414",
        "outputId": "78de3ed6-174f-4eed-fa07-f17bb2415e45"
      },
      "execution_count": null,
      "outputs": [
        {
          "output_type": "execute_result",
          "data": {
            "text/plain": [
              "                                             Reviews  Review     Score\n",
              "0  hospital bed relying kids bring groceries taki...       5  POSITIVE\n",
              "1  ive walmarts curbside pickup start covid love ...       5  POSITIVE\n",
              "2               ive orders time  ordered times  easy       5  POSITIVE\n",
              "3        sending jail recognize address order amazon       4  POSITIVE\n",
              "4                            convenient  time using        5  POSITIVE"
            ],
            "text/html": [
              "\n",
              "  <div id=\"df-5c043ab7-4477-4097-b2a0-c8041288ebb1\">\n",
              "    <div class=\"colab-df-container\">\n",
              "      <div>\n",
              "<style scoped>\n",
              "    .dataframe tbody tr th:only-of-type {\n",
              "        vertical-align: middle;\n",
              "    }\n",
              "\n",
              "    .dataframe tbody tr th {\n",
              "        vertical-align: top;\n",
              "    }\n",
              "\n",
              "    .dataframe thead th {\n",
              "        text-align: right;\n",
              "    }\n",
              "</style>\n",
              "<table border=\"1\" class=\"dataframe\">\n",
              "  <thead>\n",
              "    <tr style=\"text-align: right;\">\n",
              "      <th></th>\n",
              "      <th>Reviews</th>\n",
              "      <th>Review</th>\n",
              "      <th>Score</th>\n",
              "    </tr>\n",
              "  </thead>\n",
              "  <tbody>\n",
              "    <tr>\n",
              "      <th>0</th>\n",
              "      <td>hospital bed relying kids bring groceries taki...</td>\n",
              "      <td>5</td>\n",
              "      <td>POSITIVE</td>\n",
              "    </tr>\n",
              "    <tr>\n",
              "      <th>1</th>\n",
              "      <td>ive walmarts curbside pickup start covid love ...</td>\n",
              "      <td>5</td>\n",
              "      <td>POSITIVE</td>\n",
              "    </tr>\n",
              "    <tr>\n",
              "      <th>2</th>\n",
              "      <td>ive orders time  ordered times  easy</td>\n",
              "      <td>5</td>\n",
              "      <td>POSITIVE</td>\n",
              "    </tr>\n",
              "    <tr>\n",
              "      <th>3</th>\n",
              "      <td>sending jail recognize address order amazon</td>\n",
              "      <td>4</td>\n",
              "      <td>POSITIVE</td>\n",
              "    </tr>\n",
              "    <tr>\n",
              "      <th>4</th>\n",
              "      <td>convenient  time using</td>\n",
              "      <td>5</td>\n",
              "      <td>POSITIVE</td>\n",
              "    </tr>\n",
              "  </tbody>\n",
              "</table>\n",
              "</div>\n",
              "      <button class=\"colab-df-convert\" onclick=\"convertToInteractive('df-5c043ab7-4477-4097-b2a0-c8041288ebb1')\"\n",
              "              title=\"Convert this dataframe to an interactive table.\"\n",
              "              style=\"display:none;\">\n",
              "        \n",
              "  <svg xmlns=\"http://www.w3.org/2000/svg\" height=\"24px\"viewBox=\"0 0 24 24\"\n",
              "       width=\"24px\">\n",
              "    <path d=\"M0 0h24v24H0V0z\" fill=\"none\"/>\n",
              "    <path d=\"M18.56 5.44l.94 2.06.94-2.06 2.06-.94-2.06-.94-.94-2.06-.94 2.06-2.06.94zm-11 1L8.5 8.5l.94-2.06 2.06-.94-2.06-.94L8.5 2.5l-.94 2.06-2.06.94zm10 10l.94 2.06.94-2.06 2.06-.94-2.06-.94-.94-2.06-.94 2.06-2.06.94z\"/><path d=\"M17.41 7.96l-1.37-1.37c-.4-.4-.92-.59-1.43-.59-.52 0-1.04.2-1.43.59L10.3 9.45l-7.72 7.72c-.78.78-.78 2.05 0 2.83L4 21.41c.39.39.9.59 1.41.59.51 0 1.02-.2 1.41-.59l7.78-7.78 2.81-2.81c.8-.78.8-2.07 0-2.86zM5.41 20L4 18.59l7.72-7.72 1.47 1.35L5.41 20z\"/>\n",
              "  </svg>\n",
              "      </button>\n",
              "      \n",
              "  <style>\n",
              "    .colab-df-container {\n",
              "      display:flex;\n",
              "      flex-wrap:wrap;\n",
              "      gap: 12px;\n",
              "    }\n",
              "\n",
              "    .colab-df-convert {\n",
              "      background-color: #E8F0FE;\n",
              "      border: none;\n",
              "      border-radius: 50%;\n",
              "      cursor: pointer;\n",
              "      display: none;\n",
              "      fill: #1967D2;\n",
              "      height: 32px;\n",
              "      padding: 0 0 0 0;\n",
              "      width: 32px;\n",
              "    }\n",
              "\n",
              "    .colab-df-convert:hover {\n",
              "      background-color: #E2EBFA;\n",
              "      box-shadow: 0px 1px 2px rgba(60, 64, 67, 0.3), 0px 1px 3px 1px rgba(60, 64, 67, 0.15);\n",
              "      fill: #174EA6;\n",
              "    }\n",
              "\n",
              "    [theme=dark] .colab-df-convert {\n",
              "      background-color: #3B4455;\n",
              "      fill: #D2E3FC;\n",
              "    }\n",
              "\n",
              "    [theme=dark] .colab-df-convert:hover {\n",
              "      background-color: #434B5C;\n",
              "      box-shadow: 0px 1px 3px 1px rgba(0, 0, 0, 0.15);\n",
              "      filter: drop-shadow(0px 1px 2px rgba(0, 0, 0, 0.3));\n",
              "      fill: #FFFFFF;\n",
              "    }\n",
              "  </style>\n",
              "\n",
              "      <script>\n",
              "        const buttonEl =\n",
              "          document.querySelector('#df-5c043ab7-4477-4097-b2a0-c8041288ebb1 button.colab-df-convert');\n",
              "        buttonEl.style.display =\n",
              "          google.colab.kernel.accessAllowed ? 'block' : 'none';\n",
              "\n",
              "        async function convertToInteractive(key) {\n",
              "          const element = document.querySelector('#df-5c043ab7-4477-4097-b2a0-c8041288ebb1');\n",
              "          const dataTable =\n",
              "            await google.colab.kernel.invokeFunction('convertToInteractive',\n",
              "                                                     [key], {});\n",
              "          if (!dataTable) return;\n",
              "\n",
              "          const docLinkHtml = 'Like what you see? Visit the ' +\n",
              "            '<a target=\"_blank\" href=https://colab.research.google.com/notebooks/data_table.ipynb>data table notebook</a>'\n",
              "            + ' to learn more about interactive tables.';\n",
              "          element.innerHTML = '';\n",
              "          dataTable['output_type'] = 'display_data';\n",
              "          await google.colab.output.renderOutput(dataTable, element);\n",
              "          const docLink = document.createElement('div');\n",
              "          docLink.innerHTML = docLinkHtml;\n",
              "          element.appendChild(docLink);\n",
              "        }\n",
              "      </script>\n",
              "    </div>\n",
              "  </div>\n",
              "  "
            ]
          },
          "metadata": {},
          "execution_count": 19
        }
      ]
    },
    {
      "cell_type": "code",
      "source": [
        "negativeData = clean_dataframe(negativeDF)\n",
        "negativeData.head(5)"
      ],
      "metadata": {
        "colab": {
          "base_uri": "https://localhost:8080/",
          "height": 206
        },
        "id": "sOpZ6LU6hOKt",
        "outputId": "345cc10b-bcd9-49f6-f2d8-267a80c88df5"
      },
      "execution_count": null,
      "outputs": [
        {
          "output_type": "execute_result",
          "data": {
            "text/plain": [
              "                                             Reviews  Review     Score\n",
              "0                     prices high stock low shoppers       1  Negative\n",
              "1  shipping info items wrong bit shopping waterco...       2  Negative\n",
              "2  shipping orders stuck facility 99 time order c...       1  Negative\n",
              "3           whats point scan  wait line scan qr code       2  Negative\n",
              "4  scan items pay associate scan items associate ...       1  Negative"
            ],
            "text/html": [
              "\n",
              "  <div id=\"df-2d3feb84-829e-4de2-ad83-41fc37f3bd81\">\n",
              "    <div class=\"colab-df-container\">\n",
              "      <div>\n",
              "<style scoped>\n",
              "    .dataframe tbody tr th:only-of-type {\n",
              "        vertical-align: middle;\n",
              "    }\n",
              "\n",
              "    .dataframe tbody tr th {\n",
              "        vertical-align: top;\n",
              "    }\n",
              "\n",
              "    .dataframe thead th {\n",
              "        text-align: right;\n",
              "    }\n",
              "</style>\n",
              "<table border=\"1\" class=\"dataframe\">\n",
              "  <thead>\n",
              "    <tr style=\"text-align: right;\">\n",
              "      <th></th>\n",
              "      <th>Reviews</th>\n",
              "      <th>Review</th>\n",
              "      <th>Score</th>\n",
              "    </tr>\n",
              "  </thead>\n",
              "  <tbody>\n",
              "    <tr>\n",
              "      <th>0</th>\n",
              "      <td>prices high stock low shoppers</td>\n",
              "      <td>1</td>\n",
              "      <td>Negative</td>\n",
              "    </tr>\n",
              "    <tr>\n",
              "      <th>1</th>\n",
              "      <td>shipping info items wrong bit shopping waterco...</td>\n",
              "      <td>2</td>\n",
              "      <td>Negative</td>\n",
              "    </tr>\n",
              "    <tr>\n",
              "      <th>2</th>\n",
              "      <td>shipping orders stuck facility 99 time order c...</td>\n",
              "      <td>1</td>\n",
              "      <td>Negative</td>\n",
              "    </tr>\n",
              "    <tr>\n",
              "      <th>3</th>\n",
              "      <td>whats point scan  wait line scan qr code</td>\n",
              "      <td>2</td>\n",
              "      <td>Negative</td>\n",
              "    </tr>\n",
              "    <tr>\n",
              "      <th>4</th>\n",
              "      <td>scan items pay associate scan items associate ...</td>\n",
              "      <td>1</td>\n",
              "      <td>Negative</td>\n",
              "    </tr>\n",
              "  </tbody>\n",
              "</table>\n",
              "</div>\n",
              "      <button class=\"colab-df-convert\" onclick=\"convertToInteractive('df-2d3feb84-829e-4de2-ad83-41fc37f3bd81')\"\n",
              "              title=\"Convert this dataframe to an interactive table.\"\n",
              "              style=\"display:none;\">\n",
              "        \n",
              "  <svg xmlns=\"http://www.w3.org/2000/svg\" height=\"24px\"viewBox=\"0 0 24 24\"\n",
              "       width=\"24px\">\n",
              "    <path d=\"M0 0h24v24H0V0z\" fill=\"none\"/>\n",
              "    <path d=\"M18.56 5.44l.94 2.06.94-2.06 2.06-.94-2.06-.94-.94-2.06-.94 2.06-2.06.94zm-11 1L8.5 8.5l.94-2.06 2.06-.94-2.06-.94L8.5 2.5l-.94 2.06-2.06.94zm10 10l.94 2.06.94-2.06 2.06-.94-2.06-.94-.94-2.06-.94 2.06-2.06.94z\"/><path d=\"M17.41 7.96l-1.37-1.37c-.4-.4-.92-.59-1.43-.59-.52 0-1.04.2-1.43.59L10.3 9.45l-7.72 7.72c-.78.78-.78 2.05 0 2.83L4 21.41c.39.39.9.59 1.41.59.51 0 1.02-.2 1.41-.59l7.78-7.78 2.81-2.81c.8-.78.8-2.07 0-2.86zM5.41 20L4 18.59l7.72-7.72 1.47 1.35L5.41 20z\"/>\n",
              "  </svg>\n",
              "      </button>\n",
              "      \n",
              "  <style>\n",
              "    .colab-df-container {\n",
              "      display:flex;\n",
              "      flex-wrap:wrap;\n",
              "      gap: 12px;\n",
              "    }\n",
              "\n",
              "    .colab-df-convert {\n",
              "      background-color: #E8F0FE;\n",
              "      border: none;\n",
              "      border-radius: 50%;\n",
              "      cursor: pointer;\n",
              "      display: none;\n",
              "      fill: #1967D2;\n",
              "      height: 32px;\n",
              "      padding: 0 0 0 0;\n",
              "      width: 32px;\n",
              "    }\n",
              "\n",
              "    .colab-df-convert:hover {\n",
              "      background-color: #E2EBFA;\n",
              "      box-shadow: 0px 1px 2px rgba(60, 64, 67, 0.3), 0px 1px 3px 1px rgba(60, 64, 67, 0.15);\n",
              "      fill: #174EA6;\n",
              "    }\n",
              "\n",
              "    [theme=dark] .colab-df-convert {\n",
              "      background-color: #3B4455;\n",
              "      fill: #D2E3FC;\n",
              "    }\n",
              "\n",
              "    [theme=dark] .colab-df-convert:hover {\n",
              "      background-color: #434B5C;\n",
              "      box-shadow: 0px 1px 3px 1px rgba(0, 0, 0, 0.15);\n",
              "      filter: drop-shadow(0px 1px 2px rgba(0, 0, 0, 0.3));\n",
              "      fill: #FFFFFF;\n",
              "    }\n",
              "  </style>\n",
              "\n",
              "      <script>\n",
              "        const buttonEl =\n",
              "          document.querySelector('#df-2d3feb84-829e-4de2-ad83-41fc37f3bd81 button.colab-df-convert');\n",
              "        buttonEl.style.display =\n",
              "          google.colab.kernel.accessAllowed ? 'block' : 'none';\n",
              "\n",
              "        async function convertToInteractive(key) {\n",
              "          const element = document.querySelector('#df-2d3feb84-829e-4de2-ad83-41fc37f3bd81');\n",
              "          const dataTable =\n",
              "            await google.colab.kernel.invokeFunction('convertToInteractive',\n",
              "                                                     [key], {});\n",
              "          if (!dataTable) return;\n",
              "\n",
              "          const docLinkHtml = 'Like what you see? Visit the ' +\n",
              "            '<a target=\"_blank\" href=https://colab.research.google.com/notebooks/data_table.ipynb>data table notebook</a>'\n",
              "            + ' to learn more about interactive tables.';\n",
              "          element.innerHTML = '';\n",
              "          dataTable['output_type'] = 'display_data';\n",
              "          await google.colab.output.renderOutput(dataTable, element);\n",
              "          const docLink = document.createElement('div');\n",
              "          docLink.innerHTML = docLinkHtml;\n",
              "          element.appendChild(docLink);\n",
              "        }\n",
              "      </script>\n",
              "    </div>\n",
              "  </div>\n",
              "  "
            ]
          },
          "metadata": {},
          "execution_count": 20
        }
      ]
    },
    {
      "cell_type": "code",
      "source": [
        "def build_corpus(data):\n",
        "    \"Creates a list of lists containing words from each sentence\"\n",
        "    corpus = []\n",
        "    for col in ['Reviews']:\n",
        "        for sentence in data[col].iteritems():\n",
        "            word_list = sentence[1].split(\" \")\n",
        "            corpus.append(word_list)\n",
        "            \n",
        "    return corpus\n",
        "\n",
        "corpusNegativeData = build_corpus(negativeData)        \n",
        "corpusNegativeData[0:2]"
      ],
      "metadata": {
        "colab": {
          "base_uri": "https://localhost:8080/"
        },
        "id": "wuekvH3lhfc5",
        "outputId": "4a425192-327b-4a15-f686-93c38edfd6b3"
      },
      "execution_count": null,
      "outputs": [
        {
          "output_type": "stream",
          "name": "stderr",
          "text": [
            "<ipython-input-221-cc82d2dd7fe7>:5: FutureWarning: iteritems is deprecated and will be removed in a future version. Use .items instead.\n",
            "  for sentence in data[col].iteritems():\n"
          ]
        },
        {
          "output_type": "execute_result",
          "data": {
            "text/plain": [
              "[['prices', 'high', 'stock', 'low', 'shoppers'],\n",
              " ['shipping',\n",
              "  'info',\n",
              "  'items',\n",
              "  'wrong',\n",
              "  'bit',\n",
              "  'shopping',\n",
              "  'watercolor',\n",
              "  'paints',\n",
              "  'brushes',\n",
              "  'start',\n",
              "  'grandchildren',\n",
              "  'painting',\n",
              "  'made',\n",
              "  'note',\n",
              "  'item',\n",
              "  'put',\n",
              "  'cart',\n",
              "  'needed',\n",
              "  'delivered',\n",
              "  'days',\n",
              "  'added',\n",
              "  'items',\n",
              "  'day',\n",
              "  'shipping',\n",
              "  'hit',\n",
              "  'complete',\n",
              "  'delivery',\n",
              "  '22',\n",
              "  'spent',\n",
              "  'part',\n",
              "  'hours',\n",
              "  'placing',\n",
              "  'things',\n",
              "  'cart',\n",
              "  'remove',\n",
              "  'replacing',\n",
              "  '10',\n",
              "  'times',\n",
              "  'misleading',\n",
              "  'time',\n",
              "  'consuming',\n",
              "  'walmart',\n",
              "  'longer']]"
            ]
          },
          "metadata": {},
          "execution_count": 221
        }
      ]
    },
    {
      "cell_type": "code",
      "source": [
        "corpus = build_corpus(data)        \n",
        "corpus[0:2]"
      ],
      "metadata": {
        "colab": {
          "base_uri": "https://localhost:8080/"
        },
        "id": "jwqUUPA1MKDV",
        "outputId": "72464d45-f434-4615-b7ee-fbe71c39f668"
      },
      "execution_count": null,
      "outputs": [
        {
          "output_type": "stream",
          "name": "stderr",
          "text": [
            "<ipython-input-21-cc82d2dd7fe7>:5: FutureWarning: iteritems is deprecated and will be removed in a future version. Use .items instead.\n",
            "  for sentence in data[col].iteritems():\n"
          ]
        },
        {
          "output_type": "execute_result",
          "data": {
            "text/plain": [
              "[['hospital',\n",
              "  'bed',\n",
              "  'relying',\n",
              "  'kids',\n",
              "  'bring',\n",
              "  'groceries',\n",
              "  'taking',\n",
              "  'toll',\n",
              "  'appreciate',\n",
              "  'delivery',\n",
              "  'walmart',\n",
              "  'house',\n",
              "  'great',\n",
              "  ''],\n",
              " ['ive',\n",
              "  'walmarts',\n",
              "  'curbside',\n",
              "  'pickup',\n",
              "  'start',\n",
              "  'covid',\n",
              "  'love',\n",
              "  'love',\n",
              "  'love',\n",
              "  'saves',\n",
              "  'timeits',\n",
              "  'absolutely',\n",
              "  'wonderful',\n",
              "  'hope',\n",
              "  'walmart',\n",
              "  'continues',\n",
              "  'service',\n",
              "  'forever',\n",
              "  'walmart',\n",
              "  'loyal',\n",
              "  'customer',\n",
              "  'forever']]"
            ]
          },
          "metadata": {},
          "execution_count": 22
        }
      ]
    },
    {
      "cell_type": "code",
      "source": [
        "from gensim.models import word2vec\n",
        "modelNegative = word2vec.Word2Vec(corpusNegativeData, window=20, min_count=1, workers=4)\n",
        "modelNegative.wv['prices']"
      ],
      "metadata": {
        "colab": {
          "base_uri": "https://localhost:8080/"
        },
        "id": "XbzvLiEvhtvw",
        "outputId": "6f80de5f-3a82-4284-8e3f-f9feabd0cdc0"
      },
      "execution_count": null,
      "outputs": [
        {
          "output_type": "execute_result",
          "data": {
            "text/plain": [
              "array([-8.6685466e-03,  1.2540496e-03,  7.2338427e-03,  8.4141819e-03,\n",
              "       -4.5888484e-03, -6.5088114e-03, -5.4151532e-03,  6.1323214e-03,\n",
              "        1.2002939e-03, -1.1111762e-02,  1.3595986e-03, -1.1370579e-02,\n",
              "        2.8972959e-04,  5.4112482e-03, -3.7612466e-03, -1.0904564e-03,\n",
              "       -2.5346843e-03, -1.0870578e-02, -1.9767762e-03,  2.7846530e-04,\n",
              "       -7.3508574e-03, -5.1163351e-03,  1.4662309e-04,  6.7734369e-03,\n",
              "       -8.3838262e-05,  9.9591697e-03, -9.2385877e-03,  7.5383089e-03,\n",
              "       -5.9755873e-03, -5.9457943e-03, -5.4758708e-03,  2.0300066e-03,\n",
              "       -2.3439510e-03,  6.4588767e-03, -1.9205818e-03,  5.7183043e-03,\n",
              "        6.0237590e-03, -1.0204335e-02, -4.1408585e-03, -8.3145471e-03,\n",
              "       -8.0699613e-03,  1.6642926e-03,  2.3107657e-03, -2.3079547e-03,\n",
              "       -3.1862725e-04, -7.2209118e-03, -4.6056360e-03,  1.0283993e-03,\n",
              "        8.5916733e-03,  8.6012911e-03, -2.4496377e-03,  1.5429297e-03,\n",
              "       -2.6689551e-03, -5.3356783e-03, -5.4216138e-03, -4.9079582e-03,\n",
              "        5.1390682e-03, -8.5013974e-03, -1.0193138e-02, -4.3659946e-03,\n",
              "        8.5615041e-03,  2.8626211e-03,  4.6705776e-03,  7.7549759e-03,\n",
              "       -8.7413732e-03, -2.8455255e-03,  8.7698428e-03,  6.5846215e-03,\n",
              "        1.6893907e-03,  1.1565318e-02,  7.2636260e-03, -2.1015361e-03,\n",
              "        3.2516103e-03,  4.5793904e-03,  1.1733353e-02,  1.0593098e-02,\n",
              "       -8.1626950e-03, -5.8310325e-03,  3.9628176e-03,  1.3640820e-03,\n",
              "       -1.4016002e-03,  7.4324552e-03,  4.2803804e-03, -4.6052192e-03,\n",
              "       -2.7549746e-03, -8.6143771e-03,  6.6329096e-03,  5.1880279e-03,\n",
              "        9.4738964e-04,  2.4905114e-03,  1.0649441e-02,  9.2928046e-03,\n",
              "        6.1306539e-03,  3.9481753e-03,  5.0198077e-03,  1.0002639e-02,\n",
              "        1.7254784e-03, -2.0005256e-03, -8.6338734e-03,  1.6698478e-03],\n",
              "      dtype=float32)"
            ]
          },
          "metadata": {},
          "execution_count": 23
        }
      ]
    },
    {
      "cell_type": "code",
      "source": [
        "from gensim.models import word2vec\n",
        "model = word2vec.Word2Vec(corpus, window=20, min_count=1, workers=4)\n",
        "model.wv['packs']"
      ],
      "metadata": {
        "colab": {
          "base_uri": "https://localhost:8080/"
        },
        "id": "0kq-7uORMPCg",
        "outputId": "618099e5-36a8-42dd-e95c-002e39db1f27"
      },
      "execution_count": null,
      "outputs": [
        {
          "output_type": "execute_result",
          "data": {
            "text/plain": [
              "array([ 0.0064633 , -0.00813309,  0.00979849,  0.00574854, -0.00360903,\n",
              "       -0.00846371, -0.00270426, -0.00166307, -0.00273002,  0.00565724,\n",
              "        0.0014453 , -0.00889538,  0.00541593, -0.0055588 , -0.00168369,\n",
              "       -0.00950415,  0.00971973, -0.00354612,  0.00636633, -0.00521279,\n",
              "       -0.00387174, -0.0075478 ,  0.00617938, -0.00105241, -0.00791455,\n",
              "       -0.00375199, -0.00494993,  0.00847373, -0.0070064 ,  0.00774066,\n",
              "        0.00731357,  0.00924826, -0.0088812 , -0.00210217,  0.00110146,\n",
              "       -0.00236208,  0.00585046, -0.0070851 ,  0.00706658,  0.00557527,\n",
              "        0.00690476, -0.00099789, -0.00697512, -0.00019794,  0.00493494,\n",
              "        0.00163681,  0.003714  , -0.00852927,  0.00259004, -0.00266984,\n",
              "        0.00791271,  0.00649704, -0.00159366, -0.00892675,  0.00256343,\n",
              "        0.00979528, -0.0017591 , -0.00697981, -0.00700916, -0.00586607,\n",
              "        0.00262258,  0.00305089,  0.0056837 ,  0.00928692, -0.00170249,\n",
              "       -0.00726648,  0.00043818, -0.00577692,  0.00749951, -0.00599463,\n",
              "       -0.00572869, -0.00686377, -0.00736179, -0.00092493, -0.00607682,\n",
              "       -0.00898398,  0.00154405,  0.00093206,  0.00609742,  0.00964446,\n",
              "       -0.0077046 , -0.0087424 , -0.00805595, -0.00775024, -0.00607062,\n",
              "       -0.0056431 , -0.00040358, -0.00078084, -0.00728524, -0.00208038,\n",
              "        0.00738177, -0.0033075 ,  0.00218213,  0.00169338, -0.00429079,\n",
              "       -0.00875565,  0.00876405,  0.00669752, -0.00397249,  0.00649787],\n",
              "      dtype=float32)"
            ]
          },
          "metadata": {},
          "execution_count": 166
        }
      ]
    },
    {
      "cell_type": "code",
      "source": [
        "tupled_lst = set(map(tuple, corpusNegativeData))\n",
        "corpusNegativeData = map(list, tupled_lst)"
      ],
      "metadata": {
        "id": "FpKuK-DygC2S"
      },
      "execution_count": null,
      "outputs": []
    },
    {
      "cell_type": "code",
      "source": [
        "from gensim.models import word2vec\n",
        "modelNegativess = word2vec.Word2Vec(corpusNegativeData, window=20, min_count=1, workers=4)\n",
        "modelNegativess.wv['prices']\n",
        "\n"
      ],
      "metadata": {
        "colab": {
          "base_uri": "https://localhost:8080/"
        },
        "id": "Dr-QI6JSb8NQ",
        "outputId": "0955a69a-6c91-49cc-ac76-070a888ade59"
      },
      "execution_count": null,
      "outputs": [
        {
          "output_type": "stream",
          "name": "stderr",
          "text": [
            "WARNING:gensim.models.word2vec:train() called with an empty iterator (if not intended, be sure to provide a corpus that offers restartable iteration = an iterable).\n",
            "WARNING:gensim.models.word2vec:EPOCH 0: supplied example count (0) did not equal expected count (138)\n",
            "WARNING:gensim.models.word2vec:EPOCH 0: supplied raw word count (0) did not equal expected count (2634)\n",
            "WARNING:gensim.models.word2vec:train() called with an empty iterator (if not intended, be sure to provide a corpus that offers restartable iteration = an iterable).\n",
            "WARNING:gensim.models.word2vec:EPOCH 1: supplied example count (0) did not equal expected count (138)\n",
            "WARNING:gensim.models.word2vec:EPOCH 1: supplied raw word count (0) did not equal expected count (2634)\n",
            "WARNING:gensim.models.word2vec:train() called with an empty iterator (if not intended, be sure to provide a corpus that offers restartable iteration = an iterable).\n",
            "WARNING:gensim.models.word2vec:EPOCH 2: supplied example count (0) did not equal expected count (138)\n",
            "WARNING:gensim.models.word2vec:EPOCH 2: supplied raw word count (0) did not equal expected count (2634)\n",
            "WARNING:gensim.models.word2vec:train() called with an empty iterator (if not intended, be sure to provide a corpus that offers restartable iteration = an iterable).\n",
            "WARNING:gensim.models.word2vec:EPOCH 3: supplied example count (0) did not equal expected count (138)\n",
            "WARNING:gensim.models.word2vec:EPOCH 3: supplied raw word count (0) did not equal expected count (2634)\n",
            "WARNING:gensim.models.word2vec:train() called with an empty iterator (if not intended, be sure to provide a corpus that offers restartable iteration = an iterable).\n",
            "WARNING:gensim.models.word2vec:EPOCH 4: supplied example count (0) did not equal expected count (138)\n",
            "WARNING:gensim.models.word2vec:EPOCH 4: supplied raw word count (0) did not equal expected count (2634)\n"
          ]
        },
        {
          "output_type": "execute_result",
          "data": {
            "text/plain": [
              "array([-7.4103619e-03,  6.6182576e-03, -3.3724105e-03, -9.1466424e-04,\n",
              "        5.3590881e-03,  4.5699333e-03,  6.2081125e-03,  7.0277131e-03,\n",
              "        5.6163981e-03, -8.9188302e-03,  5.1445272e-03,  9.1253212e-03,\n",
              "       -4.0063607e-03,  1.0816014e-03, -3.2792091e-03, -3.4029423e-03,\n",
              "        8.6932965e-03, -2.7982713e-04,  3.4074627e-03, -5.5328486e-03,\n",
              "        5.7739685e-03, -3.3548998e-03, -4.9688267e-03,  2.1918691e-03,\n",
              "        9.7215315e-03, -6.1311652e-03,  3.5739136e-03, -9.9280116e-04,\n",
              "       -7.1910145e-03, -4.3305624e-03, -8.2193222e-03,  5.5899429e-03,\n",
              "       -2.7526962e-03, -5.1993635e-03,  9.9801656e-04,  4.5889402e-03,\n",
              "        9.4981082e-03, -9.7352127e-03, -2.7575850e-04, -1.2296820e-03,\n",
              "       -2.7000736e-03, -5.3002476e-04,  8.1299292e-03, -1.8766213e-03,\n",
              "        9.3343342e-03,  3.7805320e-04, -1.0646307e-03,  6.9046007e-03,\n",
              "        6.9426368e-03,  4.5891522e-04, -3.0289293e-04,  6.3429163e-03,\n",
              "       -3.8443613e-03,  4.5933365e-03, -8.5021260e-05, -6.0780393e-03,\n",
              "        6.4437841e-03, -4.0332736e-03,  2.2166455e-03, -6.8458901e-03,\n",
              "        2.6867497e-03,  5.5761398e-03,  5.1115416e-03, -8.0738710e-03,\n",
              "       -5.9077358e-03,  7.1287262e-03,  3.1156028e-03,  1.0988164e-03,\n",
              "       -6.1874557e-03, -1.3832616e-03, -9.2246234e-03,  1.2573279e-03,\n",
              "       -4.5686960e-03,  7.5523258e-04,  4.4853748e-03,  2.3915924e-03,\n",
              "       -7.1189846e-03,  8.5070613e-04, -6.7199292e-03, -3.8795162e-03,\n",
              "        1.8995845e-03,  7.9723075e-03, -6.5113916e-03,  2.3363030e-03,\n",
              "        8.1441794e-03,  9.9088177e-03,  6.1665978e-03, -7.3886719e-03,\n",
              "        3.8613058e-03,  8.8277925e-03,  4.1477298e-03,  2.5157356e-03,\n",
              "       -1.5901172e-03,  3.5783374e-03,  4.1533960e-03,  8.8242777e-03,\n",
              "       -3.8112819e-03, -8.7507246e-03,  6.5029035e-03, -6.2194122e-03],\n",
              "      dtype=float32)"
            ]
          },
          "metadata": {},
          "execution_count": 207
        }
      ]
    },
    {
      "cell_type": "code",
      "source": [
        "keys = ['orders', 'item', 'store', 'time','delivery', 'online']\n",
        "#keys = model.wv.key_to_index.keys()\n",
        "embedding_clusters = []\n",
        "word_clusters = []\n",
        "for word in keys:\n",
        "    embeddings = []\n",
        "    words = []\n",
        "    for similar_word, _ in modelNegativess.wv.most_similar(word, topn=30):\n",
        "        words.append(similar_word)\n",
        "        embeddings.append(modelNegativess.wv[similar_word])\n",
        "    embedding_clusters.append(embeddings)\n",
        "    word_clusters.append(words)"
      ],
      "metadata": {
        "id": "U3SHCAA4zndu"
      },
      "execution_count": null,
      "outputs": []
    },
    {
      "cell_type": "code",
      "source": [
        "from sklearn.manifold import TSNE\n",
        "import numpy as np\n",
        "\n",
        "embedding_clusters = np.array(embedding_clusters)\n",
        "n, m, k = embedding_clusters.shape\n",
        "tsne_model_en_2d = TSNE(n_components = 2, init = 'random', random_state = 20, perplexity = 100)\n",
        "#TSNE(perplexity=15, n_components=2, init='pca', n_iter=2500, random_state=32)\n",
        "embeddings_en_2d = np.array(tsne_model_en_2d.fit_transform(embedding_clusters.reshape(n * m, k))).reshape(n, m, 2)\n",
        "tsne_model_en_2d.kl_divergence_"
      ],
      "metadata": {
        "colab": {
          "base_uri": "https://localhost:8080/"
        },
        "id": "avwYPyBtaiuW",
        "outputId": "d497a696-2e86-4864-daa6-40cb7d5d3396"
      },
      "execution_count": null,
      "outputs": [
        {
          "output_type": "execute_result",
          "data": {
            "text/plain": [
              "0.4404132664203644"
            ]
          },
          "metadata": {},
          "execution_count": 217
        }
      ]
    },
    {
      "cell_type": "code",
      "source": [
        "import matplotlib.pyplot as plt\n",
        "import matplotlib.cm as cm\n",
        "\n",
        "\n",
        "\n",
        "def tsne_plot_similar_words(title, labels, embedding_clusters, word_clusters, a, filename=None):\n",
        "    plt.figure(figsize=(16, 9))\n",
        "    colors = cm.rainbow(np.linspace(0, 1, len(labels)))\n",
        "    for label, embeddings, words, color in zip(labels, embedding_clusters, word_clusters, colors):\n",
        "        x = embeddings[:, 0]\n",
        "        y = embeddings[:, 1]\n",
        "        plt.scatter(x, y, c=color, alpha=a, label=label)\n",
        "        # for i, word in enumerate(words):\n",
        "        #     plt.annotate(word, alpha=0.5, xy=(x[i], y[i]), xytext=(5, 2),\n",
        "        #                  textcoords='offset points', ha='right', va='bottom', size=8)\n",
        "    plt.legend(loc=4)\n",
        "    plt.title(title)\n",
        "    plt.grid(True)\n",
        "    if filename:\n",
        "        plt.savefig(filename, format='png', dpi=150, bbox_inches='tight')\n",
        "    plt.show()\n",
        "\n",
        "\n",
        "tsne_plot_similar_words('Similar words from Comments', keys, embeddings_en_2d, word_clusters, 0.7,\n",
        "                        'similar_words.png')"
      ],
      "metadata": {
        "colab": {
          "base_uri": "https://localhost:8080/",
          "height": 832
        },
        "id": "MoZaCg0LapQs",
        "outputId": "a4a593c4-7b42-495c-fc91-ce378858a5ea"
      },
      "execution_count": null,
      "outputs": [
        {
          "output_type": "stream",
          "name": "stderr",
          "text": [
            "/usr/local/lib/python3.10/dist-packages/mplcursors/_pick_info.py:55: UserWarning: *c* argument looks like a single numeric RGB or RGBA sequence, which should be avoided as value-mapping will have precedence in case its length matches with *x* & *y*.  Please use the *color* keyword-argument or provide a 2D array with a single row if you intend to specify the same RGB or RGBA value for all points.\n",
            "  paths = scatter.__wrapped__(*args, **kwargs)\n"
          ]
        },
        {
          "output_type": "display_data",
          "data": {
            "text/plain": [
              "<Figure size 1600x900 with 1 Axes>"
            ],
            "image/png": "[encoded data removed]"
          },
          "metadata": {}
        }
      ]
    },
    {
      "cell_type": "code",
      "source": [
        "pip install adjustText"
      ],
      "metadata": {
        "colab": {
          "base_uri": "https://localhost:8080/"
        },
        "id": "cY8HuPIuk8wt",
        "outputId": "e7a6b644-1028-4bc1-881b-471ed7dfdc93"
      },
      "execution_count": null,
      "outputs": [
        {
          "output_type": "stream",
          "name": "stdout",
          "text": [
            "Looking in indexes: https://pypi.org/simple, https://us-python.pkg.dev/colab-wheels/public/simple/\n",
            "Collecting adjustText\n",
            "  Downloading adjustText-0.8-py3-none-any.whl (9.1 kB)\n",
            "Requirement already satisfied: numpy in /usr/local/lib/python3.10/dist-packages (from adjustText) (1.22.4)\n",
            "Requirement already satisfied: matplotlib in /usr/local/lib/python3.10/dist-packages (from adjustText) (3.7.1)\n",
            "Requirement already satisfied: contourpy>=1.0.1 in /usr/local/lib/python3.10/dist-packages (from matplotlib->adjustText) (1.0.7)\n",
            "Requirement already satisfied: cycler>=0.10 in /usr/local/lib/python3.10/dist-packages (from matplotlib->adjustText) (0.11.0)\n",
            "Requirement already satisfied: fonttools>=4.22.0 in /usr/local/lib/python3.10/dist-packages (from matplotlib->adjustText) (4.39.3)\n",
            "Requirement already satisfied: kiwisolver>=1.0.1 in /usr/local/lib/python3.10/dist-packages (from matplotlib->adjustText) (1.4.4)\n",
            "Requirement already satisfied: packaging>=20.0 in /usr/local/lib/python3.10/dist-packages (from matplotlib->adjustText) (23.1)\n",
            "Requirement already satisfied: pillow>=6.2.0 in /usr/local/lib/python3.10/dist-packages (from matplotlib->adjustText) (8.4.0)\n",
            "Requirement already satisfied: pyparsing>=2.3.1 in /usr/local/lib/python3.10/dist-packages (from matplotlib->adjustText) (3.0.9)\n",
            "Requirement already satisfied: python-dateutil>=2.7 in /usr/local/lib/python3.10/dist-packages (from matplotlib->adjustText) (2.8.2)\n",
            "Requirement already satisfied: six>=1.5 in /usr/local/lib/python3.10/dist-packages (from python-dateutil>=2.7->matplotlib->adjustText) (1.16.0)\n",
            "Installing collected packages: adjustText\n",
            "Successfully installed adjustText-0.8\n"
          ]
        }
      ]
    },
    {
      "cell_type": "code",
      "source": [
        "import numpy as numpy\n",
        "import mplcursors\n",
        "from adjustText import adjust_text\n",
        "def tsne_plot(model):\n",
        "    \"Creates and TSNE model and plots it\"\n",
        "    labels = []\n",
        "    tokens = []\n",
        "\n",
        "    for word in list(model.wv.index_to_key):\n",
        "        tokens.append(model.wv[word])\n",
        "        labels.append(word)\n",
        "    embedding_clusters = []\n",
        "   # embedding_clusters.append(tokens)\n",
        "    tsne_model = TSNE(n_components = 2, init = 'random', random_state = 20, perplexity = 100)\n",
        "    #TSNE(perplexity=23, n_components=3, init='pca', n_iter=250, random_state=20)\n",
        "    new_values = tsne_model.fit_transform(np.array(tokens))\n",
        "    print(tsne_model.kl_divergence_)\n",
        "    \n",
        "\n",
        "    x = []\n",
        "    y = []\n",
        "    \n",
        "    for value in new_values:\n",
        "        x.append(value[0])\n",
        "        y.append(value[1])\n",
        "    plt.figure(figsize=(16, 8)) \n",
        "    a = []\n",
        "    b = []\n",
        "    count = 0\n",
        "    county = 0 \n",
        "    for i in range(len(x)):\n",
        "        # count = x[i] + count+4\n",
        "        # county = y[i] + county + 4\n",
        "        # matches = list(set(a) & set(numpy.array(x[i])))\n",
        "        # matchesY = list(set(b) & set(numpy.linspace(y[i])))\n",
        "        matches = x[i] in a\n",
        "        matchesY = y[i] in b\n",
        "        # if bool(matches):\n",
        "        #   print(count)\n",
        "        #   count = count+2\n",
        "        #   x[i] = x[i]+count\n",
        "          \n",
        "        # if bool(matchesY):\n",
        "        #   print(\"i am inside\")\n",
        "        #   print(county)\n",
        "        #   county = county + 2\n",
        "        #   y[i] = y[i] + county \n",
        "        plt.scatter(x[i],y[i])\n",
        "        #mplcursors.cursor(multiple = True).connect(\"add\", lambda sel: sel.annotation.set_text(labels[i]))\n",
        "        # plt.annotate(labels[i],\n",
        "        #              xy=(x[i],y[i]),\n",
        "        #              xytext=(5, 2),\n",
        "        #              textcoords='offset points',\n",
        "        #              ha='right',\n",
        "        #              va='bottom')\n",
        "        a.append(x[i])\n",
        "        b.append(y[i])\n",
        "        \n",
        "    plt.show()"
      ],
      "metadata": {
        "id": "IqoJONw-NEH6"
      },
      "execution_count": null,
      "outputs": []
    },
    {
      "cell_type": "code",
      "source": [
        "# model1 = word2vec.Word2Vec(corpusNegativeData, vector_size=100, window=20, min_count=3, workers=4)\n",
        "# tsne_plot(model1)\n",
        "#corpus\n",
        "from gensim.models import word2vec\n",
        "modelNegativess = word2vec.Word2Vec(corpusNegativeData, window=20, min_count=1, workers=4)\n",
        "modelNegativess.wv['prices']\n",
        "tsne_plot(modelNegativess)\n"
      ],
      "metadata": {
        "colab": {
          "base_uri": "https://localhost:8080/",
          "height": 694
        },
        "id": "f7Pw7LYRNUJw",
        "outputId": "e440e43e-1203-4008-a655-96a14f6cd044"
      },
      "execution_count": null,
      "outputs": [
        {
          "output_type": "stream",
          "name": "stdout",
          "text": [
            "2.059431552886963\n"
          ]
        },
        {
          "output_type": "display_data",
          "data": {
            "text/plain": [
              "<Figure size 1600x800 with 1 Axes>"
            ],
            "image/png": "[encoded data removed]"
          },
          "metadata": {}
        }
      ]
    },
    {
      "cell_type": "code",
      "source": [
        "def tsne_div(model):\n",
        "    \"Creates and TSNE model and plots it\"\n",
        "    labels = []\n",
        "    tokens = []\n",
        "\n",
        "    for word in list(model.wv.index_to_key):\n",
        "        tokens.append(model.wv[word])\n",
        "        labels.append(word)\n",
        "    embedding_clusters = []\n",
        "   # embedding_clusters.append(tokens)\n",
        "    tsne_model = TSNE(perplexity=10, n_components=3, init='pca', n_iter=250, random_state=16)\n",
        "    new_values = tsne_model.fit_transform(np.array(tokens))\n",
        "    print(tsne_model.kl_divergence_)\n"
      ],
      "metadata": {
        "id": "57MsLH3hCJyw"
      },
      "execution_count": null,
      "outputs": []
    },
    {
      "cell_type": "code",
      "source": [
        "tsne_div(modelNegative)\n"
      ],
      "metadata": {
        "colab": {
          "base_uri": "https://localhost:8080/"
        },
        "id": "ObcfIEnZFdNC",
        "outputId": "a5aa0b39-7c0f-4d00-f243-80f535f09047"
      },
      "execution_count": null,
      "outputs": [
        {
          "output_type": "stream",
          "name": "stdout",
          "text": [
            "1.7976931348623157e+308\n"
          ]
        }
      ]
    },
    {
      "cell_type": "code",
      "source": [
        "def build_corpus(data):\n",
        "    \"Creates a list of lists containing words from each sentence\"\n",
        "    corpus = []\n",
        "    for col in ['Reviews']:\n",
        "        for sentence in data[col].iteritems():\n",
        "            word_list = sentence[1].split(\" \")\n",
        "            corpus.append(word_list)\n",
        "            \n",
        "    return corpus\n",
        "\n",
        "corpus = build_corpus(df)        \n",
        "corpus[0:2]"
      ],
      "metadata": {
        "colab": {
          "base_uri": "https://localhost:8080/"
        },
        "id": "buR0JQG_K3PP",
        "outputId": "13a3f365-2d1c-492f-f1ad-0f168d71d6eb"
      },
      "execution_count": null,
      "outputs": [
        {
          "output_type": "stream",
          "name": "stderr",
          "text": [
            "<ipython-input-34-6a9276a69ead>:5: FutureWarning: iteritems is deprecated and will be removed in a future version. Use .items instead.\n",
            "  for sentence in data[col].iteritems():\n"
          ]
        },
        {
          "output_type": "execute_result",
          "data": {
            "text/plain": [
              "[['I',\n",
              "  'am',\n",
              "  'in',\n",
              "  'a',\n",
              "  'hospital',\n",
              "  'bed',\n",
              "  'and',\n",
              "  'was',\n",
              "  'relying',\n",
              "  'on',\n",
              "  'my',\n",
              "  'kids',\n",
              "  'to',\n",
              "  'bring',\n",
              "  'me',\n",
              "  'groceries',\n",
              "  'which',\n",
              "  'is',\n",
              "  'taking',\n",
              "  'a',\n",
              "  'toll',\n",
              "  'I',\n",
              "  'really',\n",
              "  'appreciate',\n",
              "  'the',\n",
              "  'delivery',\n",
              "  'that',\n",
              "  'Walmart',\n",
              "  'does',\n",
              "  'to',\n",
              "  'the',\n",
              "  'house',\n",
              "  'it’s',\n",
              "  'great',\n",
              "  '!'],\n",
              " ['I’ve',\n",
              "  'been',\n",
              "  'using',\n",
              "  'Walmart’s',\n",
              "  'curbside',\n",
              "  'pickup',\n",
              "  'ever',\n",
              "  'since',\n",
              "  'the',\n",
              "  'start',\n",
              "  'of',\n",
              "  'Covid.',\n",
              "  'I',\n",
              "  'love,',\n",
              "  'love,',\n",
              "  'love',\n",
              "  'it.',\n",
              "  'It',\n",
              "  'saves',\n",
              "  'me',\n",
              "  'so',\n",
              "  'much',\n",
              "  'time…it’s',\n",
              "  'absolutely',\n",
              "  'wonderful.',\n",
              "  'I',\n",
              "  'hope',\n",
              "  'that',\n",
              "  'Walmart',\n",
              "  'continues',\n",
              "  'this',\n",
              "  'service',\n",
              "  'FOREVER!!!',\n",
              "  'Thank',\n",
              "  'you,',\n",
              "  'Walmart!',\n",
              "  'I',\n",
              "  'will',\n",
              "  'be',\n",
              "  'a',\n",
              "  'loyal',\n",
              "  'customer',\n",
              "  'forever!!!❤️']]"
            ]
          },
          "metadata": {},
          "execution_count": 34
        }
      ]
    },
    {
      "cell_type": "code",
      "source": [
        "from gensim.models import word2vec\n",
        "model = word2vec.Word2Vec(corpus, window=20, min_count=1, workers=4)\n",
        "model.wv\n",
        "#model.wv['FOREVER']\n"
      ],
      "metadata": {
        "colab": {
          "base_uri": "https://localhost:8080/",
          "height": 371
        },
        "id": "DhPEy3qGLWa5",
        "outputId": "e0e8e5f0-f64e-499f-c964-fddb55313b59"
      },
      "execution_count": null,
      "outputs": [
        {
          "output_type": "error",
          "ename": "RuntimeError",
          "evalue": "ignored",
          "traceback": [
            "\u001b[0;31m---------------------------------------------------------------------------\u001b[0m",
            "\u001b[0;31mRuntimeError\u001b[0m                              Traceback (most recent call last)",
            "\u001b[0;32m<ipython-input-49-0d1ae4968a99>\u001b[0m in \u001b[0;36m<cell line: 2>\u001b[0;34m()\u001b[0m\n\u001b[1;32m      1\u001b[0m \u001b[0;32mfrom\u001b[0m \u001b[0mgensim\u001b[0m\u001b[0;34m.\u001b[0m\u001b[0mmodels\u001b[0m \u001b[0;32mimport\u001b[0m \u001b[0mword2vec\u001b[0m\u001b[0;34m\u001b[0m\u001b[0;34m\u001b[0m\u001b[0m\n\u001b[0;32m----> 2\u001b[0;31m \u001b[0mmodel\u001b[0m \u001b[0;34m=\u001b[0m \u001b[0mword2vec\u001b[0m\u001b[0;34m.\u001b[0m\u001b[0mWord2Vec\u001b[0m\u001b[0;34m(\u001b[0m\u001b[0mcorpus\u001b[0m\u001b[0;34m,\u001b[0m \u001b[0mwindow\u001b[0m\u001b[0;34m=\u001b[0m\u001b[0;36m20\u001b[0m\u001b[0;34m,\u001b[0m \u001b[0mmin_count\u001b[0m\u001b[0;34m=\u001b[0m\u001b[0;36m200\u001b[0m\u001b[0;34m,\u001b[0m \u001b[0mworkers\u001b[0m\u001b[0;34m=\u001b[0m\u001b[0;36m4\u001b[0m\u001b[0;34m)\u001b[0m\u001b[0;34m\u001b[0m\u001b[0;34m\u001b[0m\u001b[0m\n\u001b[0m\u001b[1;32m      3\u001b[0m \u001b[0mmodel\u001b[0m\u001b[0;34m.\u001b[0m\u001b[0mwv\u001b[0m\u001b[0;34m\u001b[0m\u001b[0;34m\u001b[0m\u001b[0m\n\u001b[1;32m      4\u001b[0m \u001b[0;31m#model.wv['FOREVER']\u001b[0m\u001b[0;34m\u001b[0m\u001b[0;34m\u001b[0m\u001b[0m\n",
            "\u001b[0;32m/usr/local/lib/python3.10/dist-packages/gensim/models/word2vec.py\u001b[0m in \u001b[0;36m__init__\u001b[0;34m(self, sentences, corpus_file, vector_size, alpha, window, min_count, max_vocab_size, sample, seed, workers, min_alpha, sg, hs, negative, ns_exponent, cbow_mean, hashfxn, epochs, null_word, trim_rule, sorted_vocab, batch_words, compute_loss, callbacks, comment, max_final_vocab, shrink_windows)\u001b[0m\n\u001b[1;32m    428\u001b[0m             \u001b[0mself\u001b[0m\u001b[0;34m.\u001b[0m\u001b[0m_check_corpus_sanity\u001b[0m\u001b[0;34m(\u001b[0m\u001b[0mcorpus_iterable\u001b[0m\u001b[0;34m=\u001b[0m\u001b[0mcorpus_iterable\u001b[0m\u001b[0;34m,\u001b[0m \u001b[0mcorpus_file\u001b[0m\u001b[0;34m=\u001b[0m\u001b[0mcorpus_file\u001b[0m\u001b[0;34m,\u001b[0m \u001b[0mpasses\u001b[0m\u001b[0;34m=\u001b[0m\u001b[0;34m(\u001b[0m\u001b[0mepochs\u001b[0m \u001b[0;34m+\u001b[0m \u001b[0;36m1\u001b[0m\u001b[0;34m)\u001b[0m\u001b[0;34m)\u001b[0m\u001b[0;34m\u001b[0m\u001b[0;34m\u001b[0m\u001b[0m\n\u001b[1;32m    429\u001b[0m             \u001b[0mself\u001b[0m\u001b[0;34m.\u001b[0m\u001b[0mbuild_vocab\u001b[0m\u001b[0;34m(\u001b[0m\u001b[0mcorpus_iterable\u001b[0m\u001b[0;34m=\u001b[0m\u001b[0mcorpus_iterable\u001b[0m\u001b[0;34m,\u001b[0m \u001b[0mcorpus_file\u001b[0m\u001b[0;34m=\u001b[0m\u001b[0mcorpus_file\u001b[0m\u001b[0;34m,\u001b[0m \u001b[0mtrim_rule\u001b[0m\u001b[0;34m=\u001b[0m\u001b[0mtrim_rule\u001b[0m\u001b[0;34m)\u001b[0m\u001b[0;34m\u001b[0m\u001b[0;34m\u001b[0m\u001b[0m\n\u001b[0;32m--> 430\u001b[0;31m             self.train(\n\u001b[0m\u001b[1;32m    431\u001b[0m                 \u001b[0mcorpus_iterable\u001b[0m\u001b[0;34m=\u001b[0m\u001b[0mcorpus_iterable\u001b[0m\u001b[0;34m,\u001b[0m \u001b[0mcorpus_file\u001b[0m\u001b[0;34m=\u001b[0m\u001b[0mcorpus_file\u001b[0m\u001b[0;34m,\u001b[0m \u001b[0mtotal_examples\u001b[0m\u001b[0;34m=\u001b[0m\u001b[0mself\u001b[0m\u001b[0;34m.\u001b[0m\u001b[0mcorpus_count\u001b[0m\u001b[0;34m,\u001b[0m\u001b[0;34m\u001b[0m\u001b[0;34m\u001b[0m\u001b[0m\n\u001b[1;32m    432\u001b[0m                 \u001b[0mtotal_words\u001b[0m\u001b[0;34m=\u001b[0m\u001b[0mself\u001b[0m\u001b[0;34m.\u001b[0m\u001b[0mcorpus_total_words\u001b[0m\u001b[0;34m,\u001b[0m \u001b[0mepochs\u001b[0m\u001b[0;34m=\u001b[0m\u001b[0mself\u001b[0m\u001b[0;34m.\u001b[0m\u001b[0mepochs\u001b[0m\u001b[0;34m,\u001b[0m \u001b[0mstart_alpha\u001b[0m\u001b[0;34m=\u001b[0m\u001b[0mself\u001b[0m\u001b[0;34m.\u001b[0m\u001b[0malpha\u001b[0m\u001b[0;34m,\u001b[0m\u001b[0;34m\u001b[0m\u001b[0;34m\u001b[0m\u001b[0m\n",
            "\u001b[0;32m/usr/local/lib/python3.10/dist-packages/gensim/models/word2vec.py\u001b[0m in \u001b[0;36mtrain\u001b[0;34m(self, corpus_iterable, corpus_file, total_examples, total_words, epochs, start_alpha, end_alpha, word_count, queue_factor, report_delay, compute_loss, callbacks, **kwargs)\u001b[0m\n\u001b[1;32m   1043\u001b[0m         \u001b[0mself\u001b[0m\u001b[0;34m.\u001b[0m\u001b[0mepochs\u001b[0m \u001b[0;34m=\u001b[0m \u001b[0mepochs\u001b[0m\u001b[0;34m\u001b[0m\u001b[0;34m\u001b[0m\u001b[0m\n\u001b[1;32m   1044\u001b[0m \u001b[0;34m\u001b[0m\u001b[0m\n\u001b[0;32m-> 1045\u001b[0;31m         \u001b[0mself\u001b[0m\u001b[0;34m.\u001b[0m\u001b[0m_check_training_sanity\u001b[0m\u001b[0;34m(\u001b[0m\u001b[0mepochs\u001b[0m\u001b[0;34m=\u001b[0m\u001b[0mepochs\u001b[0m\u001b[0;34m,\u001b[0m \u001b[0mtotal_examples\u001b[0m\u001b[0;34m=\u001b[0m\u001b[0mtotal_examples\u001b[0m\u001b[0;34m,\u001b[0m \u001b[0mtotal_words\u001b[0m\u001b[0;34m=\u001b[0m\u001b[0mtotal_words\u001b[0m\u001b[0;34m)\u001b[0m\u001b[0;34m\u001b[0m\u001b[0;34m\u001b[0m\u001b[0m\n\u001b[0m\u001b[1;32m   1046\u001b[0m         \u001b[0mself\u001b[0m\u001b[0;34m.\u001b[0m\u001b[0m_check_corpus_sanity\u001b[0m\u001b[0;34m(\u001b[0m\u001b[0mcorpus_iterable\u001b[0m\u001b[0;34m=\u001b[0m\u001b[0mcorpus_iterable\u001b[0m\u001b[0;34m,\u001b[0m \u001b[0mcorpus_file\u001b[0m\u001b[0;34m=\u001b[0m\u001b[0mcorpus_file\u001b[0m\u001b[0;34m,\u001b[0m \u001b[0mpasses\u001b[0m\u001b[0;34m=\u001b[0m\u001b[0mepochs\u001b[0m\u001b[0;34m)\u001b[0m\u001b[0;34m\u001b[0m\u001b[0;34m\u001b[0m\u001b[0m\n\u001b[1;32m   1047\u001b[0m \u001b[0;34m\u001b[0m\u001b[0m\n",
            "\u001b[0;32m/usr/local/lib/python3.10/dist-packages/gensim/models/word2vec.py\u001b[0m in \u001b[0;36m_check_training_sanity\u001b[0;34m(self, epochs, total_examples, total_words, **kwargs)\u001b[0m\n\u001b[1;32m   1552\u001b[0m \u001b[0;34m\u001b[0m\u001b[0m\n\u001b[1;32m   1553\u001b[0m         \u001b[0;32mif\u001b[0m \u001b[0;32mnot\u001b[0m \u001b[0mself\u001b[0m\u001b[0;34m.\u001b[0m\u001b[0mwv\u001b[0m\u001b[0;34m.\u001b[0m\u001b[0mkey_to_index\u001b[0m\u001b[0;34m:\u001b[0m  \u001b[0;31m# should be set by `build_vocab`\u001b[0m\u001b[0;34m\u001b[0m\u001b[0;34m\u001b[0m\u001b[0m\n\u001b[0;32m-> 1554\u001b[0;31m             \u001b[0;32mraise\u001b[0m \u001b[0mRuntimeError\u001b[0m\u001b[0;34m(\u001b[0m\u001b[0;34m\"you must first build vocabulary before training the model\"\u001b[0m\u001b[0;34m)\u001b[0m\u001b[0;34m\u001b[0m\u001b[0;34m\u001b[0m\u001b[0m\n\u001b[0m\u001b[1;32m   1555\u001b[0m         \u001b[0;32mif\u001b[0m \u001b[0;32mnot\u001b[0m \u001b[0mlen\u001b[0m\u001b[0;34m(\u001b[0m\u001b[0mself\u001b[0m\u001b[0;34m.\u001b[0m\u001b[0mwv\u001b[0m\u001b[0;34m.\u001b[0m\u001b[0mvectors\u001b[0m\u001b[0;34m)\u001b[0m\u001b[0;34m:\u001b[0m\u001b[0;34m\u001b[0m\u001b[0;34m\u001b[0m\u001b[0m\n\u001b[1;32m   1556\u001b[0m             \u001b[0;32mraise\u001b[0m \u001b[0mRuntimeError\u001b[0m\u001b[0;34m(\u001b[0m\u001b[0;34m\"you must initialize vectors before training the model\"\u001b[0m\u001b[0;34m)\u001b[0m\u001b[0;34m\u001b[0m\u001b[0;34m\u001b[0m\u001b[0m\n",
            "\u001b[0;31mRuntimeError\u001b[0m: you must first build vocabulary before training the model"
          ]
        }
      ]
    },
    {
      "cell_type": "code",
      "source": [
        "small_count_vectorizer = CountVectorizer(stop_words='english', max_features=40000)\n",
        "small_text_sample = df['Reviews'].sample(n=500, random_state=0).values\n",
        "\n",
        "print('Reviews before vectorization: {}'.format(small_text_sample[123]))\n",
        "\n",
        "small_document_term_matrix = small_count_vectorizer.fit_transform(small_text_sample)\n",
        "\n",
        "print('Reviews after vectorization: \\n{}'.format(small_document_term_matrix[123]))"
      ],
      "metadata": {
        "colab": {
          "base_uri": "https://localhost:8080/"
        },
        "id": "AOy95PlgTaYE",
        "outputId": "f64fcdd3-8498-4729-bfe4-5555b776865e"
      },
      "execution_count": null,
      "outputs": [
        {
          "output_type": "stream",
          "name": "stdout",
          "text": [
            "Reviews before vectorization: sugar items. See I’m a diabetic. I can’t have too much real sugar. They need to add a section on the substitution page to request certain items only be substituted for that specific type. Like sugar free pancake syrup be replaced with another brand of sugar free syrup. I’ve had Items changed to real sugar item a few times and they just go to waste because I won’t eat them.\n",
            "Reviews after vectorization: \n",
            "  (0, 888)\t3\n",
            "  (0, 907)\t1\n",
            "  (0, 64)\t1\n",
            "  (0, 887)\t1\n",
            "  (0, 1860)\t1\n",
            "  (0, 1774)\t1\n",
            "  (0, 962)\t1\n",
            "  (0, 273)\t1\n",
            "  (0, 1903)\t1\n",
            "  (0, 1236)\t1\n",
            "  (0, 281)\t1\n",
            "  (0, 1115)\t1\n",
            "  (0, 536)\t1\n",
            "  (0, 670)\t2\n",
            "  (0, 1711)\t5\n",
            "  (0, 474)\t1\n",
            "  (0, 1398)\t2\n",
            "  (0, 1542)\t1\n",
            "  (0, 1704)\t1\n",
            "  (0, 1449)\t1\n",
            "  (0, 1702)\t1\n",
            "  (0, 1643)\t1\n",
            "  (0, 1823)\t1\n",
            "  (0, 1242)\t1\n",
            "  (0, 1736)\t2\n",
            "  (0, 1444)\t1\n",
            "  (0, 209)\t1\n",
            "  (0, 1931)\t1\n"
          ]
        }
      ]
    },
    {
      "cell_type": "code",
      "source": [
        "#because we need 10 topics\n",
        "n_topics = 10"
      ],
      "metadata": {
        "id": "eufHMtTGUi2X"
      },
      "execution_count": null,
      "outputs": []
    },
    {
      "cell_type": "code",
      "source": [
        "lsa_model = TruncatedSVD(n_components=n_topics)\n",
        "lsa_topic_matrix = lsa_model.fit_transform(small_document_term_matrix)\n"
      ],
      "metadata": {
        "id": "Hj5JSwuxUlmQ"
      },
      "execution_count": null,
      "outputs": []
    },
    {
      "cell_type": "code",
      "source": [
        "def get_keys(topic_matrix):\n",
        "    '''\n",
        "    returns an integer list of predicted topic \n",
        "    categories for a given topic matrix\n",
        "    '''\n",
        "    keys = topic_matrix.argmax(axis=1).tolist()\n",
        "    return keys\n",
        "\n",
        "def keys_to_counts(keys):\n",
        "    '''\n",
        "    returns a tuple of topic categories and their \n",
        "    accompanying magnitudes for a given list of keys\n",
        "    '''\n",
        "    count_pairs = Counter(keys).items()\n",
        "    categories = [pair[0] for pair in count_pairs]\n",
        "    counts = [pair[1] for pair in count_pairs]\n",
        "    return (categories, counts)"
      ],
      "metadata": {
        "id": "NH8p0BneUqLa"
      },
      "execution_count": null,
      "outputs": []
    },
    {
      "cell_type": "code",
      "source": [
        "lsa_keys = get_keys(lsa_topic_matrix)\n",
        "lsa_categories, lsa_counts = keys_to_counts(lsa_keys)"
      ],
      "metadata": {
        "id": "ou3b5PXxUz5r"
      },
      "execution_count": null,
      "outputs": []
    },
    {
      "cell_type": "code",
      "source": [
        "# Define helper functions\n",
        "def get_top_n_words(n, keys, document_term_matrix, count_vectorizer):\n",
        "    '''\n",
        "    returns a list of n_topic strings, where each string contains the n most common \n",
        "    words in a predicted category, in order\n",
        "    '''\n",
        "    top_word_indices = []\n",
        "    for topic in range(n_topics):\n",
        "        temp_vector_sum = 0\n",
        "        for i in range(len(keys)):\n",
        "            if keys[i] == topic:\n",
        "                temp_vector_sum += document_term_matrix[i]\n",
        "        temp_vector_sum = temp_vector_sum.toarray()\n",
        "        top_n_word_indices = np.flip(np.argsort(temp_vector_sum)[0][-n:],0)\n",
        "        top_word_indices.append(top_n_word_indices)   \n",
        "    top_words = []\n",
        "    for topic in top_word_indices:\n",
        "        topic_words = []\n",
        "        for index in topic:\n",
        "            temp_word_vector = np.zeros((1,document_term_matrix.shape[1]))\n",
        "            temp_word_vector[:,index] = 1\n",
        "            the_word = count_vectorizer.inverse_transform(temp_word_vector)[0][0]\n",
        "            topic_words.append(the_word.encode('ascii','ignore').decode('utf-8'))\n",
        "        top_words.append(\" \".join(topic_words))         \n",
        "    return top_words"
      ],
      "metadata": {
        "id": "o2mRpyAYU-Xh"
      },
      "execution_count": null,
      "outputs": []
    },
    {
      "cell_type": "code",
      "source": [
        "top_n_words_lsa = get_top_n_words(10, lsa_keys, small_document_term_matrix, small_count_vectorizer)\n",
        "\n",
        "for i in range(len(top_n_words_lsa)):\n",
        "    print(\"Topic {}: \".format(i+1), top_n_words_lsa[i])"
      ],
      "metadata": {
        "colab": {
          "base_uri": "https://localhost:8080/"
        },
        "id": "IyunbY9qVAkE",
        "outputId": "cafb52ae-03f4-47c5-de47-5cec72489fb7"
      },
      "execution_count": null,
      "outputs": [
        {
          "output_type": "stream",
          "name": "stdout",
          "text": [
            "Topic 1:  walmart app order time items love store delivered delivery service\n",
            "Topic 2:  happy address mailing figure charge delete old let min 35\n",
            "Topic 3:  app use store easy scan things check pickup just item\n",
            "Topic 4:  people items don stuff need work doesn just walmart drivers\n",
            "Topic 5:  order item online week items store great wait times able\n",
            "Topic 6:  tires tire walmart order later car week pick com check\n",
            "Topic 7:  good money ve veces pickup el la prepared service quality\n",
            "Topic 8:  delivery love groceries great like dont ask free really shopping\n",
            "Topic 9:  service great store customer thank good friendly job excellent did\n",
            "Topic 10:  muy que fcil lo rpido es para apple recomiendo son\n"
          ]
        }
      ]
    },
    {
      "cell_type": "code",
      "source": [
        "top_3_words = get_top_n_words(3, lsa_keys, small_document_term_matrix, small_count_vectorizer)\n",
        "labels = [''.format(i) + top_3_words[i] for i in lsa_categories]\n",
        "\n",
        "fig, ax = plt.subplots(figsize=(32,16))\n",
        "ax.bar(lsa_categories, lsa_counts);\n",
        "ax.set_xticks(lsa_categories);\n",
        "ax.set_xticklabels(labels);\n",
        "ax.set_ylabel('Number of headlines');\n",
        "ax.set_title('LSA topic counts');\n",
        "plt.show()"
      ],
      "metadata": {
        "id": "1kTpmZgzVJGG",
        "outputId": "6316c3d1-26bf-4dc6-a771-f2b5dfaa37a5",
        "colab": {
          "base_uri": "https://localhost:8080/",
          "height": 240
        }
      },
      "execution_count": null,
      "outputs": [
        {
          "output_type": "error",
          "ename": "NameError",
          "evalue": "ignored",
          "traceback": [
            "\u001b[0;31m---------------------------------------------------------------------------\u001b[0m",
            "\u001b[0;31mNameError\u001b[0m                                 Traceback (most recent call last)",
            "\u001b[0;32m<ipython-input-21-c746942c73f9>\u001b[0m in \u001b[0;36m<cell line: 1>\u001b[0;34m()\u001b[0m\n\u001b[0;32m----> 1\u001b[0;31m \u001b[0mtop_3_words\u001b[0m \u001b[0;34m=\u001b[0m \u001b[0mget_top_n_words\u001b[0m\u001b[0;34m(\u001b[0m\u001b[0;36m3\u001b[0m\u001b[0;34m,\u001b[0m \u001b[0mlsa_keys\u001b[0m\u001b[0;34m,\u001b[0m \u001b[0msmall_document_term_matrix\u001b[0m\u001b[0;34m,\u001b[0m \u001b[0msmall_count_vectorizer\u001b[0m\u001b[0;34m)\u001b[0m\u001b[0;34m\u001b[0m\u001b[0;34m\u001b[0m\u001b[0m\n\u001b[0m\u001b[1;32m      2\u001b[0m \u001b[0mlabels\u001b[0m \u001b[0;34m=\u001b[0m \u001b[0;34m[\u001b[0m\u001b[0;34m''\u001b[0m\u001b[0;34m.\u001b[0m\u001b[0mformat\u001b[0m\u001b[0;34m(\u001b[0m\u001b[0mi\u001b[0m\u001b[0;34m)\u001b[0m \u001b[0;34m+\u001b[0m \u001b[0mtop_3_words\u001b[0m\u001b[0;34m[\u001b[0m\u001b[0mi\u001b[0m\u001b[0;34m]\u001b[0m \u001b[0;32mfor\u001b[0m \u001b[0mi\u001b[0m \u001b[0;32min\u001b[0m \u001b[0mlsa_categories\u001b[0m\u001b[0;34m]\u001b[0m\u001b[0;34m\u001b[0m\u001b[0;34m\u001b[0m\u001b[0m\n\u001b[1;32m      3\u001b[0m \u001b[0;34m\u001b[0m\u001b[0m\n\u001b[1;32m      4\u001b[0m \u001b[0mfig\u001b[0m\u001b[0;34m,\u001b[0m \u001b[0max\u001b[0m \u001b[0;34m=\u001b[0m \u001b[0mplt\u001b[0m\u001b[0;34m.\u001b[0m\u001b[0msubplots\u001b[0m\u001b[0;34m(\u001b[0m\u001b[0mfigsize\u001b[0m\u001b[0;34m=\u001b[0m\u001b[0;34m(\u001b[0m\u001b[0;36m32\u001b[0m\u001b[0;34m,\u001b[0m\u001b[0;36m16\u001b[0m\u001b[0;34m)\u001b[0m\u001b[0;34m)\u001b[0m\u001b[0;34m\u001b[0m\u001b[0;34m\u001b[0m\u001b[0m\n\u001b[1;32m      5\u001b[0m \u001b[0max\u001b[0m\u001b[0;34m.\u001b[0m\u001b[0mbar\u001b[0m\u001b[0;34m(\u001b[0m\u001b[0mlsa_categories\u001b[0m\u001b[0;34m,\u001b[0m \u001b[0mlsa_counts\u001b[0m\u001b[0;34m)\u001b[0m\u001b[0;34m;\u001b[0m\u001b[0;34m\u001b[0m\u001b[0;34m\u001b[0m\u001b[0m\n",
            "\u001b[0;31mNameError\u001b[0m: name 'lsa_keys' is not defined"
          ]
        }
      ]
    },
    {
      "cell_type": "code",
      "source": [
        "count_vect = CountVectorizer() #in scikit-learn\n",
        "count_vect.fit(preprocessed_reviews)\n",
        "\n",
        "final_counts = count_vect.transform(preprocessed_reviews)\n",
        "print(\"the type of count vectorizer \",type(final_counts))\n",
        "print(\"the shape of out text BOW vectorizer \",final_counts.get_shape())\n",
        "print(\"the number of unique words \", final_counts.get_shape()[1])"
      ],
      "metadata": {
        "colab": {
          "base_uri": "https://localhost:8080/"
        },
        "id": "tejJRaM_Aq3-",
        "outputId": "1d8f2df1-6ae1-4263-a174-e16f24e909ee"
      },
      "execution_count": null,
      "outputs": [
        {
          "output_type": "stream",
          "name": "stdout",
          "text": [
            "the type of count vectorizer  <class 'scipy.sparse._csr.csr_matrix'>\n",
            "the shape of out text BOW vectorizer  (500, 1584)\n",
            "the number of unique words  1584\n"
          ]
        }
      ]
    },
    {
      "cell_type": "code",
      "source": [
        "#bi-gram, tri-gram and n-gram\n",
        "\n",
        "#removing stop words like \"not\" should be avoided before building n-grams\n",
        "# count_vect = CountVectorizer(ngram_range=(1,2))\n",
        "# please do read the CountVectorizer documentation http://scikit-learn.org/stable/modules/generated/sklearn.feature_extraction.text.CountVectorizer.html\n",
        "# you can choose these numebrs min_df=10, max_features=5000, of your choice\n",
        "count_vect = CountVectorizer(ngram_range=(1,2))\n",
        "final_bigram_counts = count_vect.fit_transform(preprocessed_reviews)\n",
        "print(\"the type of count vectorizer \",type(final_bigram_counts))\n",
        "print(\"the shape of out text BOW vectorizer \",final_bigram_counts.get_shape())\n",
        "print(\"the number of unique words including both unigrams and bigrams \", final_bigram_counts.get_shape()[1])"
      ],
      "metadata": {
        "colab": {
          "base_uri": "https://localhost:8080/"
        },
        "id": "nIouh4_OH7Lv",
        "outputId": "269763ce-f448-42c6-9e27-05e3964dfaef"
      },
      "execution_count": null,
      "outputs": [
        {
          "output_type": "stream",
          "name": "stdout",
          "text": [
            "the type of count vectorizer  <class 'scipy.sparse._csr.csr_matrix'>\n",
            "the shape of out text BOW vectorizer  (500, 7368)\n",
            "the number of unique words including both unigrams and bigrams  7368\n"
          ]
        }
      ]
    },
    {
      "cell_type": "code",
      "source": [
        "from sklearn.feature_extraction.text import TfidfTransformer\n",
        "from sklearn.feature_extraction.text import TfidfVectorizer\n",
        "tf_idf_vect = TfidfVectorizer(ngram_range=(1,2), min_df=10)\n",
        "tf_idf_vect.fit(preprocessed_reviews)\n",
        "\n",
        "final_tf_idf = tf_idf_vect.transform(preprocessed_reviews)\n",
        "print(\"the type of count vectorizer \",type(final_tf_idf))\n",
        "print(\"the shape of out text TFIDF vectorizer \",final_tf_idf.get_shape())\n",
        "print(\"the number of unique words including both unigrams and bigrams \", final_tf_idf.get_shape()[1])"
      ],
      "metadata": {
        "colab": {
          "base_uri": "https://localhost:8080/"
        },
        "id": "PM-KFsmZIBa1",
        "outputId": "1ea677ed-f48c-4ecc-b61e-d6acb5f488f8"
      },
      "execution_count": null,
      "outputs": [
        {
          "output_type": "stream",
          "name": "stdout",
          "text": [
            "the type of count vectorizer  <class 'scipy.sparse._csr.csr_matrix'>\n",
            "the shape of out text TFIDF vectorizer  (500, 147)\n",
            "the number of unique words including both unigrams and bigrams  147\n"
          ]
        }
      ]
    },
    {
      "cell_type": "code",
      "source": [
        "# Train your own Word2Vec model using your own text corpus\n",
        "i=0\n",
        "list_of_sentance=[]\n",
        "for sentance in preprocessed_reviews:\n",
        "    list_of_sentance.append(sentance.split())\n"
      ],
      "metadata": {
        "id": "B-Rfk-0FIM3q"
      },
      "execution_count": null,
      "outputs": []
    },
    {
      "cell_type": "code",
      "source": [
        "from gensim.models import Word2Vec\n",
        "from gensim.models import KeyedVectors\n",
        "w2v_model=Word2Vec(list_of_sentance,min_count=5, workers=4)\n",
        "print(w2v_model.wv.most_similar('great'))\n",
        "print('='*50)\n",
        "print(w2v_model.wv.most_similar('bad'))"
      ],
      "metadata": {
        "colab": {
          "base_uri": "https://localhost:8080/"
        },
        "id": "3q7rG_gPIJON",
        "outputId": "ed0c2b55-0b70-43a7-cdeb-66fea44f5a81"
      },
      "execution_count": null,
      "outputs": [
        {
          "output_type": "stream",
          "name": "stdout",
          "text": [
            "[('store', 0.9941524267196655), ('not', 0.994034469127655), ('app', 0.99399733543396), ('walmart', 0.9938738346099854), ('get', 0.9938234686851501), ('order', 0.9937263131141663), ('deliveri', 0.9934796094894409), ('time', 0.9934544563293457), ('deliv', 0.9933898448944092), ('pay', 0.9933180809020996)]\n",
            "==================================================\n",
            "[('order', 0.9748262763023376), ('no', 0.9747775793075562), ('also', 0.9736064672470093), ('look', 0.9735137224197388), ('ship', 0.973423957824707), ('item', 0.9733151197433472), ('like', 0.9731152057647705), ('use', 0.9730541110038757), ('could', 0.9730424880981445), ('app', 0.9728588461875916)]\n"
          ]
        }
      ]
    },
    {
      "cell_type": "code",
      "source": [
        "from gensim.test.utils import lee_corpus_list\n",
        "from gensim.models import Word2Vec\n",
        "w2v_words = list(w2v_model.wv.index_to_key)\n",
        "print(\"number of words that occured minimum 5 times \",len(w2v_words))\n",
        "print(\"sample words \", w2v_words[0:30])"
      ],
      "metadata": {
        "colab": {
          "base_uri": "https://localhost:8080/"
        },
        "id": "vXw7dX7YI3EQ",
        "outputId": "1df52798-e213-4ad1-e680-2c42451f90fd"
      },
      "execution_count": null,
      "outputs": [
        {
          "output_type": "stream",
          "name": "stdout",
          "text": [
            "number of words that occured minimum 5 times  354\n",
            "sample words  ['walmart', 'order', 'app', 'not', 'item', 'time', 'get', 'store', 'use', 'love', 'great', 'deliveri', 'servic', 'alway', 'shop', 'no', 'thank', 'deliv', 'groceri', 'easi', 'go', 'day', 'onlin', 'need', 'ship', 'work', 'would', 'like', 'custom', 'price']\n"
          ]
        }
      ]
    },
    {
      "cell_type": "code",
      "source": [
        "# average Word2Vec\n",
        "# compute average word2vec for each review.\n",
        "import numpy as np\n",
        "sent_vectors = []; # the avg-w2v for each sentence/review is stored in this list\n",
        "for sent in tqdm(list_of_sentance): # for each review/sentence\n",
        "    sent_vec = np.zeros(100) # as word vectors are of zero length 50, you might need to change this to 300 if you use google's w2v\n",
        "    cnt_words =0; # num of words with a valid vector in the sentence/review\n",
        "    for word in sent: # for each word in a review/sentence\n",
        "        if word in w2v_words:\n",
        "            vec = w2v_model.wv[word]\n",
        "            sent_vec += vec\n",
        "            cnt_words += 1\n",
        "    if cnt_words != 0:\n",
        "        sent_vec /= cnt_words\n",
        "    sent_vectors.append(sent_vec)\n",
        "print(len(sent_vectors))\n",
        "print(len(sent_vectors[0]))"
      ],
      "metadata": {
        "colab": {
          "base_uri": "https://localhost:8080/"
        },
        "id": "jH7VQ2OPJnph",
        "outputId": "25175788-8c08-4f47-c252-1ce598405907"
      },
      "execution_count": null,
      "outputs": [
        {
          "output_type": "stream",
          "name": "stderr",
          "text": [
            "100%|██████████| 500/500 [00:00<00:00, 6197.53it/s]"
          ]
        },
        {
          "output_type": "stream",
          "name": "stdout",
          "text": [
            "500\n",
            "100\n"
          ]
        },
        {
          "output_type": "stream",
          "name": "stderr",
          "text": [
            "\n"
          ]
        }
      ]
    },
    {
      "cell_type": "code",
      "source": [
        "# S = [\"abc def pqr\", \"def def def abc\", \"pqr pqr def\"]\n",
        "from sklearn.feature_extraction.text import TfidfVectorizer\n",
        "model = TfidfVectorizer()\n",
        "model.fit(preprocessed_reviews)\n",
        "# we are converting a dictionary with word as a key, and the idf as a value\n",
        "dictionary = dict(zip(model.get_feature_names_out(), list(model.idf_)))"
      ],
      "metadata": {
        "id": "MVOwkIrsKKdR"
      },
      "execution_count": null,
      "outputs": []
    },
    {
      "cell_type": "code",
      "source": [
        "# TF-IDF weighted Word2Vec\n",
        "tfidf_feat = model.get_feature_names_out() # tfidf words/col-names\n",
        "# final_tf_idf is the sparse matrix with row= sentence, col=word and cell_val = tfidf\n",
        "\n",
        "tfidf_sent_vectors = []; # the tfidf-w2v for each sentence/review is stored in this list\n",
        "row=0;\n",
        "for sent in tqdm(list_of_sentance): # for each review/sentence \n",
        "    sent_vec = np.zeros(100) # as word vectors are of zero length\n",
        "    weight_sum =0; # num of words with a valid vector in the sentence/review\n",
        "    for word in sent: # for each word in a review/sentence\n",
        "        if word in w2v_words and word in tfidf_feat:\n",
        "            vec = w2v_model.wv[word]\n",
        "#             tf_idf = tf_idf_matrix[row, tfidf_feat.index(word)]\n",
        "            # to reduce the computation we are \n",
        "            # dictionary[word] = idf value of word in whole courpus\n",
        "            # sent.count(word) = tf valeus of word in this review\n",
        "            tf_idf = dictionary[word]*(sent.count(word)/len(sent))\n",
        "            sent_vec += (vec * tf_idf)\n",
        "            weight_sum += tf_idf\n",
        "    if weight_sum != 0:\n",
        "        sent_vec /= weight_sum\n",
        "    tfidf_sent_vectors.append(sent_vec)\n",
        "    row += 1"
      ],
      "metadata": {
        "colab": {
          "base_uri": "https://localhost:8080/"
        },
        "id": "_2UGdITtKfpM",
        "outputId": "3c4b4069-a5f2-4020-cf2a-49af3a41af7b"
      },
      "execution_count": null,
      "outputs": [
        {
          "output_type": "stream",
          "name": "stderr",
          "text": [
            "100%|██████████| 500/500 [00:00<00:00, 1642.17it/s]\n"
          ]
        }
      ]
    },
    {
      "cell_type": "code",
      "source": [
        "# As BoW and TF-IDF gives sparse matrix, and TSNE only accepts Dense matrix.so we need to convert sparse matrix to dense\n",
        "from sklearn.preprocessing import StandardScaler\n",
        "print(final_bigram_counts.shape)\n",
        "std_data = StandardScaler(with_mean = False).fit_transform(final_bigram_counts)\n",
        "print(std_data.shape)\n",
        "type(std_data)\n",
        "std_data=std_data.toarray()\n",
        "print(type(std_data))"
      ],
      "metadata": {
        "colab": {
          "base_uri": "https://localhost:8080/"
        },
        "id": "mbbp3oCMKp-g",
        "outputId": "4c41cdc4-e67e-4e18-8666-421c43598c15"
      },
      "execution_count": null,
      "outputs": [
        {
          "output_type": "stream",
          "name": "stdout",
          "text": [
            "(500, 7368)\n",
            "(500, 7368)\n",
            "<class 'numpy.ndarray'>\n"
          ]
        }
      ]
    },
    {
      "cell_type": "code",
      "source": [
        "score=df['Score'] #storing all scores in a new series.\n",
        "print(type(score))\n",
        "print(score.shape)"
      ],
      "metadata": {
        "colab": {
          "base_uri": "https://localhost:8080/"
        },
        "id": "kGSkk2UtQNIG",
        "outputId": "726ec068-5776-4879-a32e-5817b99889ec"
      },
      "execution_count": null,
      "outputs": [
        {
          "output_type": "stream",
          "name": "stdout",
          "text": [
            "<class 'pandas.core.series.Series'>\n",
            "(500,)\n"
          ]
        }
      ]
    },
    {
      "cell_type": "code",
      "source": [
        "std_data"
      ],
      "metadata": {
        "colab": {
          "base_uri": "https://localhost:8080/"
        },
        "id": "aVSODmsNRVgV",
        "outputId": "afa22780-05e5-4abd-cc6f-1762114bd9bb"
      },
      "execution_count": null,
      "outputs": [
        {
          "output_type": "execute_result",
          "data": {
            "text/plain": [
              "array([[0., 0., 0., ..., 0., 0., 0.],\n",
              "       [0., 0., 0., ..., 0., 0., 0.],\n",
              "       [0., 0., 0., ..., 0., 0., 0.],\n",
              "       ...,\n",
              "       [0., 0., 0., ..., 0., 0., 0.],\n",
              "       [0., 0., 0., ..., 0., 0., 0.],\n",
              "       [0., 0., 0., ..., 0., 0., 0.]])"
            ]
          },
          "metadata": {},
          "execution_count": 22
        }
      ]
    },
    {
      "cell_type": "code",
      "source": [
        "from sklearn.manifold import TSNE\n",
        "from sklearn import datasets\n",
        "import pandas as pd\n",
        "import matplotlib.pyplot as plt\n",
        "import seaborn as sns\n",
        "\n",
        "\n",
        "model = TSNE(n_components=10, perplexity=45, learning_rate=100, n_iter = 500, random_state=0)\n",
        "for_tsne = model.fit_transform(std_data, score)\n",
        "# if x is a sparse matrix you need to pass it as X_embedding = tsne.fit_transform(x.todense()) , .toarray() will convert the sparse matrix into dense matrix\n",
        "\n",
        "for_tsne = np.vstack((for_tsne.T, score)).T\n",
        "for_tsne_df = pd.DataFrame(data=for_tsne, columns=['Dimension_x','Dimension_y','Score'])\n",
        "sns.FacetGrid(for_tsne_df, hue=\"Score\").map(plt.scatter, 'Dimension_x', 'Dimension_y').add_legend()\n",
        "plt.title(\"TSNE for Bag of Words\")"
      ],
      "metadata": {
        "colab": {
          "base_uri": "https://localhost:8080/",
          "height": 346
        },
        "id": "z3-qV6_tKvzJ",
        "outputId": "556610a5-827a-42fd-eb45-038a6fd8d892"
      },
      "execution_count": null,
      "outputs": [
        {
          "output_type": "execute_result",
          "data": {
            "text/plain": [
              "Text(0.5, 1.0, 'TSNE for Bag of Words')"
            ]
          },
          "metadata": {},
          "execution_count": 23
        },
        {
          "output_type": "display_data",
          "data": {
            "text/plain": [
              "<Figure size 412.75x300 with 1 Axes>"
            ],
            "image/png": "[encoded data removed]"
          },
          "metadata": {}
        }
      ]
    },
    {
      "cell_type": "code",
      "source": [
        "from sklearn.preprocessing import StandardScaler\n",
        "\n",
        "std_data1 = StandardScaler(with_mean = False).fit_transform(final_tf_idf)\n",
        "print(std_data1.shape)\n",
        "type(std_data1)\n",
        "std_data1=std_data1.toarray()\n",
        "type(std_data1)"
      ],
      "metadata": {
        "colab": {
          "base_uri": "https://localhost:8080/"
        },
        "id": "PD-kh-RyMH4h",
        "outputId": "0e2db5d8-6daf-4335-d550-645c3ab4bfb0"
      },
      "execution_count": null,
      "outputs": [
        {
          "output_type": "stream",
          "name": "stdout",
          "text": [
            "(500, 147)\n"
          ]
        },
        {
          "output_type": "execute_result",
          "data": {
            "text/plain": [
              "numpy.ndarray"
            ]
          },
          "metadata": {},
          "execution_count": 26
        }
      ]
    },
    {
      "cell_type": "code",
      "source": [
        "model = TSNE(n_components=2, perplexity=40, learning_rate=100, n_iter=500)\n",
        "\n",
        "for_tsne = model.fit_transform(std_data1)\n",
        "# if x is a sparse matrix you need to pass it as X_embedding = tsne.fit_transform(x.todense()) , .toarray() will convert the sparse matrix into dense matrix\n",
        "\n",
        "for_tsne = np.vstack((for_tsne.T, score)).T\n",
        "for_tsne_df = pd.DataFrame(data=for_tsne, columns=['Dimension_x','Dimension_y','Score'])\n",
        "sns.FacetGrid(for_tsne_df, hue=\"Score\").map(plt.scatter, 'Dimension_x', 'Dimension_y').add_legend()\n",
        "plt.title(\"TF-IDF\")"
      ],
      "metadata": {
        "colab": {
          "base_uri": "https://localhost:8080/",
          "height": 346
        },
        "id": "zx938RGGMLdW",
        "outputId": "284f0ccd-6399-4664-9bd0-b0f99c201141"
      },
      "execution_count": null,
      "outputs": [
        {
          "output_type": "execute_result",
          "data": {
            "text/plain": [
              "Text(0.5, 1.0, 'TF-IDF')"
            ]
          },
          "metadata": {},
          "execution_count": 27
        },
        {
          "output_type": "display_data",
          "data": {
            "text/plain": [
              "<Figure size 412.75x300 with 1 Axes>"
            ],
            "image/png": "[encoded data removed]"
          },
          "metadata": {}
        }
      ]
    },
    {
      "cell_type": "code",
      "source": [
        "from sklearn.preprocessing import StandardScaler\n",
        "\n",
        "std_data2 = StandardScaler(with_mean = False).fit_transform(sent_vectors)\n",
        "print(std_data2.shape)\n",
        "type(std_data2)\n",
        "type(std_data2)"
      ],
      "metadata": {
        "colab": {
          "base_uri": "https://localhost:8080/"
        },
        "id": "bfUd9ndfMoD5",
        "outputId": "a208c1c5-98a4-4ef8-f659-6a2f102491ff"
      },
      "execution_count": null,
      "outputs": [
        {
          "output_type": "stream",
          "name": "stdout",
          "text": [
            "(500, 100)\n"
          ]
        },
        {
          "output_type": "execute_result",
          "data": {
            "text/plain": [
              "numpy.ndarray"
            ]
          },
          "metadata": {},
          "execution_count": 28
        }
      ]
    },
    {
      "cell_type": "code",
      "source": [
        "model = TSNE(n_components=2, perplexity=30, learning_rate=600, n_iter=500)\n",
        "\n",
        "for_tsne = model.fit_transform(std_data2)\n",
        "# if x is a sparse matrix you need to pass it as X_embedding = tsne.fit_transform(x.todense()) , .todense() will convert the sparse matrix into dense matrix\n",
        "\n",
        "for_tsne = np.vstack((for_tsne.T, score)).T\n",
        "for_tsne_df = pd.DataFrame(data=for_tsne, columns=['Dimension_x','Dimension_y','Score'])\n",
        "sns.FacetGrid(for_tsne_df, hue=\"Score\").map(plt.scatter, 'Dimension_x', 'Dimension_y').add_legend()\n",
        "plt.title(\"AVG W2V\")"
      ],
      "metadata": {
        "colab": {
          "base_uri": "https://localhost:8080/",
          "height": 346
        },
        "id": "Zky2zGo-MrJM",
        "outputId": "83ef1003-9481-4e6d-9f70-d24e988571b6"
      },
      "execution_count": null,
      "outputs": [
        {
          "output_type": "execute_result",
          "data": {
            "text/plain": [
              "Text(0.5, 1.0, 'AVG W2V')"
            ]
          },
          "metadata": {},
          "execution_count": 29
        },
        {
          "output_type": "display_data",
          "data": {
            "text/plain": [
              "<Figure size 412.75x300 with 1 Axes>"
            ],
            "image/png": "[encoded data removed]"
          },
          "metadata": {}
        }
      ]
    },
    {
      "cell_type": "code",
      "source": [
        "from sklearn.preprocessing import StandardScaler\n",
        "\n",
        "std_data3 = StandardScaler(with_mean = False).fit_transform(tfidf_sent_vectors)\n",
        "print(std_data3.shape)\n",
        "type(std_data3)\n",
        "type(std_data3)"
      ],
      "metadata": {
        "colab": {
          "base_uri": "https://localhost:8080/"
        },
        "id": "pSEHKk3sM2WI",
        "outputId": "67530d7d-1666-48ce-aa83-fb95f49c362d"
      },
      "execution_count": null,
      "outputs": [
        {
          "output_type": "stream",
          "name": "stdout",
          "text": [
            "(500, 100)\n"
          ]
        },
        {
          "output_type": "execute_result",
          "data": {
            "text/plain": [
              "numpy.ndarray"
            ]
          },
          "metadata": {},
          "execution_count": 30
        }
      ]
    },
    {
      "cell_type": "code",
      "source": [
        "model = TSNE(n_components=2, perplexity=40, learning_rate=600, n_iter=500)\n",
        "\n",
        "for_tsne = model.fit_transform(std_data3)\n",
        "# if x is a sparse matrix you need to pass it as X_embedding = tsne.fit_transform(x.todense()) , .todense() will convert the sparse matrix into dense matrix\n",
        "\n",
        "for_tsne = np.vstack((for_tsne.T, score)).T\n",
        "for_tsne_df = pd.DataFrame(data=for_tsne, columns=['Dimension_x','Dimension_y','Score'])\n",
        "sns.FacetGrid(for_tsne_df, hue=\"Score\").map(plt.scatter, 'Dimension_x', 'Dimension_y').add_legend()\n",
        "plt.title(\"Weighted W2V\")"
      ],
      "metadata": {
        "colab": {
          "base_uri": "https://localhost:8080/",
          "height": 346
        },
        "id": "FGRvmKgIM5fd",
        "outputId": "5bbc753a-cfd9-4097-a051-c78e1e7360d5"
      },
      "execution_count": null,
      "outputs": [
        {
          "output_type": "execute_result",
          "data": {
            "text/plain": [
              "Text(0.5, 1.0, 'Weighted W2V')"
            ]
          },
          "metadata": {},
          "execution_count": 31
        },
        {
          "output_type": "display_data",
          "data": {
            "text/plain": [
              "<Figure size 412.75x300 with 1 Axes>"
            ],
            "image/png": "[encoded data removed]"
          },
          "metadata": {}
        }
      ]
    }
  ]
}